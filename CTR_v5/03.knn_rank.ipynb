{
 "cells": [
  {
   "cell_type": "code",
   "execution_count": 1,
   "metadata": {},
   "outputs": [],
   "source": [
    "import pandas as pd\n",
    "import numpy as np\n",
    "import datetime\n",
    "import pickle\n",
    "from tqdm import tqdm, trange\n",
    "import matplotlib.pyplot as plt\n",
    "%matplotlib inline"
   ]
  },
  {
   "cell_type": "code",
   "execution_count": 2,
   "metadata": {},
   "outputs": [],
   "source": [
    "from os import listdir\n",
    "from os.path import isfile, isdir, join\n",
    "\n",
    "# 指定要列出所有檔案的目錄\n",
    "mypath = './weblog_sorted'\n",
    "# 取得所有檔案與子目錄名稱\n",
    "files = listdir(mypath)\n",
    "csv_list = []\n",
    "# 以迴圈處理\n",
    "for f in files:\n",
    "  # 產生檔案的絕對路徑\n",
    "  fullpath = join(mypath, f)\n",
    "  # 判斷 fullpath 是檔案還是目錄\n",
    "  if isfile(fullpath):\n",
    "#     print(\"檔案：\", f)\n",
    "    if f[-4:]=='.csv':\n",
    "        csv_list.append(f)\n",
    "csv_list.sort()"
   ]
  },
  {
   "cell_type": "code",
   "execution_count": 3,
   "metadata": {},
   "outputs": [],
   "source": [
    "with open('./item_data/dict_knn_table.pkl', 'rb') as file:\n",
    "    dict_knn_table = pickle.load(file)"
   ]
  },
  {
   "cell_type": "code",
   "execution_count": 6,
   "metadata": {
    "collapsed": true,
    "jupyter": {
     "outputs_hidden": true
    }
   },
   "outputs": [
    {
     "data": {
      "text/plain": [
       "['78d1674cb86811e98edaacde48001122',\n",
       " 'e35a473eb86611e996e5acde48001122',\n",
       " '00b24164b86811e99005acde48001122',\n",
       " 'cfb4512eb86711e9be44acde48001122',\n",
       " 'e3334026b86611e9a106acde48001122',\n",
       " '67fd6a1eb86911e9a163acde48001122',\n",
       " 'f5a28c58b86611e9a5f5acde48001122',\n",
       " 'e3604a08b86611e9b07dacde48001122',\n",
       " '00b23df4b86811e99f29acde48001122',\n",
       " 'e36e9f90b86611e98913acde48001122',\n",
       " '0103bc4cb86811e9847aacde48001122',\n",
       " '6c474a62b86711e9aa25acde48001122',\n",
       " '4e190a50b86811e98e20acde48001122',\n",
       " '6c223aa4b86711e9aba8acde48001122',\n",
       " 'd3483fd4b86811e98dc7acde48001122',\n",
       " '2f36c3d0b86711e9aa97acde48001122',\n",
       " '86d7f500b86c11e9a191acde48001122',\n",
       " '10282c46b86811e98670acde48001122',\n",
       " 'f5b669a8b86611e9936facde48001122',\n",
       " '052983ecb86d11e9a8a1acde48001122',\n",
       " '770841eeb86b11e9b664acde48001122',\n",
       " '1e8862d0b86911e98e7cacde48001122',\n",
       " 'd39aa89eb86a11e9bb5eacde48001122',\n",
       " '1ebdabe2b86a11e9b206acde48001122',\n",
       " '4709ea00b86711e9a948acde48001122',\n",
       " 'eecf5d78b86811e9b6ddacde48001122',\n",
       " '1785f83ab86711e98172acde48001122',\n",
       " '2f3829f0b86711e9bc8facde48001122',\n",
       " 'e3667d1ab86611e98fdbacde48001122',\n",
       " 'f80a8df4b86a11e9896aacde48001122',\n",
       " 'ba7b0f78b86711e98744acde48001122',\n",
       " '7ff8ae76b86911e9bc40acde48001122',\n",
       " '0ff83c00b86811e9a489acde48001122',\n",
       " '00b23c98b86811e98ddbacde48001122',\n",
       " '8bf4a468b86811e98053acde48001122',\n",
       " '64dfd926b86811e9b07bacde48001122',\n",
       " '7e67e1c8b86711e9ae3eacde48001122',\n",
       " '90ee7a50b86711e9a313acde48001122',\n",
       " '10282c9eb86811e9b286acde48001122',\n",
       " '91aa4eb8b86911e98af5acde48001122',\n",
       " '1e9eb210b86911e99ab1acde48001122',\n",
       " '00b23fc0b86811e9a425acde48001122',\n",
       " '08e4b14ab86911e995b6acde48001122',\n",
       " 'adbde3d8b86811e99e59acde48001122',\n",
       " 'c1724942b86a11e99603acde48001122',\n",
       " '385b2498b86811e98eb8acde48001122',\n",
       " '5bf2e4e4b86711e986cfacde48001122',\n",
       " '00fd279cb86811e983a1acde48001122',\n",
       " '47aa090cb86711e9b547acde48001122',\n",
       " 'e38568c6b86611e9ad32acde48001122',\n",
       " 'f59a405cb86611e9a87bacde48001122',\n",
       " '0103bd1eb86811e9aa94acde48001122',\n",
       " '91195ffeb86711e9a425acde48001122',\n",
       " '07035702b86711e98960acde48001122',\n",
       " 'd8d09ee6b86911e9834aacde48001122',\n",
       " '572db1d4b86a11e98f11acde48001122',\n",
       " '00d1511cb86811e9aa23acde48001122',\n",
       " '7e908a88b86711e98b28acde48001122',\n",
       " '1016650cb86811e980d4acde48001122',\n",
       " '38a9978cb86811e9959eacde48001122',\n",
       " 'e32cb350b86611e99988acde48001122',\n",
       " '00cfac0cb86811e9bcffacde48001122',\n",
       " '17685a5cb86711e99f83acde48001122',\n",
       " 'bab9998cb86711e9a12eacde48001122',\n",
       " '4687db8cb86a11e9872cacde48001122',\n",
       " 'adc5ff94b86811e99ae2acde48001122',\n",
       " '25de2180b86b11e9ac5eacde48001122',\n",
       " '226a06a2b86811e9abe2acde48001122',\n",
       " '475562beb86711e9aff2acde48001122',\n",
       " '9a9cb2d2b86811e99b7facde48001122',\n",
       " 'f5ca2592b86611e9b446acde48001122',\n",
       " 'adcad33eb86811e9bc29acde48001122',\n",
       " 'f5ae9db8b86611e988c1acde48001122',\n",
       " '2f36c7f4b86711e9ad6eacde48001122',\n",
       " '1776dc80b86711e9b452acde48001122',\n",
       " '382a5000b86811e9a428acde48001122',\n",
       " '07173218b86711e98c15acde48001122',\n",
       " 'e376d7dcb86611e9bd09acde48001122',\n",
       " 'ed36cca4b86711e9bd85acde48001122',\n",
       " '5bf573a8b86711e98a43acde48001122',\n",
       " '09bb2b28b86a11e9982facde48001122',\n",
       " '17433e28b86711e9b7c3acde48001122',\n",
       " 'f5a83646b86611e9a7adacde48001122',\n",
       " '6e0a48acb86c11e99b02acde48001122',\n",
       " '68184c26b86911e9b2d3acde48001122',\n",
       " '35fd2e5eb86a11e9b537acde48001122',\n",
       " '1e89a0a8b86911e9b714acde48001122',\n",
       " '8bf4a212b86811e99b39acde48001122',\n",
       " 'bad7d474b86711e9836aacde48001122',\n",
       " '78b6af68b86811e984c7acde48001122',\n",
       " '48272286b86911e98652acde48001122',\n",
       " '5be45cd0b86711e99fa9acde48001122',\n",
       " '63e31fc6b86b11e985d4acde48001122',\n",
       " '6c100f1eb86711e99c0dacde48001122',\n",
       " '2f522026b86711e989e6acde48001122',\n",
       " '9113891cb86711e9b4d5acde48001122',\n",
       " '91aa4e0cb86911e9a84dacde48001122',\n",
       " 'a08e113ab86911e9b6d1acde48001122',\n",
       " '47149464b86711e9a9feacde48001122']"
      ]
     },
     "execution_count": 6,
     "metadata": {},
     "output_type": "execute_result"
    }
   ],
   "source": [
    "dict_knn_table['c3068248b86811e9b93facde48001122']"
   ]
  },
  {
   "cell_type": "code",
   "execution_count": 5,
   "metadata": {},
   "outputs": [],
   "source": [
    "df_knn_rank = []"
   ]
  },
  {
   "cell_type": "code",
   "execution_count": 7,
   "metadata": {},
   "outputs": [
    {
     "name": "stderr",
     "output_type": "stream",
     "text": [
      "122it [05:23,  2.65s/it]\n"
     ]
    }
   ],
   "source": [
    "for idx, date in tqdm(enumerate(csv_list)):\n",
    "    with open('./pid_pairs/' + 'pid_pairs_' + date[:-4] + '.pkl', 'rb') as file:\n",
    "        pid_pair_date = pickle.load(file)\n",
    "\n",
    "    df_knn_rank.append(pd.DataFrame(pid_pair_date, columns=['target', 'next']))\n",
    "\n",
    "    def ranking(r):\n",
    "        if r.target in dict_knn_table:\n",
    "            ids = dict_knn_table[r.target]\n",
    "#             ids, cos = zip(*lt)\n",
    "            try:\n",
    "                rank = ids.index(r.next) + 1\n",
    "            except:\n",
    "                rank = np.nan\n",
    "        else:\n",
    "            rank = np.nan\n",
    "        return rank\n",
    "\n",
    "    df_knn_rank[idx]['rank'] = df_knn_rank[idx].apply(ranking, axis=1)"
   ]
  },
  {
   "cell_type": "code",
   "execution_count": 8,
   "metadata": {},
   "outputs": [],
   "source": [
    "with open('./knn_result/lt_df_knn_rank_122days.pkl', 'wb') as file:\n",
    "    pickle.dump(df_knn_rank, file)"
   ]
  },
  {
   "cell_type": "markdown",
   "metadata": {},
   "source": [
    "---"
   ]
  },
  {
   "cell_type": "code",
   "execution_count": 12,
   "metadata": {},
   "outputs": [],
   "source": [
    "df_knn_rank_all = pd.concat(df_knn_rank)"
   ]
  },
  {
   "cell_type": "code",
   "execution_count": 13,
   "metadata": {},
   "outputs": [
    {
     "data": {
      "text/html": [
       "<div>\n",
       "<style scoped>\n",
       "    .dataframe tbody tr th:only-of-type {\n",
       "        vertical-align: middle;\n",
       "    }\n",
       "\n",
       "    .dataframe tbody tr th {\n",
       "        vertical-align: top;\n",
       "    }\n",
       "\n",
       "    .dataframe thead th {\n",
       "        text-align: right;\n",
       "    }\n",
       "</style>\n",
       "<table border=\"1\" class=\"dataframe\">\n",
       "  <thead>\n",
       "    <tr style=\"text-align: right;\">\n",
       "      <th></th>\n",
       "      <th>target</th>\n",
       "      <th>next</th>\n",
       "      <th>rank</th>\n",
       "    </tr>\n",
       "  </thead>\n",
       "  <tbody>\n",
       "    <tr>\n",
       "      <td>0</td>\n",
       "      <td>e3253e4ab86611e98070acde48001122</td>\n",
       "      <td>e32641b4b86611e9a12dacde48001122</td>\n",
       "      <td>NaN</td>\n",
       "    </tr>\n",
       "    <tr>\n",
       "      <td>1</td>\n",
       "      <td>e32641b4b86611e9a12dacde48001122</td>\n",
       "      <td>e3253e4ab86611e98070acde48001122</td>\n",
       "      <td>7.0</td>\n",
       "    </tr>\n",
       "    <tr>\n",
       "      <td>2</td>\n",
       "      <td>e3253e4ab86611e98070acde48001122</td>\n",
       "      <td>e32641e6b86611e9afdfacde48001122</td>\n",
       "      <td>NaN</td>\n",
       "    </tr>\n",
       "    <tr>\n",
       "      <td>3</td>\n",
       "      <td>e32641e6b86611e9afdfacde48001122</td>\n",
       "      <td>e32642d8b86611e99cc6acde48001122</td>\n",
       "      <td>NaN</td>\n",
       "    </tr>\n",
       "    <tr>\n",
       "      <td>4</td>\n",
       "      <td>e32642d8b86611e99cc6acde48001122</td>\n",
       "      <td>e32642a4b86611e984feacde48001122</td>\n",
       "      <td>NaN</td>\n",
       "    </tr>\n",
       "    <tr>\n",
       "      <td>...</td>\n",
       "      <td>...</td>\n",
       "      <td>...</td>\n",
       "      <td>...</td>\n",
       "    </tr>\n",
       "    <tr>\n",
       "      <td>78353</td>\n",
       "      <td>8016cfa4b86f11e9a21eacde48001122</td>\n",
       "      <td>8016cfa4b86f11e9a21eacde48001122</td>\n",
       "      <td>NaN</td>\n",
       "    </tr>\n",
       "    <tr>\n",
       "      <td>78354</td>\n",
       "      <td>5bdbc458b86711e9a4e9acde48001122</td>\n",
       "      <td>c36100ccb86811e9bd4cacde48001122</td>\n",
       "      <td>NaN</td>\n",
       "    </tr>\n",
       "    <tr>\n",
       "      <td>78355</td>\n",
       "      <td>c36100ccb86811e9bd4cacde48001122</td>\n",
       "      <td>5bdbc458b86711e9a4e9acde48001122</td>\n",
       "      <td>27.0</td>\n",
       "    </tr>\n",
       "    <tr>\n",
       "      <td>78356</td>\n",
       "      <td>09b10d70b86a11e9a3adacde48001122</td>\n",
       "      <td>09b10d70b86a11e9a3adacde48001122</td>\n",
       "      <td>NaN</td>\n",
       "    </tr>\n",
       "    <tr>\n",
       "      <td>78357</td>\n",
       "      <td>8016cfa4b86f11e9a21eacde48001122</td>\n",
       "      <td>8016cfa4b86f11e9a21eacde48001122</td>\n",
       "      <td>NaN</td>\n",
       "    </tr>\n",
       "  </tbody>\n",
       "</table>\n",
       "<p>13836074 rows × 3 columns</p>\n",
       "</div>"
      ],
      "text/plain": [
       "                                 target                              next  \\\n",
       "0      e3253e4ab86611e98070acde48001122  e32641b4b86611e9a12dacde48001122   \n",
       "1      e32641b4b86611e9a12dacde48001122  e3253e4ab86611e98070acde48001122   \n",
       "2      e3253e4ab86611e98070acde48001122  e32641e6b86611e9afdfacde48001122   \n",
       "3      e32641e6b86611e9afdfacde48001122  e32642d8b86611e99cc6acde48001122   \n",
       "4      e32642d8b86611e99cc6acde48001122  e32642a4b86611e984feacde48001122   \n",
       "...                                 ...                               ...   \n",
       "78353  8016cfa4b86f11e9a21eacde48001122  8016cfa4b86f11e9a21eacde48001122   \n",
       "78354  5bdbc458b86711e9a4e9acde48001122  c36100ccb86811e9bd4cacde48001122   \n",
       "78355  c36100ccb86811e9bd4cacde48001122  5bdbc458b86711e9a4e9acde48001122   \n",
       "78356  09b10d70b86a11e9a3adacde48001122  09b10d70b86a11e9a3adacde48001122   \n",
       "78357  8016cfa4b86f11e9a21eacde48001122  8016cfa4b86f11e9a21eacde48001122   \n",
       "\n",
       "       rank  \n",
       "0       NaN  \n",
       "1       7.0  \n",
       "2       NaN  \n",
       "3       NaN  \n",
       "4       NaN  \n",
       "...     ...  \n",
       "78353   NaN  \n",
       "78354   NaN  \n",
       "78355  27.0  \n",
       "78356   NaN  \n",
       "78357   NaN  \n",
       "\n",
       "[13836074 rows x 3 columns]"
      ]
     },
     "execution_count": 13,
     "metadata": {},
     "output_type": "execute_result"
    }
   ],
   "source": [
    "df_knn_rank_all"
   ]
  },
  {
   "cell_type": "code",
   "execution_count": 14,
   "metadata": {},
   "outputs": [],
   "source": [
    "df_knn_rank_all.dropna(inplace=True)"
   ]
  },
  {
   "cell_type": "code",
   "execution_count": 15,
   "metadata": {},
   "outputs": [
    {
     "data": {
      "text/plain": [
       "4671583"
      ]
     },
     "execution_count": 15,
     "metadata": {},
     "output_type": "execute_result"
    }
   ],
   "source": [
    "len(df_knn_rank_all)"
   ]
  },
  {
   "cell_type": "code",
   "execution_count": 16,
   "metadata": {},
   "outputs": [
    {
     "data": {
      "text/plain": [
       "0.3376379021968226"
      ]
     },
     "execution_count": 16,
     "metadata": {},
     "output_type": "execute_result"
    }
   ],
   "source": [
    "4671583 / 13836074"
   ]
  },
  {
   "cell_type": "code",
   "execution_count": 18,
   "metadata": {},
   "outputs": [
    {
     "data": {
      "text/html": [
       "<div>\n",
       "<style scoped>\n",
       "    .dataframe tbody tr th:only-of-type {\n",
       "        vertical-align: middle;\n",
       "    }\n",
       "\n",
       "    .dataframe tbody tr th {\n",
       "        vertical-align: top;\n",
       "    }\n",
       "\n",
       "    .dataframe thead th {\n",
       "        text-align: right;\n",
       "    }\n",
       "</style>\n",
       "<table border=\"1\" class=\"dataframe\">\n",
       "  <thead>\n",
       "    <tr style=\"text-align: right;\">\n",
       "      <th></th>\n",
       "      <th>rank</th>\n",
       "    </tr>\n",
       "  </thead>\n",
       "  <tbody>\n",
       "    <tr>\n",
       "      <td>count</td>\n",
       "      <td>4671583.00</td>\n",
       "    </tr>\n",
       "    <tr>\n",
       "      <td>mean</td>\n",
       "      <td>20.49</td>\n",
       "    </tr>\n",
       "    <tr>\n",
       "      <td>std</td>\n",
       "      <td>24.38</td>\n",
       "    </tr>\n",
       "    <tr>\n",
       "      <td>min</td>\n",
       "      <td>1.00</td>\n",
       "    </tr>\n",
       "    <tr>\n",
       "      <td>25%</td>\n",
       "      <td>3.00</td>\n",
       "    </tr>\n",
       "    <tr>\n",
       "      <td>50%</td>\n",
       "      <td>9.00</td>\n",
       "    </tr>\n",
       "    <tr>\n",
       "      <td>75%</td>\n",
       "      <td>30.00</td>\n",
       "    </tr>\n",
       "    <tr>\n",
       "      <td>max</td>\n",
       "      <td>99.00</td>\n",
       "    </tr>\n",
       "  </tbody>\n",
       "</table>\n",
       "</div>"
      ],
      "text/plain": [
       "            rank\n",
       "count 4671583.00\n",
       "mean       20.49\n",
       "std        24.38\n",
       "min         1.00\n",
       "25%         3.00\n",
       "50%         9.00\n",
       "75%        30.00\n",
       "max        99.00"
      ]
     },
     "execution_count": 18,
     "metadata": {},
     "output_type": "execute_result"
    }
   ],
   "source": [
    "pd.set_option('display.float_format',lambda x : '%.2f' % x)\n",
    "df_knn_rank_all.describe()"
   ]
  },
  {
   "cell_type": "code",
   "execution_count": null,
   "metadata": {},
   "outputs": [],
   "source": []
  }
 ],
 "metadata": {
  "kernelspec": {
   "display_name": "Python 3",
   "language": "python",
   "name": "python3"
  },
  "language_info": {
   "codemirror_mode": {
    "name": "ipython",
    "version": 3
   },
   "file_extension": ".py",
   "mimetype": "text/x-python",
   "name": "python",
   "nbconvert_exporter": "python",
   "pygments_lexer": "ipython3",
   "version": "3.7.5"
  }
 },
 "nbformat": 4,
 "nbformat_minor": 4
}
