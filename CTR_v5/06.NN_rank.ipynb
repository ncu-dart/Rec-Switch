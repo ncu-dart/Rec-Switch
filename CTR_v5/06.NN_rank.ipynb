{
 "cells": [
  {
   "cell_type": "code",
   "execution_count": 1,
   "metadata": {},
   "outputs": [],
   "source": [
    "import pandas as pd\n",
    "import numpy as np\n",
    "import datetime\n",
    "import time\n",
    "import pickle\n",
    "from tqdm import tqdm\n",
    "import matplotlib.pyplot as plt\n",
    "%matplotlib inline\n",
    "from collections import Counter\n",
    "from random import choices, sample\n",
    "from gensim.models import Word2Vec\n",
    "import gc\n",
    "pd.set_option('display.float_format',lambda x : '%.2f' % x)"
   ]
  },
  {
   "cell_type": "code",
   "execution_count": 2,
   "metadata": {},
   "outputs": [],
   "source": [
    "NN_tables = []\n",
    "for part in range(1, 5):\n",
    "    with open('./dict_NN_table/NN_table_'+ str(part) +'.pkl', 'rb') as file:\n",
    "        NN_tables.append(pickle.load(file))"
   ]
  },
  {
   "cell_type": "code",
   "execution_count": 3,
   "metadata": {},
   "outputs": [],
   "source": [
    "with open('./knn_result/lt_df_knn_rank_122days.pkl', 'rb') as file:\n",
    "    lt_df_knn_rank = pickle.load(file)"
   ]
  },
  {
   "cell_type": "code",
   "execution_count": 4,
   "metadata": {},
   "outputs": [],
   "source": [
    "for i in range(len(lt_df_knn_rank)):\n",
    "    lt_df_knn_rank[i].dropna(inplace=True)"
   ]
  },
  {
   "cell_type": "code",
   "execution_count": 5,
   "metadata": {},
   "outputs": [
    {
     "data": {
      "text/html": [
       "<div>\n",
       "<style scoped>\n",
       "    .dataframe tbody tr th:only-of-type {\n",
       "        vertical-align: middle;\n",
       "    }\n",
       "\n",
       "    .dataframe tbody tr th {\n",
       "        vertical-align: top;\n",
       "    }\n",
       "\n",
       "    .dataframe thead th {\n",
       "        text-align: right;\n",
       "    }\n",
       "</style>\n",
       "<table border=\"1\" class=\"dataframe\">\n",
       "  <thead>\n",
       "    <tr style=\"text-align: right;\">\n",
       "      <th></th>\n",
       "      <th>target</th>\n",
       "      <th>next</th>\n",
       "      <th>rank</th>\n",
       "    </tr>\n",
       "  </thead>\n",
       "  <tbody>\n",
       "    <tr>\n",
       "      <th>1</th>\n",
       "      <td>e32641b4b86611e9a12dacde48001122</td>\n",
       "      <td>e3253e4ab86611e98070acde48001122</td>\n",
       "      <td>7.00</td>\n",
       "    </tr>\n",
       "    <tr>\n",
       "      <th>7</th>\n",
       "      <td>e32d8d66b86611e9bf79acde48001122</td>\n",
       "      <td>e32c2b24b86611e996adacde48001122</td>\n",
       "      <td>11.00</td>\n",
       "    </tr>\n",
       "    <tr>\n",
       "      <th>8</th>\n",
       "      <td>e32c2b24b86611e996adacde48001122</td>\n",
       "      <td>e34876eeb86611e98b8aacde48001122</td>\n",
       "      <td>4.00</td>\n",
       "    </tr>\n",
       "    <tr>\n",
       "      <th>9</th>\n",
       "      <td>e34876eeb86611e98b8aacde48001122</td>\n",
       "      <td>e32c2b24b86611e996adacde48001122</td>\n",
       "      <td>36.00</td>\n",
       "    </tr>\n",
       "    <tr>\n",
       "      <th>10</th>\n",
       "      <td>e32c2b24b86611e996adacde48001122</td>\n",
       "      <td>e348775cb86611e992caacde48001122</td>\n",
       "      <td>33.00</td>\n",
       "    </tr>\n",
       "    <tr>\n",
       "      <th>...</th>\n",
       "      <td>...</td>\n",
       "      <td>...</td>\n",
       "      <td>...</td>\n",
       "    </tr>\n",
       "    <tr>\n",
       "      <th>69705</th>\n",
       "      <td>e34053e2b86611e9bbbdacde48001122</td>\n",
       "      <td>e3405392b86611e988caacde48001122</td>\n",
       "      <td>1.00</td>\n",
       "    </tr>\n",
       "    <tr>\n",
       "      <th>69706</th>\n",
       "      <td>e3405392b86611e988caacde48001122</td>\n",
       "      <td>e34053e2b86611e9bbbdacde48001122</td>\n",
       "      <td>1.00</td>\n",
       "    </tr>\n",
       "    <tr>\n",
       "      <th>69708</th>\n",
       "      <td>e3350302b86611e9898facde48001122</td>\n",
       "      <td>e34a941ab86611e98e5bacde48001122</td>\n",
       "      <td>1.00</td>\n",
       "    </tr>\n",
       "    <tr>\n",
       "      <th>69709</th>\n",
       "      <td>e34a941ab86611e98e5bacde48001122</td>\n",
       "      <td>e32a3e74b86611e9a17cacde48001122</td>\n",
       "      <td>7.00</td>\n",
       "    </tr>\n",
       "    <tr>\n",
       "      <th>69713</th>\n",
       "      <td>e3882ce4b86611e9af81acde48001122</td>\n",
       "      <td>e3392cf4b86611e9b693acde48001122</td>\n",
       "      <td>8.00</td>\n",
       "    </tr>\n",
       "  </tbody>\n",
       "</table>\n",
       "<p>26126 rows × 3 columns</p>\n",
       "</div>"
      ],
      "text/plain": [
       "                                 target                              next  \\\n",
       "1      e32641b4b86611e9a12dacde48001122  e3253e4ab86611e98070acde48001122   \n",
       "7      e32d8d66b86611e9bf79acde48001122  e32c2b24b86611e996adacde48001122   \n",
       "8      e32c2b24b86611e996adacde48001122  e34876eeb86611e98b8aacde48001122   \n",
       "9      e34876eeb86611e98b8aacde48001122  e32c2b24b86611e996adacde48001122   \n",
       "10     e32c2b24b86611e996adacde48001122  e348775cb86611e992caacde48001122   \n",
       "...                                 ...                               ...   \n",
       "69705  e34053e2b86611e9bbbdacde48001122  e3405392b86611e988caacde48001122   \n",
       "69706  e3405392b86611e988caacde48001122  e34053e2b86611e9bbbdacde48001122   \n",
       "69708  e3350302b86611e9898facde48001122  e34a941ab86611e98e5bacde48001122   \n",
       "69709  e34a941ab86611e98e5bacde48001122  e32a3e74b86611e9a17cacde48001122   \n",
       "69713  e3882ce4b86611e9af81acde48001122  e3392cf4b86611e9b693acde48001122   \n",
       "\n",
       "       rank  \n",
       "1      7.00  \n",
       "7     11.00  \n",
       "8      4.00  \n",
       "9     36.00  \n",
       "10    33.00  \n",
       "...     ...  \n",
       "69705  1.00  \n",
       "69706  1.00  \n",
       "69708  1.00  \n",
       "69709  7.00  \n",
       "69713  8.00  \n",
       "\n",
       "[26126 rows x 3 columns]"
      ]
     },
     "execution_count": 5,
     "metadata": {},
     "output_type": "execute_result"
    }
   ],
   "source": [
    "lt_df_knn_rank[0]"
   ]
  },
  {
   "cell_type": "code",
   "execution_count": 6,
   "metadata": {},
   "outputs": [],
   "source": [
    "def ranking(r):\n",
    "    for part in range(4):\n",
    "        if r.target in NN_tables[part]:\n",
    "            lt = NN_tables[part][r.target]\n",
    "            ids, score = zip(*lt)\n",
    "            try:\n",
    "                rank = ids.index(r.next) + 1\n",
    "            except:\n",
    "                rank = np.nan\n",
    "            break\n",
    "    else:\n",
    "        rank = np.nan\n",
    "    return rank"
   ]
  },
  {
   "cell_type": "code",
   "execution_count": 7,
   "metadata": {},
   "outputs": [
    {
     "name": "stderr",
     "output_type": "stream",
     "text": [
      "100%|██████████| 122/122 [03:48<00:00,  1.87s/it]\n"
     ]
    }
   ],
   "source": [
    "for i in tqdm(range(len(lt_df_knn_rank))):\n",
    "    lt_df_knn_rank[i]['NN_rank'] = lt_df_knn_rank[i].apply(ranking, axis=1)"
   ]
  },
  {
   "cell_type": "code",
   "execution_count": 8,
   "metadata": {},
   "outputs": [],
   "source": [
    "with open('./NN_result/lt_df_NN_rank_122days.pkl', 'wb') as file:\n",
    "    pickle.dump(lt_df_knn_rank, file)"
   ]
  }
 ],
 "metadata": {
  "kernelspec": {
   "display_name": "Python 3",
   "language": "python",
   "name": "python3"
  },
  "language_info": {
   "codemirror_mode": {
    "name": "ipython",
    "version": 3
   },
   "file_extension": ".py",
   "mimetype": "text/x-python",
   "name": "python",
   "nbconvert_exporter": "python",
   "pygments_lexer": "ipython3",
   "version": "3.7.5"
  }
 },
 "nbformat": 4,
 "nbformat_minor": 4
}
