{
 "cells": [
  {
   "cell_type": "code",
   "execution_count": 1,
   "metadata": {},
   "outputs": [],
   "source": [
    "import pandas as pd\n",
    "import numpy as np\n",
    "import datetime\n",
    "import time\n",
    "import pickle\n",
    "from tqdm import tqdm\n",
    "import matplotlib.pyplot as plt\n",
    "%matplotlib inline\n",
    "from collections import Counter\n",
    "from random import choices, sample"
   ]
  },
  {
   "cell_type": "code",
   "execution_count": 2,
   "metadata": {},
   "outputs": [],
   "source": [
    "from os import listdir\n",
    "from os.path import isfile, isdir, join\n",
    "\n",
    "# 指定要列出所有檔案的目錄\n",
    "mypath = './weblog_sorted'\n",
    "# 取得所有檔案與子目錄名稱\n",
    "files = listdir(mypath)\n",
    "csv_list = []\n",
    "# 以迴圈處理\n",
    "for f in files:\n",
    "  # 產生檔案的絕對路徑\n",
    "  fullpath = join(mypath, f)\n",
    "  # 判斷 fullpath 是檔案還是目錄\n",
    "  if isfile(fullpath):\n",
    "#     print(\"檔案：\", f)\n",
    "    if f[-4:]=='.csv':\n",
    "        csv_list.append(f)\n",
    "csv_list.sort()"
   ]
  },
  {
   "cell_type": "code",
   "execution_count": 3,
   "metadata": {},
   "outputs": [],
   "source": [
    "def negative_sampling(samples, num_of_samples):\n",
    "    from collections import Counter\n",
    "    ctr = Counter(samples)\n",
    "    dict_ctr_freq = {}\n",
    "    for i in ctr:\n",
    "        dict_ctr_freq[i] = ctr[i] / len(samples)\n",
    "    numerator = { pid: freq ** 0.75 for pid, freq in dict_ctr_freq.items()}\n",
    "    denominator = sum(numerator.values())\n",
    "    prob = { pid: freq_f/denominator for pid, freq_f in numerator.items()}\n",
    "    from random import choices\n",
    "    return choices(list(prob.keys()), weights=list(prob.values()),k=num_of_samples)"
   ]
  },
  {
   "cell_type": "code",
   "execution_count": 4,
   "metadata": {},
   "outputs": [],
   "source": [
    "def freq_sampling(samples, num_of_samples):\n",
    "    from collections import Counter\n",
    "    ctr = Counter(samples)\n",
    "    dict_ctr_freq = {}\n",
    "    for i in ctr:\n",
    "        dict_ctr_freq[i] = ctr[i] / len(samples)\n",
    "    from random import choices\n",
    "    return choices(list(dict_ctr_freq.keys()), weights=list(dict_ctr_freq.values()),k=num_of_samples)"
   ]
  },
  {
   "cell_type": "markdown",
   "metadata": {},
   "source": [
    "---"
   ]
  },
  {
   "cell_type": "code",
   "execution_count": 5,
   "metadata": {},
   "outputs": [],
   "source": [
    "with open('./item_data/en_behavior_emb.pkl', 'rb') as file:\n",
    "    emb = pickle.load(file)"
   ]
  },
  {
   "cell_type": "code",
   "execution_count": 6,
   "metadata": {},
   "outputs": [
    {
     "name": "stderr",
     "output_type": "stream",
     "text": [
      "100%|██████████| 14/14 [00:00<00:00, 59.76it/s]"
     ]
    },
    {
     "name": "stdout",
     "output_type": "stream",
     "text": [
      "1434877\n"
     ]
    },
    {
     "name": "stderr",
     "output_type": "stream",
     "text": [
      "\n"
     ]
    }
   ],
   "source": [
    "pid_pairs_all = []\n",
    "for date in tqdm(csv_list[:14]):\n",
    "    with open('./pid_pairs/pid_pairs_' + date[:-4] + '.pkl', 'rb') as file:\n",
    "        pid_pairs_all += pickle.load(file)\n",
    "print(len(pid_pairs_all))"
   ]
  },
  {
   "cell_type": "code",
   "execution_count": 7,
   "metadata": {},
   "outputs": [
    {
     "name": "stderr",
     "output_type": "stream",
     "text": [
      "100%|██████████| 122/122 [00:02<00:00, 55.59it/s]\n"
     ]
    }
   ],
   "source": [
    "pid_pairs_all = []\n",
    "for date in tqdm(csv_list):\n",
    "    with open('./pid_pairs/pid_pairs_' + date[:-4] + '.pkl', 'rb') as file:\n",
    "        pid_pairs_all += pickle.load(file)"
   ]
  },
  {
   "cell_type": "code",
   "execution_count": 8,
   "metadata": {},
   "outputs": [
    {
     "data": {
      "text/plain": [
       "13836074"
      ]
     },
     "execution_count": 8,
     "metadata": {},
     "output_type": "execute_result"
    }
   ],
   "source": [
    "len(pid_pairs_all)"
   ]
  },
  {
   "cell_type": "code",
   "execution_count": 9,
   "metadata": {},
   "outputs": [
    {
     "data": {
      "text/plain": [
       "0.10370550200873456"
      ]
     },
     "execution_count": 9,
     "metadata": {},
     "output_type": "execute_result"
    }
   ],
   "source": [
    "1434877 / len(pid_pairs_all)"
   ]
  },
  {
   "cell_type": "code",
   "execution_count": 10,
   "metadata": {},
   "outputs": [],
   "source": [
    "target, _next = zip(*pid_pairs_all[:1434877])"
   ]
  },
  {
   "cell_type": "code",
   "execution_count": 11,
   "metadata": {},
   "outputs": [
    {
     "data": {
      "text/plain": [
       "1434877"
      ]
     },
     "execution_count": 11,
     "metadata": {},
     "output_type": "execute_result"
    }
   ],
   "source": [
    "len(target)"
   ]
  },
  {
   "cell_type": "code",
   "execution_count": 12,
   "metadata": {},
   "outputs": [],
   "source": [
    "SAMPLE_SIZE = 1434877"
   ]
  },
  {
   "cell_type": "code",
   "execution_count": 13,
   "metadata": {},
   "outputs": [],
   "source": [
    "# positive_pairs = freq_sampling(iid_pairs, SAMPLE_SIZE)"
   ]
  },
  {
   "cell_type": "code",
   "execution_count": 14,
   "metadata": {},
   "outputs": [],
   "source": [
    "positive_pairs = pid_pairs_all[:1434877]"
   ]
  },
  {
   "cell_type": "code",
   "execution_count": 15,
   "metadata": {},
   "outputs": [],
   "source": [
    "# negative_pairs = list(zip(freq_sampling(target, SAMPLE_SIZE), negative_sampling(_next, SAMPLE_SIZE)))\n",
    "negative_pairs = list(zip(target, negative_sampling(_next, SAMPLE_SIZE)))"
   ]
  },
  {
   "cell_type": "code",
   "execution_count": 16,
   "metadata": {},
   "outputs": [],
   "source": [
    "def yield_can_found_pair_emb(pairs): # drop_not_found\n",
    "    for pair in tqdm(pairs):\n",
    "        if pair[0] in emb and pair[1] in emb:\n",
    "            yield (emb[pair[0]], emb[pair[1]])"
   ]
  },
  {
   "cell_type": "code",
   "execution_count": 17,
   "metadata": {},
   "outputs": [
    {
     "name": "stderr",
     "output_type": "stream",
     "text": [
      "100%|██████████| 1434877/1434877 [00:05<00:00, 282043.43it/s]\n",
      "100%|██████████| 1434877/1434877 [00:05<00:00, 267646.48it/s]\n"
     ]
    }
   ],
   "source": [
    "positive_training_data = [np.hstack(pair) for pair in yield_can_found_pair_emb(positive_pairs)]\n",
    "negative_training_data = [np.hstack(pair) for pair in yield_can_found_pair_emb(negative_pairs)]\n",
    "positive_sample_size = len(positive_training_data)\n",
    "negative_sample_size = len(negative_training_data)\n",
    "training_data_sample = np.vstack((positive_training_data, negative_training_data))"
   ]
  },
  {
   "cell_type": "code",
   "execution_count": 18,
   "metadata": {},
   "outputs": [
    {
     "data": {
      "text/plain": [
       "numpy.ndarray"
      ]
     },
     "execution_count": 18,
     "metadata": {},
     "output_type": "execute_result"
    }
   ],
   "source": [
    "type(training_data_sample)"
   ]
  },
  {
   "cell_type": "code",
   "execution_count": 19,
   "metadata": {},
   "outputs": [
    {
     "data": {
      "text/plain": [
       "(2274919, 256)"
      ]
     },
     "execution_count": 19,
     "metadata": {},
     "output_type": "execute_result"
    }
   ],
   "source": [
    "training_data_sample.shape"
   ]
  },
  {
   "cell_type": "code",
   "execution_count": 20,
   "metadata": {},
   "outputs": [
    {
     "data": {
      "text/plain": [
       "(1192351, 1082568)"
      ]
     },
     "execution_count": 20,
     "metadata": {},
     "output_type": "execute_result"
    }
   ],
   "source": [
    "(positive_sample_size, negative_sample_size)"
   ]
  },
  {
   "cell_type": "code",
   "execution_count": 21,
   "metadata": {},
   "outputs": [],
   "source": [
    "ones = np.ones((positive_sample_size, 1))\n",
    "zeros = np.zeros((negative_sample_size, 1))\n",
    "label = np.vstack((ones, zeros))"
   ]
  },
  {
   "cell_type": "code",
   "execution_count": 22,
   "metadata": {},
   "outputs": [
    {
     "data": {
      "text/plain": [
       "(2274919, 1)"
      ]
     },
     "execution_count": 22,
     "metadata": {},
     "output_type": "execute_result"
    }
   ],
   "source": [
    "label.shape"
   ]
  },
  {
   "cell_type": "markdown",
   "metadata": {},
   "source": [
    "---"
   ]
  },
  {
   "cell_type": "code",
   "execution_count": 23,
   "metadata": {},
   "outputs": [
    {
     "name": "stderr",
     "output_type": "stream",
     "text": [
      "Using TensorFlow backend.\n"
     ]
    }
   ],
   "source": [
    "from sklearn.model_selection import train_test_split\n",
    "from keras import models, layers, optimizers, losses, metrics, callbacks"
   ]
  },
  {
   "cell_type": "code",
   "execution_count": 24,
   "metadata": {},
   "outputs": [],
   "source": [
    "X_train, y_train = training_data_sample, label"
   ]
  },
  {
   "cell_type": "code",
   "execution_count": 25,
   "metadata": {},
   "outputs": [],
   "source": [
    "model = models.Sequential()\n",
    "model.add(layers.Dense(512, activation='linear', input_shape=(256,)))\n",
    "model.add(layers.LeakyReLU(alpha=0.3))\n",
    "model.add(layers.Dense(256, activation='linear'))\n",
    "model.add(layers.LeakyReLU(alpha=0.3))\n",
    "model.add(layers.Dense(128, activation='linear'))\n",
    "model.add(layers.LeakyReLU(alpha=0.3))\n",
    "model.add(layers.Dense(64, activation='linear'))\n",
    "model.add(layers.LeakyReLU(alpha=0.3))\n",
    "model.add(layers.Dense(1, activation='sigmoid'))"
   ]
  },
  {
   "cell_type": "code",
   "execution_count": 26,
   "metadata": {},
   "outputs": [],
   "source": [
    "model.compile(optimizer=optimizers.RMSprop(lr=0.001),\n",
    "             loss=losses.binary_crossentropy,\n",
    "             metrics=[metrics.mse])"
   ]
  },
  {
   "cell_type": "code",
   "execution_count": 27,
   "metadata": {},
   "outputs": [
    {
     "name": "stdout",
     "output_type": "stream",
     "text": [
      "Model: \"sequential_1\"\n",
      "_________________________________________________________________\n",
      "Layer (type)                 Output Shape              Param #   \n",
      "=================================================================\n",
      "dense_1 (Dense)              (None, 512)               131584    \n",
      "_________________________________________________________________\n",
      "leaky_re_lu_1 (LeakyReLU)    (None, 512)               0         \n",
      "_________________________________________________________________\n",
      "dense_2 (Dense)              (None, 256)               131328    \n",
      "_________________________________________________________________\n",
      "leaky_re_lu_2 (LeakyReLU)    (None, 256)               0         \n",
      "_________________________________________________________________\n",
      "dense_3 (Dense)              (None, 128)               32896     \n",
      "_________________________________________________________________\n",
      "leaky_re_lu_3 (LeakyReLU)    (None, 128)               0         \n",
      "_________________________________________________________________\n",
      "dense_4 (Dense)              (None, 64)                8256      \n",
      "_________________________________________________________________\n",
      "leaky_re_lu_4 (LeakyReLU)    (None, 64)                0         \n",
      "_________________________________________________________________\n",
      "dense_5 (Dense)              (None, 1)                 65        \n",
      "=================================================================\n",
      "Total params: 304,129\n",
      "Trainable params: 304,129\n",
      "Non-trainable params: 0\n",
      "_________________________________________________________________\n"
     ]
    }
   ],
   "source": [
    "model.summary()"
   ]
  },
  {
   "cell_type": "code",
   "execution_count": 28,
   "metadata": {},
   "outputs": [],
   "source": [
    "# checkpoint\n",
    "filepath = './saved_model/' + str(SAMPLE_SIZE) + '_' + time.strftime(\"%m%d\", time.localtime()) + \".h5\"\n",
    "checkpoint = callbacks.ModelCheckpoint(filepath, monitor='val_loss', verbose=1, save_best_only=True, mode='auto')\n",
    "callbacks_list = [checkpoint]"
   ]
  },
  {
   "cell_type": "code",
   "execution_count": 29,
   "metadata": {
    "collapsed": true,
    "jupyter": {
     "outputs_hidden": true
    }
   },
   "outputs": [
    {
     "name": "stdout",
     "output_type": "stream",
     "text": [
      "Train on 1478697 samples, validate on 796222 samples\n",
      "Epoch 1/30\n",
      "1478697/1478697 [==============================] - 36s 24us/step - loss: 0.1834 - mean_squared_error: 0.0555 - val_loss: 0.7138 - val_mean_squared_error: 0.2170\n",
      "\n",
      "Epoch 00001: val_loss improved from inf to 0.71378, saving model to ./saved_model/1434877_0424.h5\n",
      "Epoch 2/30\n",
      "1478697/1478697 [==============================] - 35s 24us/step - loss: 0.1588 - mean_squared_error: 0.0479 - val_loss: 0.5486 - val_mean_squared_error: 0.1720\n",
      "\n",
      "Epoch 00002: val_loss improved from 0.71378 to 0.54864, saving model to ./saved_model/1434877_0424.h5\n",
      "Epoch 3/30\n",
      "1478697/1478697 [==============================] - 36s 24us/step - loss: 0.1520 - mean_squared_error: 0.0457 - val_loss: 0.5547 - val_mean_squared_error: 0.1683\n",
      "\n",
      "Epoch 00003: val_loss did not improve from 0.54864\n",
      "Epoch 4/30\n",
      "1478697/1478697 [==============================] - 35s 24us/step - loss: 0.1478 - mean_squared_error: 0.0443 - val_loss: 0.5710 - val_mean_squared_error: 0.1703\n",
      "\n",
      "Epoch 00004: val_loss did not improve from 0.54864\n",
      "Epoch 5/30\n",
      "1478697/1478697 [==============================] - 36s 24us/step - loss: 0.1443 - mean_squared_error: 0.0432 - val_loss: 0.5531 - val_mean_squared_error: 0.1674\n",
      "\n",
      "Epoch 00005: val_loss did not improve from 0.54864\n",
      "Epoch 6/30\n",
      "1478697/1478697 [==============================] - 35s 24us/step - loss: 0.1419 - mean_squared_error: 0.0423 - val_loss: 0.5001 - val_mean_squared_error: 0.1454\n",
      "\n",
      "Epoch 00006: val_loss improved from 0.54864 to 0.50010, saving model to ./saved_model/1434877_0424.h5\n",
      "Epoch 7/30\n",
      "1478697/1478697 [==============================] - 35s 24us/step - loss: 0.1396 - mean_squared_error: 0.0416 - val_loss: 0.8102 - val_mean_squared_error: 0.2253\n",
      "\n",
      "Epoch 00007: val_loss did not improve from 0.50010\n",
      "Epoch 8/30\n",
      "1478697/1478697 [==============================] - 35s 24us/step - loss: 0.1378 - mean_squared_error: 0.0409 - val_loss: 0.4761 - val_mean_squared_error: 0.1382\n",
      "\n",
      "Epoch 00008: val_loss improved from 0.50010 to 0.47614, saving model to ./saved_model/1434877_0424.h5\n",
      "Epoch 9/30\n",
      "1478697/1478697 [==============================] - 35s 24us/step - loss: 0.1361 - mean_squared_error: 0.0404 - val_loss: 0.5948 - val_mean_squared_error: 0.1800\n",
      "\n",
      "Epoch 00009: val_loss did not improve from 0.47614\n",
      "Epoch 10/30\n",
      "1478697/1478697 [==============================] - 35s 24us/step - loss: 0.1343 - mean_squared_error: 0.0398 - val_loss: 0.7560 - val_mean_squared_error: 0.2064\n",
      "\n",
      "Epoch 00010: val_loss did not improve from 0.47614\n",
      "Epoch 11/30\n",
      "1478697/1478697 [==============================] - 35s 24us/step - loss: 0.1328 - mean_squared_error: 0.0393 - val_loss: 0.4538 - val_mean_squared_error: 0.1316\n",
      "\n",
      "Epoch 00011: val_loss improved from 0.47614 to 0.45382, saving model to ./saved_model/1434877_0424.h5\n",
      "Epoch 12/30\n",
      "1478697/1478697 [==============================] - 36s 24us/step - loss: 0.1313 - mean_squared_error: 0.0388 - val_loss: 0.5390 - val_mean_squared_error: 0.1505\n",
      "\n",
      "Epoch 00012: val_loss did not improve from 0.45382\n",
      "Epoch 13/30\n",
      "1478697/1478697 [==============================] - 35s 24us/step - loss: 0.1301 - mean_squared_error: 0.0384 - val_loss: 0.5568 - val_mean_squared_error: 0.1614\n",
      "\n",
      "Epoch 00013: val_loss did not improve from 0.45382\n",
      "Epoch 14/30\n",
      "1478697/1478697 [==============================] - 35s 24us/step - loss: 0.1287 - mean_squared_error: 0.0380 - val_loss: 0.6957 - val_mean_squared_error: 0.1873\n",
      "\n",
      "Epoch 00014: val_loss did not improve from 0.45382\n",
      "Epoch 15/30\n",
      "1478697/1478697 [==============================] - 36s 24us/step - loss: 0.1274 - mean_squared_error: 0.0376 - val_loss: 0.9034 - val_mean_squared_error: 0.2297\n",
      "\n",
      "Epoch 00015: val_loss did not improve from 0.45382\n",
      "Epoch 16/30\n",
      "1478697/1478697 [==============================] - 36s 24us/step - loss: 0.1264 - mean_squared_error: 0.0373 - val_loss: 0.5243 - val_mean_squared_error: 0.1474\n",
      "\n",
      "Epoch 00016: val_loss did not improve from 0.45382\n",
      "Epoch 17/30\n",
      "1478697/1478697 [==============================] - 35s 24us/step - loss: 0.1252 - mean_squared_error: 0.0369 - val_loss: 0.6290 - val_mean_squared_error: 0.1634\n",
      "\n",
      "Epoch 00017: val_loss did not improve from 0.45382\n",
      "Epoch 18/30\n",
      "1478697/1478697 [==============================] - 36s 24us/step - loss: 0.1244 - mean_squared_error: 0.0366 - val_loss: 0.7013 - val_mean_squared_error: 0.1879\n",
      "\n",
      "Epoch 00018: val_loss did not improve from 0.45382\n",
      "Epoch 19/30\n",
      "1478697/1478697 [==============================] - 35s 24us/step - loss: 0.1234 - mean_squared_error: 0.0363 - val_loss: 0.5019 - val_mean_squared_error: 0.1353\n",
      "\n",
      "Epoch 00019: val_loss did not improve from 0.45382\n",
      "Epoch 20/30\n",
      "1478697/1478697 [==============================] - 36s 24us/step - loss: 0.1226 - mean_squared_error: 0.0360 - val_loss: 0.5870 - val_mean_squared_error: 0.1617\n",
      "\n",
      "Epoch 00020: val_loss did not improve from 0.45382\n",
      "Epoch 21/30\n",
      "1478697/1478697 [==============================] - 36s 24us/step - loss: 0.1218 - mean_squared_error: 0.0358 - val_loss: 0.3793 - val_mean_squared_error: 0.1053\n",
      "\n",
      "Epoch 00021: val_loss improved from 0.45382 to 0.37934, saving model to ./saved_model/1434877_0424.h5\n",
      "Epoch 22/30\n",
      "1478697/1478697 [==============================] - 36s 24us/step - loss: 0.1210 - mean_squared_error: 0.0355 - val_loss: 0.5149 - val_mean_squared_error: 0.1345\n",
      "\n",
      "Epoch 00022: val_loss did not improve from 0.37934\n",
      "Epoch 23/30\n",
      "1478697/1478697 [==============================] - 36s 24us/step - loss: 0.1201 - mean_squared_error: 0.0352 - val_loss: 0.7314 - val_mean_squared_error: 0.1975\n",
      "\n",
      "Epoch 00023: val_loss did not improve from 0.37934\n",
      "Epoch 24/30\n",
      "1478697/1478697 [==============================] - 36s 24us/step - loss: 0.1193 - mean_squared_error: 0.0350 - val_loss: 0.6826 - val_mean_squared_error: 0.1939\n",
      "\n",
      "Epoch 00024: val_loss did not improve from 0.37934\n",
      "Epoch 25/30\n",
      "1478697/1478697 [==============================] - 36s 24us/step - loss: 0.1184 - mean_squared_error: 0.0347 - val_loss: 1.0238 - val_mean_squared_error: 0.2511\n",
      "\n",
      "Epoch 00025: val_loss did not improve from 0.37934\n",
      "Epoch 26/30\n",
      "1478697/1478697 [==============================] - 36s 24us/step - loss: 0.1179 - mean_squared_error: 0.0345 - val_loss: 0.7459 - val_mean_squared_error: 0.1932\n",
      "\n",
      "Epoch 00026: val_loss did not improve from 0.37934\n",
      "Epoch 27/30\n",
      "1478697/1478697 [==============================] - 35s 24us/step - loss: 0.1171 - mean_squared_error: 0.0343 - val_loss: 0.4660 - val_mean_squared_error: 0.1313\n",
      "\n",
      "Epoch 00027: val_loss did not improve from 0.37934\n",
      "Epoch 28/30\n",
      "1478697/1478697 [==============================] - 36s 24us/step - loss: 0.1163 - mean_squared_error: 0.0340 - val_loss: 0.3981 - val_mean_squared_error: 0.1123\n",
      "\n",
      "Epoch 00028: val_loss did not improve from 0.37934\n",
      "Epoch 29/30\n",
      "1478697/1478697 [==============================] - 35s 24us/step - loss: 0.1157 - mean_squared_error: 0.0338 - val_loss: 0.4110 - val_mean_squared_error: 0.1141\n",
      "\n",
      "Epoch 00029: val_loss did not improve from 0.37934\n",
      "Epoch 30/30\n",
      "1478697/1478697 [==============================] - 35s 24us/step - loss: 0.1151 - mean_squared_error: 0.0336 - val_loss: 0.5137 - val_mean_squared_error: 0.1397\n",
      "\n",
      "Epoch 00030: val_loss did not improve from 0.37934\n"
     ]
    }
   ],
   "source": [
    "history = model.fit(X_train,\n",
    "                    y_train,\n",
    "                    epochs=30,\n",
    "                    batch_size=128,\n",
    "                    validation_split=.35,\n",
    "                    verbose=1,\n",
    "                    callbacks=callbacks_list)"
   ]
  },
  {
   "cell_type": "code",
   "execution_count": 30,
   "metadata": {},
   "outputs": [
    {
     "data": {
      "text/plain": [
       "dict_keys(['val_loss', 'val_mean_squared_error', 'loss', 'mean_squared_error'])"
      ]
     },
     "execution_count": 30,
     "metadata": {},
     "output_type": "execute_result"
    }
   ],
   "source": [
    "history.history.keys()"
   ]
  },
  {
   "cell_type": "code",
   "execution_count": 31,
   "metadata": {},
   "outputs": [
    {
     "data": {
      "text/plain": [
       "<matplotlib.axes._subplots.AxesSubplot at 0x7fcb00112410>"
      ]
     },
     "execution_count": 31,
     "metadata": {},
     "output_type": "execute_result"
    },
    {
     "data": {
      "image/png": "[encoded data removed]",
      "text/plain": [
       "<Figure size 432x288 with 1 Axes>"
      ]
     },
     "metadata": {
      "needs_background": "light"
     },
     "output_type": "display_data"
    }
   ],
   "source": [
    "pd.DataFrame(history.history)[['loss', 'val_loss']].plot()"
   ]
  },
  {
   "cell_type": "code",
   "execution_count": 32,
   "metadata": {},
   "outputs": [
    {
     "data": {
      "text/plain": [
       "<matplotlib.axes._subplots.AxesSubplot at 0x7fcb00201bd0>"
      ]
     },
     "execution_count": 32,
     "metadata": {},
     "output_type": "execute_result"
    },
    {
     "data": {
      "image/png": "[encoded data removed]",
      "text/plain": [
       "<Figure size 432x288 with 1 Axes>"
      ]
     },
     "metadata": {
      "needs_background": "light"
     },
     "output_type": "display_data"
    }
   ],
   "source": [
    "pd.DataFrame(history.history)[['mean_squared_error', 'val_mean_squared_error']].plot()"
   ]
  },
  {
   "cell_type": "code",
   "execution_count": null,
   "metadata": {},
   "outputs": [],
   "source": []
  }
 ],
 "metadata": {
  "kernelspec": {
   "display_name": "Python 3",
   "language": "python",
   "name": "python3"
  },
  "language_info": {
   "codemirror_mode": {
    "name": "ipython",
    "version": 3
   },
   "file_extension": ".py",
   "mimetype": "text/x-python",
   "name": "python",
   "nbconvert_exporter": "python",
   "pygments_lexer": "ipython3",
   "version": "3.7.5"
  }
 },
 "nbformat": 4,
 "nbformat_minor": 4
}
