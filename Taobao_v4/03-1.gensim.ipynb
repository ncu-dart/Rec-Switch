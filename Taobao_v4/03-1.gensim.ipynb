{
 "cells": [
  {
   "cell_type": "code",
   "execution_count": 1,
   "metadata": {},
   "outputs": [],
   "source": [
    "import pandas as pd\n",
    "import numpy as np\n",
    "import datetime\n",
    "import pickle\n",
    "from tqdm import tqdm"
   ]
  },
  {
   "cell_type": "code",
   "execution_count": 2,
   "metadata": {},
   "outputs": [],
   "source": [
    "df = pd.read_csv('UB_clear.csv')"
   ]
  },
  {
   "cell_type": "code",
   "execution_count": 3,
   "metadata": {},
   "outputs": [],
   "source": [
    "df['iid_str'] = df['iid'].apply(str)"
   ]
  },
  {
   "cell_type": "code",
   "execution_count": 4,
   "metadata": {},
   "outputs": [],
   "source": [
    "df_pv = df[df['type']=='pv']"
   ]
  },
  {
   "cell_type": "code",
   "execution_count": 5,
   "metadata": {},
   "outputs": [
    {
     "data": {
      "text/html": [
       "<div>\n",
       "<style scoped>\n",
       "    .dataframe tbody tr th:only-of-type {\n",
       "        vertical-align: middle;\n",
       "    }\n",
       "\n",
       "    .dataframe tbody tr th {\n",
       "        vertical-align: top;\n",
       "    }\n",
       "\n",
       "    .dataframe thead th {\n",
       "        text-align: right;\n",
       "    }\n",
       "</style>\n",
       "<table border=\"1\" class=\"dataframe\">\n",
       "  <thead>\n",
       "    <tr style=\"text-align: right;\">\n",
       "      <th></th>\n",
       "      <th>uid</th>\n",
       "      <th>iid</th>\n",
       "      <th>cid</th>\n",
       "      <th>type</th>\n",
       "      <th>timestamp</th>\n",
       "      <th>date</th>\n",
       "      <th>iid_str</th>\n",
       "    </tr>\n",
       "  </thead>\n",
       "  <tbody>\n",
       "    <tr>\n",
       "      <td>0</td>\n",
       "      <td>1</td>\n",
       "      <td>2268318</td>\n",
       "      <td>2520377</td>\n",
       "      <td>pv</td>\n",
       "      <td>1511544070</td>\n",
       "      <td>2017-11-25</td>\n",
       "      <td>2268318</td>\n",
       "    </tr>\n",
       "    <tr>\n",
       "      <td>1</td>\n",
       "      <td>1</td>\n",
       "      <td>2333346</td>\n",
       "      <td>2520771</td>\n",
       "      <td>pv</td>\n",
       "      <td>1511561733</td>\n",
       "      <td>2017-11-25</td>\n",
       "      <td>2333346</td>\n",
       "    </tr>\n",
       "    <tr>\n",
       "      <td>2</td>\n",
       "      <td>1</td>\n",
       "      <td>2576651</td>\n",
       "      <td>149192</td>\n",
       "      <td>pv</td>\n",
       "      <td>1511572885</td>\n",
       "      <td>2017-11-25</td>\n",
       "      <td>2576651</td>\n",
       "    </tr>\n",
       "    <tr>\n",
       "      <td>3</td>\n",
       "      <td>1</td>\n",
       "      <td>3830808</td>\n",
       "      <td>4181361</td>\n",
       "      <td>pv</td>\n",
       "      <td>1511593493</td>\n",
       "      <td>2017-11-25</td>\n",
       "      <td>3830808</td>\n",
       "    </tr>\n",
       "    <tr>\n",
       "      <td>4</td>\n",
       "      <td>1</td>\n",
       "      <td>4365585</td>\n",
       "      <td>2520377</td>\n",
       "      <td>pv</td>\n",
       "      <td>1511596146</td>\n",
       "      <td>2017-11-25</td>\n",
       "      <td>4365585</td>\n",
       "    </tr>\n",
       "    <tr>\n",
       "      <td>...</td>\n",
       "      <td>...</td>\n",
       "      <td>...</td>\n",
       "      <td>...</td>\n",
       "      <td>...</td>\n",
       "      <td>...</td>\n",
       "      <td>...</td>\n",
       "      <td>...</td>\n",
       "    </tr>\n",
       "    <tr>\n",
       "      <td>100095226</td>\n",
       "      <td>999999</td>\n",
       "      <td>4797808</td>\n",
       "      <td>11120</td>\n",
       "      <td>pv</td>\n",
       "      <td>1512293403</td>\n",
       "      <td>2017-12-03</td>\n",
       "      <td>4797808</td>\n",
       "    </tr>\n",
       "    <tr>\n",
       "      <td>100095227</td>\n",
       "      <td>999999</td>\n",
       "      <td>4613472</td>\n",
       "      <td>4602841</td>\n",
       "      <td>pv</td>\n",
       "      <td>1512293766</td>\n",
       "      <td>2017-12-03</td>\n",
       "      <td>4613472</td>\n",
       "    </tr>\n",
       "    <tr>\n",
       "      <td>100095228</td>\n",
       "      <td>999999</td>\n",
       "      <td>3647364</td>\n",
       "      <td>2304296</td>\n",
       "      <td>pv</td>\n",
       "      <td>1512293792</td>\n",
       "      <td>2017-12-03</td>\n",
       "      <td>3647364</td>\n",
       "    </tr>\n",
       "    <tr>\n",
       "      <td>100095229</td>\n",
       "      <td>999999</td>\n",
       "      <td>1903801</td>\n",
       "      <td>2304296</td>\n",
       "      <td>pv</td>\n",
       "      <td>1512293827</td>\n",
       "      <td>2017-12-03</td>\n",
       "      <td>1903801</td>\n",
       "    </tr>\n",
       "    <tr>\n",
       "      <td>100095230</td>\n",
       "      <td>999999</td>\n",
       "      <td>3696094</td>\n",
       "      <td>4602841</td>\n",
       "      <td>pv</td>\n",
       "      <td>1512293891</td>\n",
       "      <td>2017-12-03</td>\n",
       "      <td>3696094</td>\n",
       "    </tr>\n",
       "  </tbody>\n",
       "</table>\n",
       "<p>89660688 rows × 7 columns</p>\n",
       "</div>"
      ],
      "text/plain": [
       "              uid      iid      cid type   timestamp        date  iid_str\n",
       "0               1  2268318  2520377   pv  1511544070  2017-11-25  2268318\n",
       "1               1  2333346  2520771   pv  1511561733  2017-11-25  2333346\n",
       "2               1  2576651   149192   pv  1511572885  2017-11-25  2576651\n",
       "3               1  3830808  4181361   pv  1511593493  2017-11-25  3830808\n",
       "4               1  4365585  2520377   pv  1511596146  2017-11-25  4365585\n",
       "...           ...      ...      ...  ...         ...         ...      ...\n",
       "100095226  999999  4797808    11120   pv  1512293403  2017-12-03  4797808\n",
       "100095227  999999  4613472  4602841   pv  1512293766  2017-12-03  4613472\n",
       "100095228  999999  3647364  2304296   pv  1512293792  2017-12-03  3647364\n",
       "100095229  999999  1903801  2304296   pv  1512293827  2017-12-03  1903801\n",
       "100095230  999999  3696094  4602841   pv  1512293891  2017-12-03  3696094\n",
       "\n",
       "[89660688 rows x 7 columns]"
      ]
     },
     "execution_count": 5,
     "metadata": {},
     "output_type": "execute_result"
    }
   ],
   "source": [
    "df_pv"
   ]
  },
  {
   "cell_type": "code",
   "execution_count": 6,
   "metadata": {},
   "outputs": [
    {
     "data": {
      "text/html": [
       "<div>\n",
       "<style scoped>\n",
       "    .dataframe tbody tr th:only-of-type {\n",
       "        vertical-align: middle;\n",
       "    }\n",
       "\n",
       "    .dataframe tbody tr th {\n",
       "        vertical-align: top;\n",
       "    }\n",
       "\n",
       "    .dataframe thead th {\n",
       "        text-align: right;\n",
       "    }\n",
       "</style>\n",
       "<table border=\"1\" class=\"dataframe\">\n",
       "  <thead>\n",
       "    <tr style=\"text-align: right;\">\n",
       "      <th></th>\n",
       "      <th>uid</th>\n",
       "      <th>iid</th>\n",
       "      <th>cid</th>\n",
       "      <th>timestamp</th>\n",
       "    </tr>\n",
       "  </thead>\n",
       "  <tbody>\n",
       "    <tr>\n",
       "      <td>count</td>\n",
       "      <td>89660688</td>\n",
       "      <td>89660688</td>\n",
       "      <td>89660688</td>\n",
       "      <td>89660688</td>\n",
       "    </tr>\n",
       "    <tr>\n",
       "      <td>mean</td>\n",
       "      <td>507221</td>\n",
       "      <td>2579576</td>\n",
       "      <td>2699025</td>\n",
       "      <td>1511961190</td>\n",
       "    </tr>\n",
       "    <tr>\n",
       "      <td>std</td>\n",
       "      <td>294136</td>\n",
       "      <td>1488052</td>\n",
       "      <td>1462244</td>\n",
       "      <td>230146</td>\n",
       "    </tr>\n",
       "    <tr>\n",
       "      <td>min</td>\n",
       "      <td>1</td>\n",
       "      <td>1</td>\n",
       "      <td>80</td>\n",
       "      <td>1511539200</td>\n",
       "    </tr>\n",
       "    <tr>\n",
       "      <td>25%</td>\n",
       "      <td>252584</td>\n",
       "      <td>1295012</td>\n",
       "      <td>1320293</td>\n",
       "      <td>1511761969</td>\n",
       "    </tr>\n",
       "    <tr>\n",
       "      <td>50%</td>\n",
       "      <td>504487</td>\n",
       "      <td>2580198</td>\n",
       "      <td>2671397</td>\n",
       "      <td>1511964585</td>\n",
       "    </tr>\n",
       "    <tr>\n",
       "      <td>75%</td>\n",
       "      <td>761656</td>\n",
       "      <td>3861799</td>\n",
       "      <td>4145813</td>\n",
       "      <td>1512179058</td>\n",
       "    </tr>\n",
       "    <tr>\n",
       "      <td>max</td>\n",
       "      <td>1018011</td>\n",
       "      <td>5163070</td>\n",
       "      <td>5162429</td>\n",
       "      <td>1512316799</td>\n",
       "    </tr>\n",
       "  </tbody>\n",
       "</table>\n",
       "</div>"
      ],
      "text/plain": [
       "           uid      iid      cid  timestamp\n",
       "count 89660688 89660688 89660688   89660688\n",
       "mean    507221  2579576  2699025 1511961190\n",
       "std     294136  1488052  1462244     230146\n",
       "min          1        1       80 1511539200\n",
       "25%     252584  1295012  1320293 1511761969\n",
       "50%     504487  2580198  2671397 1511964585\n",
       "75%     761656  3861799  4145813 1512179058\n",
       "max    1018011  5163070  5162429 1512316799"
      ]
     },
     "execution_count": 6,
     "metadata": {},
     "output_type": "execute_result"
    }
   ],
   "source": [
    "pd.set_option('display.float_format',lambda x : '%.f' % x)\n",
    "df_pv.describe()"
   ]
  },
  {
   "cell_type": "code",
   "execution_count": 7,
   "metadata": {},
   "outputs": [],
   "source": [
    "dates = ['2017-11-25'] #, '2017-11-26', '2017-11-27', '2017-11-28', '2017-11-29', '2017-11-30', '2017-12-01' , '2017-12-02', '2017-12-03'"
   ]
  },
  {
   "cell_type": "code",
   "execution_count": 8,
   "metadata": {},
   "outputs": [
    {
     "name": "stderr",
     "output_type": "stream",
     "text": [
      "100%|██████████| 1018012/1018012 [03:12<00:00, 5292.65it/s]\n"
     ]
    }
   ],
   "source": [
    "for date in dates:\n",
    "    df_pv_day = df_pv[df_pv['date']==date]\n",
    "    df_pv_day_grby_uid = df_pv_day.groupby('uid')\n",
    "    iid_corpus = []\n",
    "    not_exist_uid = []\n",
    "    for _uid in tqdm(range(1018012)):\n",
    "        try:\n",
    "            iid_corpus.append(df_pv_day_grby_uid.get_group(_uid).iloc[:, 6].tolist())\n",
    "        except:\n",
    "            not_exist_uid.append(_uid)\n",
    "    with open('./iid_corpus/' + 'iid_corpus_' + date + '.pkl', 'wb') as file:\n",
    "        pickle.dump(iid_corpus, file)"
   ]
  },
  {
   "cell_type": "code",
   "execution_count": 9,
   "metadata": {},
   "outputs": [
    {
     "data": {
      "text/plain": [
       "['2017-11-25']"
      ]
     },
     "execution_count": 9,
     "metadata": {},
     "output_type": "execute_result"
    }
   ],
   "source": [
    "dates"
   ]
  },
  {
   "cell_type": "code",
   "execution_count": 10,
   "metadata": {},
   "outputs": [
    {
     "name": "stdout",
     "output_type": "stream",
     "text": [
      "2017-11-25 len: 686953\n"
     ]
    }
   ],
   "source": [
    "iid_corpus = []\n",
    "for date in dates:\n",
    "    with open('./iid_corpus/' + 'iid_corpus_' + date + '.pkl', 'rb') as file:\n",
    "        iid_corpus_date = pickle.load(file)\n",
    "        print(date + ' len: ' + str(len(iid_corpus_date)))\n",
    "        iid_corpus += iid_corpus_date"
   ]
  },
  {
   "cell_type": "code",
   "execution_count": 11,
   "metadata": {},
   "outputs": [
    {
     "data": {
      "text/plain": [
       "686953"
      ]
     },
     "execution_count": 11,
     "metadata": {},
     "output_type": "execute_result"
    }
   ],
   "source": [
    "len(iid_corpus)"
   ]
  },
  {
   "cell_type": "markdown",
   "metadata": {},
   "source": [
    "---"
   ]
  },
  {
   "cell_type": "code",
   "execution_count": 13,
   "metadata": {},
   "outputs": [],
   "source": [
    "import multiprocessing\n",
    "from gensim.models import Word2Vec"
   ]
  },
  {
   "cell_type": "code",
   "execution_count": 14,
   "metadata": {},
   "outputs": [],
   "source": [
    "starttime = datetime.datetime.now()"
   ]
  },
  {
   "cell_type": "code",
   "execution_count": 15,
   "metadata": {},
   "outputs": [],
   "source": [
    "model = Word2Vec(iid_corpus, size=128, window=5, min_count=1, workers=multiprocessing.cpu_count())"
   ]
  },
  {
   "cell_type": "code",
   "execution_count": 16,
   "metadata": {},
   "outputs": [
    {
     "name": "stdout",
     "output_type": "stream",
     "text": [
      "0:04:19.875826\n"
     ]
    }
   ],
   "source": [
    "endtime = datetime.datetime.now()\n",
    "print(endtime - starttime)"
   ]
  },
  {
   "cell_type": "code",
   "execution_count": 17,
   "metadata": {},
   "outputs": [],
   "source": [
    "model.save('iid_1days.model')"
   ]
  }
 ],
 "metadata": {
  "kernelspec": {
   "display_name": "Python 3",
   "language": "python",
   "name": "python3"
  },
  "language_info": {
   "codemirror_mode": {
    "name": "ipython",
    "version": 3
   },
   "file_extension": ".py",
   "mimetype": "text/x-python",
   "name": "python",
   "nbconvert_exporter": "python",
   "pygments_lexer": "ipython3",
   "version": "3.7.5"
  }
 },
 "nbformat": 4,
 "nbformat_minor": 4
}
