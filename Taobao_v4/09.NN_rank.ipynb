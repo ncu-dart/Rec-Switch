{
 "cells": [
  {
   "cell_type": "code",
   "execution_count": 1,
   "metadata": {},
   "outputs": [],
   "source": [
    "import pandas as pd\n",
    "import numpy as np\n",
    "import datetime\n",
    "import time\n",
    "import pickle\n",
    "from tqdm import tqdm\n",
    "import matplotlib.pyplot as plt\n",
    "%matplotlib inline\n",
    "from collections import Counter\n",
    "from random import choices, sample\n",
    "from gensim.models import Word2Vec\n",
    "import gc\n",
    "pd.set_option('display.float_format',lambda x : '%.2f' % x)"
   ]
  },
  {
   "cell_type": "code",
   "execution_count": 2,
   "metadata": {},
   "outputs": [],
   "source": [
    "NN_tables = []\n",
    "for part in range(1, 5):\n",
    "    with open('./dict_NN_table/NN_table_'+ str(part) +'.pkl', 'rb') as file:\n",
    "        NN_tables.append(pickle.load(file))"
   ]
  },
  {
   "cell_type": "code",
   "execution_count": 3,
   "metadata": {},
   "outputs": [],
   "source": [
    "with open('./knn_result/lt_df_knn_rank_9days.pkl', 'rb') as file:\n",
    "    lt_df_knn_rank = pickle.load(file)"
   ]
  },
  {
   "cell_type": "code",
   "execution_count": 4,
   "metadata": {},
   "outputs": [],
   "source": [
    "for i in range(len(lt_df_knn_rank)):\n",
    "    lt_df_knn_rank[i].dropna(inplace=True)"
   ]
  },
  {
   "cell_type": "code",
   "execution_count": 5,
   "metadata": {},
   "outputs": [
    {
     "data": {
      "text/html": [
       "<div>\n",
       "<style scoped>\n",
       "    .dataframe tbody tr th:only-of-type {\n",
       "        vertical-align: middle;\n",
       "    }\n",
       "\n",
       "    .dataframe tbody tr th {\n",
       "        vertical-align: top;\n",
       "    }\n",
       "\n",
       "    .dataframe thead th {\n",
       "        text-align: right;\n",
       "    }\n",
       "</style>\n",
       "<table border=\"1\" class=\"dataframe\">\n",
       "  <thead>\n",
       "    <tr style=\"text-align: right;\">\n",
       "      <th></th>\n",
       "      <th>target</th>\n",
       "      <th>next</th>\n",
       "      <th>rank</th>\n",
       "    </tr>\n",
       "  </thead>\n",
       "  <tbody>\n",
       "    <tr>\n",
       "      <th>13</th>\n",
       "      <td>1332907</td>\n",
       "      <td>705557</td>\n",
       "      <td>24.00</td>\n",
       "    </tr>\n",
       "    <tr>\n",
       "      <th>24</th>\n",
       "      <td>1985302</td>\n",
       "      <td>2213366</td>\n",
       "      <td>6.00</td>\n",
       "    </tr>\n",
       "    <tr>\n",
       "      <th>26</th>\n",
       "      <td>357481</td>\n",
       "      <td>3495288</td>\n",
       "      <td>28.00</td>\n",
       "    </tr>\n",
       "    <tr>\n",
       "      <th>27</th>\n",
       "      <td>3495288</td>\n",
       "      <td>1985302</td>\n",
       "      <td>8.00</td>\n",
       "    </tr>\n",
       "    <tr>\n",
       "      <th>34</th>\n",
       "      <td>3263114</td>\n",
       "      <td>2956113</td>\n",
       "      <td>73.00</td>\n",
       "    </tr>\n",
       "    <tr>\n",
       "      <th>...</th>\n",
       "      <td>...</td>\n",
       "      <td>...</td>\n",
       "      <td>...</td>\n",
       "    </tr>\n",
       "    <tr>\n",
       "      <th>8666262</th>\n",
       "      <td>4589811</td>\n",
       "      <td>4800535</td>\n",
       "      <td>30.00</td>\n",
       "    </tr>\n",
       "    <tr>\n",
       "      <th>8666300</th>\n",
       "      <td>3224005</td>\n",
       "      <td>3657095</td>\n",
       "      <td>18.00</td>\n",
       "    </tr>\n",
       "    <tr>\n",
       "      <th>8666301</th>\n",
       "      <td>3657095</td>\n",
       "      <td>4344771</td>\n",
       "      <td>52.00</td>\n",
       "    </tr>\n",
       "    <tr>\n",
       "      <th>8666325</th>\n",
       "      <td>4330306</td>\n",
       "      <td>2257855</td>\n",
       "      <td>47.00</td>\n",
       "    </tr>\n",
       "    <tr>\n",
       "      <th>8666439</th>\n",
       "      <td>1982600</td>\n",
       "      <td>1817934</td>\n",
       "      <td>3.00</td>\n",
       "    </tr>\n",
       "  </tbody>\n",
       "</table>\n",
       "<p>328689 rows × 3 columns</p>\n",
       "</div>"
      ],
      "text/plain": [
       "          target     next  rank\n",
       "13       1332907   705557 24.00\n",
       "24       1985302  2213366  6.00\n",
       "26        357481  3495288 28.00\n",
       "27       3495288  1985302  8.00\n",
       "34       3263114  2956113 73.00\n",
       "...          ...      ...   ...\n",
       "8666262  4589811  4800535 30.00\n",
       "8666300  3224005  3657095 18.00\n",
       "8666301  3657095  4344771 52.00\n",
       "8666325  4330306  2257855 47.00\n",
       "8666439  1982600  1817934  3.00\n",
       "\n",
       "[328689 rows x 3 columns]"
      ]
     },
     "execution_count": 5,
     "metadata": {},
     "output_type": "execute_result"
    }
   ],
   "source": [
    "lt_df_knn_rank[0]"
   ]
  },
  {
   "cell_type": "code",
   "execution_count": 6,
   "metadata": {},
   "outputs": [],
   "source": [
    "def ranking(r):\n",
    "    for part in range(4):\n",
    "        if r.target in NN_tables[part]:\n",
    "            lt = NN_tables[part][r.target]\n",
    "            ids, score = zip(*lt)\n",
    "            try:\n",
    "                rank = ids.index(r.next) + 1\n",
    "            except:\n",
    "                rank = np.nan\n",
    "            break\n",
    "    else:\n",
    "        rank = np.nan\n",
    "    return rank"
   ]
  },
  {
   "cell_type": "code",
   "execution_count": 7,
   "metadata": {},
   "outputs": [
    {
     "name": "stderr",
     "output_type": "stream",
     "text": [
      "100%|██████████| 9/9 [02:00<00:00, 13.42s/it]\n"
     ]
    }
   ],
   "source": [
    "for i in tqdm(range(len(lt_df_knn_rank))):\n",
    "    lt_df_knn_rank[i]['NN_rank'] = lt_df_knn_rank[i].apply(ranking, axis=1)"
   ]
  },
  {
   "cell_type": "code",
   "execution_count": 8,
   "metadata": {},
   "outputs": [],
   "source": [
    "with open('./NN_result/lt_df_NN_rank_9days.pkl', 'wb') as file:\n",
    "    pickle.dump(lt_df_knn_rank, file)"
   ]
  }
 ],
 "metadata": {
  "kernelspec": {
   "display_name": "Python 3",
   "language": "python",
   "name": "python3"
  },
  "language_info": {
   "codemirror_mode": {
    "name": "ipython",
    "version": 3
   },
   "file_extension": ".py",
   "mimetype": "text/x-python",
   "name": "python",
   "nbconvert_exporter": "python",
   "pygments_lexer": "ipython3",
   "version": "3.7.5"
  }
 },
 "nbformat": 4,
 "nbformat_minor": 4
}
