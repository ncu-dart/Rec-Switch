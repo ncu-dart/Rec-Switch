{
 "cells": [
  {
   "cell_type": "code",
   "execution_count": 1,
   "metadata": {},
   "outputs": [],
   "source": [
    "import pandas as pd\n",
    "import numpy as np\n",
    "import datetime\n",
    "import pickle\n",
    "from tqdm import tqdm"
   ]
  },
  {
   "cell_type": "code",
   "execution_count": 2,
   "metadata": {},
   "outputs": [],
   "source": [
    "dates = ['2017-11-25', '2017-11-26', '2017-11-27', '2017-11-28', '2017-11-29', '2017-11-30',\n",
    "         '2017-12-01', '2017-12-02', '2017-12-03']"
   ]
  },
  {
   "cell_type": "code",
   "execution_count": 3,
   "metadata": {},
   "outputs": [],
   "source": [
    "from itertools import tee, islice, zip_longest\n",
    "def get_next(some_iterable, window=1):\n",
    "    items, nexts = tee(some_iterable, 2)\n",
    "    nexts = islice(nexts, window, None)\n",
    "    return zip_longest(items, nexts)"
   ]
  },
  {
   "cell_type": "code",
   "execution_count": 4,
   "metadata": {},
   "outputs": [
    {
     "name": "stderr",
     "output_type": "stream",
     "text": [
      "100%|██████████| 686953/686953 [00:01<00:00, 361828.61it/s]\n",
      "100%|██████████| 695869/695869 [00:01<00:00, 359400.82it/s]\n",
      "100%|██████████| 689260/689260 [00:01<00:00, 361485.52it/s]\n",
      "100%|██████████| 688042/688042 [00:01<00:00, 378247.43it/s]\n",
      "100%|██████████| 697542/697542 [00:01<00:00, 369604.37it/s]\n",
      "100%|██████████| 709586/709586 [00:01<00:00, 372278.20it/s]\n",
      "100%|██████████| 718184/718184 [00:01<00:00, 360620.31it/s]\n",
      "100%|██████████| 939383/939383 [00:02<00:00, 373192.79it/s]\n",
      "100%|██████████| 936431/936431 [00:02<00:00, 371754.82it/s]\n"
     ]
    }
   ],
   "source": [
    "for date in dates:\n",
    "    iid_pairs = []\n",
    "    with open('./iid_corpus/' + 'iid_corpus_' + date + '.pkl', 'rb') as file:\n",
    "        iid_corpus_date = pickle.load(file)\n",
    "    for cs in tqdm(iid_corpus_date):\n",
    "        for target, _next in get_next(cs):\n",
    "            if _next is not None:\n",
    "                iid_pairs.append((target, _next))\n",
    "    with open('./iid_pairs/' + 'iid_pairs_' + date + '.pkl', 'wb') as file:\n",
    "        pickle.dump(iid_pairs, file)"
   ]
  }
 ],
 "metadata": {
  "kernelspec": {
   "display_name": "Python 3",
   "language": "python",
   "name": "python3"
  },
  "language_info": {
   "codemirror_mode": {
    "name": "ipython",
    "version": 3
   },
   "file_extension": ".py",
   "mimetype": "text/x-python",
   "name": "python",
   "nbconvert_exporter": "python",
   "pygments_lexer": "ipython3",
   "version": "3.7.5"
  }
 },
 "nbformat": 4,
 "nbformat_minor": 4
}
