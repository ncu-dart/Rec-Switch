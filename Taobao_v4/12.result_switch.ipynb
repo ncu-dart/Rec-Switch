{
 "cells": [
  {
   "cell_type": "code",
   "execution_count": 1,
   "metadata": {},
   "outputs": [],
   "source": [
    "import pandas as pd\n",
    "import numpy as np\n",
    "import datetime\n",
    "import time\n",
    "import pickle\n",
    "from tqdm import tqdm\n",
    "import matplotlib.pyplot as plt\n",
    "%matplotlib inline\n",
    "from collections import Counter\n",
    "from random import choices, sample\n",
    "from gensim.models import Word2Vec\n",
    "import gc\n",
    "pd.set_option('display.float_format',lambda x : '%.2f' % x)\n",
    "from math import log10"
   ]
  },
  {
   "cell_type": "code",
   "execution_count": 2,
   "metadata": {},
   "outputs": [],
   "source": [
    "with open('./NN_result/lt_df_NN_rank_9days.pkl', 'rb') as file:\n",
    "    lt_df_NN_rank = pickle.load(file)"
   ]
  },
  {
   "cell_type": "code",
   "execution_count": 3,
   "metadata": {},
   "outputs": [],
   "source": [
    "full_table = pd.concat(lt_df_NN_rank[1:1+4], ignore_index=True)"
   ]
  },
  {
   "cell_type": "code",
   "execution_count": 4,
   "metadata": {},
   "outputs": [
    {
     "data": {
      "text/html": [
       "<div>\n",
       "<style scoped>\n",
       "    .dataframe tbody tr th:only-of-type {\n",
       "        vertical-align: middle;\n",
       "    }\n",
       "\n",
       "    .dataframe tbody tr th {\n",
       "        vertical-align: top;\n",
       "    }\n",
       "\n",
       "    .dataframe thead th {\n",
       "        text-align: right;\n",
       "    }\n",
       "</style>\n",
       "<table border=\"1\" class=\"dataframe\">\n",
       "  <thead>\n",
       "    <tr style=\"text-align: right;\">\n",
       "      <th></th>\n",
       "      <th>target</th>\n",
       "      <th>next</th>\n",
       "      <th>rank</th>\n",
       "      <th>NN_rank</th>\n",
       "    </tr>\n",
       "  </thead>\n",
       "  <tbody>\n",
       "    <tr>\n",
       "      <th>0</th>\n",
       "      <td>2063176</td>\n",
       "      <td>1793668</td>\n",
       "      <td>53.00</td>\n",
       "      <td>21</td>\n",
       "    </tr>\n",
       "    <tr>\n",
       "      <th>1</th>\n",
       "      <td>1036421</td>\n",
       "      <td>215370</td>\n",
       "      <td>26.00</td>\n",
       "      <td>73</td>\n",
       "    </tr>\n",
       "    <tr>\n",
       "      <th>2</th>\n",
       "      <td>1036421</td>\n",
       "      <td>215370</td>\n",
       "      <td>26.00</td>\n",
       "      <td>73</td>\n",
       "    </tr>\n",
       "    <tr>\n",
       "      <th>3</th>\n",
       "      <td>4364467</td>\n",
       "      <td>632080</td>\n",
       "      <td>19.00</td>\n",
       "      <td>35</td>\n",
       "    </tr>\n",
       "    <tr>\n",
       "      <th>4</th>\n",
       "      <td>632080</td>\n",
       "      <td>4272037</td>\n",
       "      <td>20.00</td>\n",
       "      <td>29</td>\n",
       "    </tr>\n",
       "    <tr>\n",
       "      <th>...</th>\n",
       "      <td>...</td>\n",
       "      <td>...</td>\n",
       "      <td>...</td>\n",
       "      <td>...</td>\n",
       "    </tr>\n",
       "    <tr>\n",
       "      <th>952774</th>\n",
       "      <td>3087929</td>\n",
       "      <td>3292913</td>\n",
       "      <td>88.00</td>\n",
       "      <td>13</td>\n",
       "    </tr>\n",
       "    <tr>\n",
       "      <th>952775</th>\n",
       "      <td>4082039</td>\n",
       "      <td>3801509</td>\n",
       "      <td>48.00</td>\n",
       "      <td>49</td>\n",
       "    </tr>\n",
       "    <tr>\n",
       "      <th>952776</th>\n",
       "      <td>932794</td>\n",
       "      <td>488456</td>\n",
       "      <td>80.00</td>\n",
       "      <td>25</td>\n",
       "    </tr>\n",
       "    <tr>\n",
       "      <th>952777</th>\n",
       "      <td>1354952</td>\n",
       "      <td>1846009</td>\n",
       "      <td>39.00</td>\n",
       "      <td>2</td>\n",
       "    </tr>\n",
       "    <tr>\n",
       "      <th>952778</th>\n",
       "      <td>1846009</td>\n",
       "      <td>2303733</td>\n",
       "      <td>11.00</td>\n",
       "      <td>14</td>\n",
       "    </tr>\n",
       "  </tbody>\n",
       "</table>\n",
       "<p>952779 rows × 4 columns</p>\n",
       "</div>"
      ],
      "text/plain": [
       "         target     next  rank  NN_rank\n",
       "0       2063176  1793668 53.00       21\n",
       "1       1036421   215370 26.00       73\n",
       "2       1036421   215370 26.00       73\n",
       "3       4364467   632080 19.00       35\n",
       "4        632080  4272037 20.00       29\n",
       "...         ...      ...   ...      ...\n",
       "952774  3087929  3292913 88.00       13\n",
       "952775  4082039  3801509 48.00       49\n",
       "952776   932794   488456 80.00       25\n",
       "952777  1354952  1846009 39.00        2\n",
       "952778  1846009  2303733 11.00       14\n",
       "\n",
       "[952779 rows x 4 columns]"
      ]
     },
     "execution_count": 4,
     "metadata": {},
     "output_type": "execute_result"
    }
   ],
   "source": [
    "full_table"
   ]
  },
  {
   "cell_type": "code",
   "execution_count": 5,
   "metadata": {},
   "outputs": [
    {
     "data": {
      "text/html": [
       "<div>\n",
       "<style scoped>\n",
       "    .dataframe tbody tr th:only-of-type {\n",
       "        vertical-align: middle;\n",
       "    }\n",
       "\n",
       "    .dataframe tbody tr th {\n",
       "        vertical-align: top;\n",
       "    }\n",
       "\n",
       "    .dataframe thead th {\n",
       "        text-align: right;\n",
       "    }\n",
       "</style>\n",
       "<table border=\"1\" class=\"dataframe\">\n",
       "  <thead>\n",
       "    <tr style=\"text-align: right;\">\n",
       "      <th></th>\n",
       "      <th>rank</th>\n",
       "      <th>NN_rank</th>\n",
       "    </tr>\n",
       "  </thead>\n",
       "  <tbody>\n",
       "    <tr>\n",
       "      <th>count</th>\n",
       "      <td>952779.00</td>\n",
       "      <td>952779.00</td>\n",
       "    </tr>\n",
       "    <tr>\n",
       "      <th>mean</th>\n",
       "      <td>30.48</td>\n",
       "      <td>33.68</td>\n",
       "    </tr>\n",
       "    <tr>\n",
       "      <th>std</th>\n",
       "      <td>28.11</td>\n",
       "      <td>28.53</td>\n",
       "    </tr>\n",
       "    <tr>\n",
       "      <th>min</th>\n",
       "      <td>1.00</td>\n",
       "      <td>1.00</td>\n",
       "    </tr>\n",
       "    <tr>\n",
       "      <th>25%</th>\n",
       "      <td>6.00</td>\n",
       "      <td>9.00</td>\n",
       "    </tr>\n",
       "    <tr>\n",
       "      <th>50%</th>\n",
       "      <td>21.00</td>\n",
       "      <td>26.00</td>\n",
       "    </tr>\n",
       "    <tr>\n",
       "      <th>75%</th>\n",
       "      <td>50.00</td>\n",
       "      <td>54.00</td>\n",
       "    </tr>\n",
       "    <tr>\n",
       "      <th>max</th>\n",
       "      <td>99.00</td>\n",
       "      <td>99.00</td>\n",
       "    </tr>\n",
       "  </tbody>\n",
       "</table>\n",
       "</div>"
      ],
      "text/plain": [
       "           rank   NN_rank\n",
       "count 952779.00 952779.00\n",
       "mean      30.48     33.68\n",
       "std       28.11     28.53\n",
       "min        1.00      1.00\n",
       "25%        6.00      9.00\n",
       "50%       21.00     26.00\n",
       "75%       50.00     54.00\n",
       "max       99.00     99.00"
      ]
     },
     "execution_count": 5,
     "metadata": {},
     "output_type": "execute_result"
    }
   ],
   "source": [
    "full_table.describe()"
   ]
  },
  {
   "cell_type": "code",
   "execution_count": 6,
   "metadata": {},
   "outputs": [
    {
     "data": {
      "text/html": [
       "<div>\n",
       "<style scoped>\n",
       "    .dataframe tbody tr th:only-of-type {\n",
       "        vertical-align: middle;\n",
       "    }\n",
       "\n",
       "    .dataframe tbody tr th {\n",
       "        vertical-align: top;\n",
       "    }\n",
       "\n",
       "    .dataframe thead th {\n",
       "        text-align: right;\n",
       "    }\n",
       "</style>\n",
       "<table border=\"1\" class=\"dataframe\">\n",
       "  <thead>\n",
       "    <tr style=\"text-align: right;\">\n",
       "      <th></th>\n",
       "      <th>0</th>\n",
       "    </tr>\n",
       "    <tr>\n",
       "      <th>target</th>\n",
       "      <th></th>\n",
       "    </tr>\n",
       "  </thead>\n",
       "  <tbody>\n",
       "    <tr>\n",
       "      <th>100000</th>\n",
       "      <td>1</td>\n",
       "    </tr>\n",
       "    <tr>\n",
       "      <th>1000061</th>\n",
       "      <td>1</td>\n",
       "    </tr>\n",
       "    <tr>\n",
       "      <th>100021</th>\n",
       "      <td>3</td>\n",
       "    </tr>\n",
       "    <tr>\n",
       "      <th>1000294</th>\n",
       "      <td>1</td>\n",
       "    </tr>\n",
       "    <tr>\n",
       "      <th>1000300</th>\n",
       "      <td>22</td>\n",
       "    </tr>\n",
       "    <tr>\n",
       "      <th>...</th>\n",
       "      <td>...</td>\n",
       "    </tr>\n",
       "    <tr>\n",
       "      <th>999686</th>\n",
       "      <td>1</td>\n",
       "    </tr>\n",
       "    <tr>\n",
       "      <th>999712</th>\n",
       "      <td>77</td>\n",
       "    </tr>\n",
       "    <tr>\n",
       "      <th>999752</th>\n",
       "      <td>1</td>\n",
       "    </tr>\n",
       "    <tr>\n",
       "      <th>999828</th>\n",
       "      <td>425</td>\n",
       "    </tr>\n",
       "    <tr>\n",
       "      <th>999951</th>\n",
       "      <td>1</td>\n",
       "    </tr>\n",
       "  </tbody>\n",
       "</table>\n",
       "<p>67303 rows × 1 columns</p>\n",
       "</div>"
      ],
      "text/plain": [
       "           0\n",
       "target      \n",
       "100000     1\n",
       "1000061    1\n",
       "100021     3\n",
       "1000294    1\n",
       "1000300   22\n",
       "...      ...\n",
       "999686     1\n",
       "999712    77\n",
       "999752     1\n",
       "999828   425\n",
       "999951     1\n",
       "\n",
       "[67303 rows x 1 columns]"
      ]
     },
     "execution_count": 6,
     "metadata": {},
     "output_type": "execute_result"
    }
   ],
   "source": [
    "table_grby = full_table.groupby(['target'])\n",
    "pd.DataFrame(table_grby.size())"
   ]
  },
  {
   "cell_type": "code",
   "execution_count": 7,
   "metadata": {},
   "outputs": [],
   "source": [
    "df_table  = pd.merge(full_table, pd.DataFrame(table_grby.size()), on=['target'], how='left')"
   ]
  },
  {
   "cell_type": "code",
   "execution_count": 8,
   "metadata": {},
   "outputs": [],
   "source": [
    "df_table.rename(columns = {0:'occur'}, inplace=True)"
   ]
  },
  {
   "cell_type": "code",
   "execution_count": 9,
   "metadata": {},
   "outputs": [
    {
     "data": {
      "text/html": [
       "<div>\n",
       "<style scoped>\n",
       "    .dataframe tbody tr th:only-of-type {\n",
       "        vertical-align: middle;\n",
       "    }\n",
       "\n",
       "    .dataframe tbody tr th {\n",
       "        vertical-align: top;\n",
       "    }\n",
       "\n",
       "    .dataframe thead th {\n",
       "        text-align: right;\n",
       "    }\n",
       "</style>\n",
       "<table border=\"1\" class=\"dataframe\">\n",
       "  <thead>\n",
       "    <tr style=\"text-align: right;\">\n",
       "      <th></th>\n",
       "      <th>target</th>\n",
       "      <th>next</th>\n",
       "      <th>rank</th>\n",
       "      <th>NN_rank</th>\n",
       "      <th>occur</th>\n",
       "    </tr>\n",
       "  </thead>\n",
       "  <tbody>\n",
       "    <tr>\n",
       "      <th>0</th>\n",
       "      <td>2063176</td>\n",
       "      <td>1793668</td>\n",
       "      <td>53.00</td>\n",
       "      <td>21</td>\n",
       "      <td>35</td>\n",
       "    </tr>\n",
       "    <tr>\n",
       "      <th>1</th>\n",
       "      <td>1036421</td>\n",
       "      <td>215370</td>\n",
       "      <td>26.00</td>\n",
       "      <td>73</td>\n",
       "      <td>3</td>\n",
       "    </tr>\n",
       "    <tr>\n",
       "      <th>2</th>\n",
       "      <td>4364467</td>\n",
       "      <td>632080</td>\n",
       "      <td>19.00</td>\n",
       "      <td>35</td>\n",
       "      <td>342</td>\n",
       "    </tr>\n",
       "    <tr>\n",
       "      <th>3</th>\n",
       "      <td>632080</td>\n",
       "      <td>4272037</td>\n",
       "      <td>20.00</td>\n",
       "      <td>29</td>\n",
       "      <td>648</td>\n",
       "    </tr>\n",
       "    <tr>\n",
       "      <th>4</th>\n",
       "      <td>4272037</td>\n",
       "      <td>2454050</td>\n",
       "      <td>14.00</td>\n",
       "      <td>26</td>\n",
       "      <td>99</td>\n",
       "    </tr>\n",
       "    <tr>\n",
       "      <th>...</th>\n",
       "      <td>...</td>\n",
       "      <td>...</td>\n",
       "      <td>...</td>\n",
       "      <td>...</td>\n",
       "      <td>...</td>\n",
       "    </tr>\n",
       "    <tr>\n",
       "      <th>308931</th>\n",
       "      <td>2800976</td>\n",
       "      <td>4243503</td>\n",
       "      <td>76.00</td>\n",
       "      <td>89</td>\n",
       "      <td>12</td>\n",
       "    </tr>\n",
       "    <tr>\n",
       "      <th>308932</th>\n",
       "      <td>3367985</td>\n",
       "      <td>3066223</td>\n",
       "      <td>25.00</td>\n",
       "      <td>13</td>\n",
       "      <td>68</td>\n",
       "    </tr>\n",
       "    <tr>\n",
       "      <th>308933</th>\n",
       "      <td>117092</td>\n",
       "      <td>4597783</td>\n",
       "      <td>91.00</td>\n",
       "      <td>28</td>\n",
       "      <td>139</td>\n",
       "    </tr>\n",
       "    <tr>\n",
       "      <th>308934</th>\n",
       "      <td>626850</td>\n",
       "      <td>3821357</td>\n",
       "      <td>10.00</td>\n",
       "      <td>18</td>\n",
       "      <td>53</td>\n",
       "    </tr>\n",
       "    <tr>\n",
       "      <th>308935</th>\n",
       "      <td>3087929</td>\n",
       "      <td>3292913</td>\n",
       "      <td>88.00</td>\n",
       "      <td>13</td>\n",
       "      <td>1</td>\n",
       "    </tr>\n",
       "  </tbody>\n",
       "</table>\n",
       "<p>308936 rows × 5 columns</p>\n",
       "</div>"
      ],
      "text/plain": [
       "         target     next  rank  NN_rank  occur\n",
       "0       2063176  1793668 53.00       21     35\n",
       "1       1036421   215370 26.00       73      3\n",
       "2       4364467   632080 19.00       35    342\n",
       "3        632080  4272037 20.00       29    648\n",
       "4       4272037  2454050 14.00       26     99\n",
       "...         ...      ...   ...      ...    ...\n",
       "308931  2800976  4243503 76.00       89     12\n",
       "308932  3367985  3066223 25.00       13     68\n",
       "308933   117092  4597783 91.00       28    139\n",
       "308934   626850  3821357 10.00       18     53\n",
       "308935  3087929  3292913 88.00       13      1\n",
       "\n",
       "[308936 rows x 5 columns]"
      ]
     },
     "execution_count": 9,
     "metadata": {},
     "output_type": "execute_result"
    }
   ],
   "source": [
    "df_table.drop_duplicates(inplace=True, ignore_index=True)\n",
    "df_table"
   ]
  },
  {
   "cell_type": "code",
   "execution_count": 10,
   "metadata": {},
   "outputs": [
    {
     "data": {
      "text/html": [
       "<div>\n",
       "<style scoped>\n",
       "    .dataframe tbody tr th:only-of-type {\n",
       "        vertical-align: middle;\n",
       "    }\n",
       "\n",
       "    .dataframe tbody tr th {\n",
       "        vertical-align: top;\n",
       "    }\n",
       "\n",
       "    .dataframe thead th {\n",
       "        text-align: right;\n",
       "    }\n",
       "</style>\n",
       "<table border=\"1\" class=\"dataframe\">\n",
       "  <thead>\n",
       "    <tr style=\"text-align: right;\">\n",
       "      <th></th>\n",
       "      <th>rank</th>\n",
       "      <th>NN_rank</th>\n",
       "      <th>occur</th>\n",
       "    </tr>\n",
       "  </thead>\n",
       "  <tbody>\n",
       "    <tr>\n",
       "      <th>count</th>\n",
       "      <td>308936.00</td>\n",
       "      <td>308936.00</td>\n",
       "      <td>308936.00</td>\n",
       "    </tr>\n",
       "    <tr>\n",
       "      <th>mean</th>\n",
       "      <td>39.25</td>\n",
       "      <td>42.30</td>\n",
       "      <td>76.66</td>\n",
       "    </tr>\n",
       "    <tr>\n",
       "      <th>std</th>\n",
       "      <td>28.98</td>\n",
       "      <td>29.00</td>\n",
       "      <td>143.12</td>\n",
       "    </tr>\n",
       "    <tr>\n",
       "      <th>min</th>\n",
       "      <td>1.00</td>\n",
       "      <td>1.00</td>\n",
       "      <td>1.00</td>\n",
       "    </tr>\n",
       "    <tr>\n",
       "      <th>25%</th>\n",
       "      <td>13.00</td>\n",
       "      <td>17.00</td>\n",
       "      <td>6.00</td>\n",
       "    </tr>\n",
       "    <tr>\n",
       "      <th>50%</th>\n",
       "      <td>34.00</td>\n",
       "      <td>38.00</td>\n",
       "      <td>25.00</td>\n",
       "    </tr>\n",
       "    <tr>\n",
       "      <th>75%</th>\n",
       "      <td>63.00</td>\n",
       "      <td>66.00</td>\n",
       "      <td>84.00</td>\n",
       "    </tr>\n",
       "    <tr>\n",
       "      <th>max</th>\n",
       "      <td>99.00</td>\n",
       "      <td>99.00</td>\n",
       "      <td>2275.00</td>\n",
       "    </tr>\n",
       "  </tbody>\n",
       "</table>\n",
       "</div>"
      ],
      "text/plain": [
       "           rank   NN_rank     occur\n",
       "count 308936.00 308936.00 308936.00\n",
       "mean      39.25     42.30     76.66\n",
       "std       28.98     29.00    143.12\n",
       "min        1.00      1.00      1.00\n",
       "25%       13.00     17.00      6.00\n",
       "50%       34.00     38.00     25.00\n",
       "75%       63.00     66.00     84.00\n",
       "max       99.00     99.00   2275.00"
      ]
     },
     "execution_count": 10,
     "metadata": {},
     "output_type": "execute_result"
    }
   ],
   "source": [
    "df_table.describe()"
   ]
  },
  {
   "cell_type": "code",
   "execution_count": 11,
   "metadata": {},
   "outputs": [
    {
     "data": {
      "text/html": [
       "<div>\n",
       "<style scoped>\n",
       "    .dataframe tbody tr th:only-of-type {\n",
       "        vertical-align: middle;\n",
       "    }\n",
       "\n",
       "    .dataframe tbody tr th {\n",
       "        vertical-align: top;\n",
       "    }\n",
       "\n",
       "    .dataframe thead th {\n",
       "        text-align: right;\n",
       "    }\n",
       "</style>\n",
       "<table border=\"1\" class=\"dataframe\">\n",
       "  <thead>\n",
       "    <tr style=\"text-align: right;\">\n",
       "      <th></th>\n",
       "      <th>rank</th>\n",
       "      <th>NN_rank</th>\n",
       "    </tr>\n",
       "  </thead>\n",
       "  <tbody>\n",
       "    <tr>\n",
       "      <th>count</th>\n",
       "      <td>547.00</td>\n",
       "      <td>547.00</td>\n",
       "    </tr>\n",
       "    <tr>\n",
       "      <th>mean</th>\n",
       "      <td>37.62</td>\n",
       "      <td>38.27</td>\n",
       "    </tr>\n",
       "    <tr>\n",
       "      <th>std</th>\n",
       "      <td>5.38</td>\n",
       "      <td>4.61</td>\n",
       "    </tr>\n",
       "    <tr>\n",
       "      <th>min</th>\n",
       "      <td>11.33</td>\n",
       "      <td>17.44</td>\n",
       "    </tr>\n",
       "    <tr>\n",
       "      <th>25%</th>\n",
       "      <td>35.58</td>\n",
       "      <td>36.01</td>\n",
       "    </tr>\n",
       "    <tr>\n",
       "      <th>50%</th>\n",
       "      <td>38.01</td>\n",
       "      <td>38.71</td>\n",
       "    </tr>\n",
       "    <tr>\n",
       "      <th>75%</th>\n",
       "      <td>40.65</td>\n",
       "      <td>40.77</td>\n",
       "    </tr>\n",
       "    <tr>\n",
       "      <th>max</th>\n",
       "      <td>49.36</td>\n",
       "      <td>55.21</td>\n",
       "    </tr>\n",
       "  </tbody>\n",
       "</table>\n",
       "</div>"
      ],
      "text/plain": [
       "        rank  NN_rank\n",
       "count 547.00   547.00\n",
       "mean   37.62    38.27\n",
       "std     5.38     4.61\n",
       "min    11.33    17.44\n",
       "25%    35.58    36.01\n",
       "50%    38.01    38.71\n",
       "75%    40.65    40.77\n",
       "max    49.36    55.21"
      ]
     },
     "execution_count": 11,
     "metadata": {},
     "output_type": "execute_result"
    }
   ],
   "source": [
    "df_table.groupby('occur').mean().describe()"
   ]
  },
  {
   "cell_type": "code",
   "execution_count": 12,
   "metadata": {},
   "outputs": [],
   "source": [
    "# df_table.groupby('occur').mean().to_excel('result_-8days_v3.xlsx')"
   ]
  },
  {
   "cell_type": "code",
   "execution_count": 13,
   "metadata": {},
   "outputs": [],
   "source": [
    "# df_table.groupby('occur').mean().to_csv('result_-107days.csv')"
   ]
  },
  {
   "cell_type": "code",
   "execution_count": 14,
   "metadata": {},
   "outputs": [],
   "source": [
    "# df_table.groupby('occur').mean().plot(figsize=(20,10))[:100]"
   ]
  },
  {
   "cell_type": "markdown",
   "metadata": {},
   "source": [
    "---"
   ]
  },
  {
   "cell_type": "code",
   "execution_count": 15,
   "metadata": {},
   "outputs": [
    {
     "data": {
      "text/plain": [
       "33.8"
      ]
     },
     "execution_count": 15,
     "metadata": {},
     "output_type": "execute_result"
    }
   ],
   "source": [
    "target_grby = df_table.groupby(['target'])\n",
    "target_grby.get_group('117092')['rank'].mean()"
   ]
  },
  {
   "cell_type": "code",
   "execution_count": 16,
   "metadata": {},
   "outputs": [],
   "source": [
    "target_array = df_table['target'].unique()\n",
    "training_table = pd.DataFrame({'target': target_array})\n",
    "training_table  = pd.merge(training_table, pd.DataFrame(table_grby.size()), on=['target'], how='left')\n",
    "training_table.rename(columns = {0:'occur'}, inplace=True)"
   ]
  },
  {
   "cell_type": "code",
   "execution_count": 17,
   "metadata": {},
   "outputs": [],
   "source": [
    "training_table['rank'] = training_table.apply(lambda df: target_grby.get_group(df['target'])['rank'].mean(), axis=1)\n",
    "training_table['NN_rank'] = training_table.apply(lambda df: target_grby.get_group(df['target'])['NN_rank'].mean(), axis=1)\n",
    "training_table['label'] = training_table.apply(lambda df: df['rank'] > df['NN_rank'], axis=1)"
   ]
  },
  {
   "cell_type": "code",
   "execution_count": 18,
   "metadata": {},
   "outputs": [],
   "source": [
    "training_table['switch'] = training_table.apply(lambda df: df['NN_rank'] if df['rank'] > df['NN_rank'] else df['rank'], axis=1)"
   ]
  },
  {
   "cell_type": "code",
   "execution_count": 19,
   "metadata": {},
   "outputs": [
    {
     "data": {
      "text/html": [
       "<div>\n",
       "<style scoped>\n",
       "    .dataframe tbody tr th:only-of-type {\n",
       "        vertical-align: middle;\n",
       "    }\n",
       "\n",
       "    .dataframe tbody tr th {\n",
       "        vertical-align: top;\n",
       "    }\n",
       "\n",
       "    .dataframe thead th {\n",
       "        text-align: right;\n",
       "    }\n",
       "</style>\n",
       "<table border=\"1\" class=\"dataframe\">\n",
       "  <thead>\n",
       "    <tr style=\"text-align: right;\">\n",
       "      <th></th>\n",
       "      <th>target</th>\n",
       "      <th>occur</th>\n",
       "      <th>rank</th>\n",
       "      <th>NN_rank</th>\n",
       "      <th>label</th>\n",
       "      <th>switch</th>\n",
       "    </tr>\n",
       "  </thead>\n",
       "  <tbody>\n",
       "    <tr>\n",
       "      <th>0</th>\n",
       "      <td>2063176</td>\n",
       "      <td>35</td>\n",
       "      <td>33.25</td>\n",
       "      <td>40.75</td>\n",
       "      <td>False</td>\n",
       "      <td>33.25</td>\n",
       "    </tr>\n",
       "    <tr>\n",
       "      <th>1</th>\n",
       "      <td>1036421</td>\n",
       "      <td>3</td>\n",
       "      <td>52.50</td>\n",
       "      <td>51.00</td>\n",
       "      <td>True</td>\n",
       "      <td>51.00</td>\n",
       "    </tr>\n",
       "    <tr>\n",
       "      <th>2</th>\n",
       "      <td>4364467</td>\n",
       "      <td>342</td>\n",
       "      <td>28.70</td>\n",
       "      <td>38.46</td>\n",
       "      <td>False</td>\n",
       "      <td>28.70</td>\n",
       "    </tr>\n",
       "    <tr>\n",
       "      <th>3</th>\n",
       "      <td>632080</td>\n",
       "      <td>648</td>\n",
       "      <td>34.33</td>\n",
       "      <td>35.59</td>\n",
       "      <td>False</td>\n",
       "      <td>34.33</td>\n",
       "    </tr>\n",
       "    <tr>\n",
       "      <th>4</th>\n",
       "      <td>4272037</td>\n",
       "      <td>99</td>\n",
       "      <td>21.71</td>\n",
       "      <td>39.50</td>\n",
       "      <td>False</td>\n",
       "      <td>21.71</td>\n",
       "    </tr>\n",
       "    <tr>\n",
       "      <th>...</th>\n",
       "      <td>...</td>\n",
       "      <td>...</td>\n",
       "      <td>...</td>\n",
       "      <td>...</td>\n",
       "      <td>...</td>\n",
       "      <td>...</td>\n",
       "    </tr>\n",
       "    <tr>\n",
       "      <th>67298</th>\n",
       "      <td>518237</td>\n",
       "      <td>1</td>\n",
       "      <td>44.00</td>\n",
       "      <td>54.00</td>\n",
       "      <td>False</td>\n",
       "      <td>44.00</td>\n",
       "    </tr>\n",
       "    <tr>\n",
       "      <th>67299</th>\n",
       "      <td>3580767</td>\n",
       "      <td>1</td>\n",
       "      <td>69.00</td>\n",
       "      <td>63.00</td>\n",
       "      <td>True</td>\n",
       "      <td>63.00</td>\n",
       "    </tr>\n",
       "    <tr>\n",
       "      <th>67300</th>\n",
       "      <td>3938629</td>\n",
       "      <td>1</td>\n",
       "      <td>56.00</td>\n",
       "      <td>97.00</td>\n",
       "      <td>False</td>\n",
       "      <td>56.00</td>\n",
       "    </tr>\n",
       "    <tr>\n",
       "      <th>67301</th>\n",
       "      <td>4464701</td>\n",
       "      <td>1</td>\n",
       "      <td>3.00</td>\n",
       "      <td>71.00</td>\n",
       "      <td>False</td>\n",
       "      <td>3.00</td>\n",
       "    </tr>\n",
       "    <tr>\n",
       "      <th>67302</th>\n",
       "      <td>3087929</td>\n",
       "      <td>1</td>\n",
       "      <td>88.00</td>\n",
       "      <td>13.00</td>\n",
       "      <td>True</td>\n",
       "      <td>13.00</td>\n",
       "    </tr>\n",
       "  </tbody>\n",
       "</table>\n",
       "<p>67303 rows × 6 columns</p>\n",
       "</div>"
      ],
      "text/plain": [
       "        target  occur  rank  NN_rank  label  switch\n",
       "0      2063176     35 33.25    40.75  False   33.25\n",
       "1      1036421      3 52.50    51.00   True   51.00\n",
       "2      4364467    342 28.70    38.46  False   28.70\n",
       "3       632080    648 34.33    35.59  False   34.33\n",
       "4      4272037     99 21.71    39.50  False   21.71\n",
       "...        ...    ...   ...      ...    ...     ...\n",
       "67298   518237      1 44.00    54.00  False   44.00\n",
       "67299  3580767      1 69.00    63.00   True   63.00\n",
       "67300  3938629      1 56.00    97.00  False   56.00\n",
       "67301  4464701      1  3.00    71.00  False    3.00\n",
       "67302  3087929      1 88.00    13.00   True   13.00\n",
       "\n",
       "[67303 rows x 6 columns]"
      ]
     },
     "execution_count": 19,
     "metadata": {},
     "output_type": "execute_result"
    }
   ],
   "source": [
    "training_table"
   ]
  },
  {
   "cell_type": "code",
   "execution_count": 20,
   "metadata": {},
   "outputs": [
    {
     "data": {
      "text/plain": [
       "False    38440\n",
       "True     28863\n",
       "Name: label, dtype: int64"
      ]
     },
     "execution_count": 20,
     "metadata": {},
     "output_type": "execute_result"
    }
   ],
   "source": [
    "training_table['label'].value_counts()"
   ]
  },
  {
   "cell_type": "markdown",
   "metadata": {},
   "source": [
    "---"
   ]
  },
  {
   "cell_type": "code",
   "execution_count": 34,
   "metadata": {},
   "outputs": [],
   "source": [
    "df_table_testday = pd.concat(lt_df_NN_rank[1+4:], ignore_index=True)"
   ]
  },
  {
   "cell_type": "code",
   "execution_count": 35,
   "metadata": {},
   "outputs": [],
   "source": [
    "df_table_testday.drop_duplicates(inplace=True, ignore_index=True)"
   ]
  },
  {
   "cell_type": "code",
   "execution_count": 36,
   "metadata": {},
   "outputs": [
    {
     "data": {
      "text/html": [
       "<div>\n",
       "<style scoped>\n",
       "    .dataframe tbody tr th:only-of-type {\n",
       "        vertical-align: middle;\n",
       "    }\n",
       "\n",
       "    .dataframe tbody tr th {\n",
       "        vertical-align: top;\n",
       "    }\n",
       "\n",
       "    .dataframe thead th {\n",
       "        text-align: right;\n",
       "    }\n",
       "</style>\n",
       "<table border=\"1\" class=\"dataframe\">\n",
       "  <thead>\n",
       "    <tr style=\"text-align: right;\">\n",
       "      <th></th>\n",
       "      <th>rank</th>\n",
       "      <th>NN_rank</th>\n",
       "    </tr>\n",
       "  </thead>\n",
       "  <tbody>\n",
       "    <tr>\n",
       "      <th>count</th>\n",
       "      <td>308215.00</td>\n",
       "      <td>308215.00</td>\n",
       "    </tr>\n",
       "    <tr>\n",
       "      <th>mean</th>\n",
       "      <td>39.75</td>\n",
       "      <td>42.79</td>\n",
       "    </tr>\n",
       "    <tr>\n",
       "      <th>std</th>\n",
       "      <td>29.02</td>\n",
       "      <td>29.08</td>\n",
       "    </tr>\n",
       "    <tr>\n",
       "      <th>min</th>\n",
       "      <td>1.00</td>\n",
       "      <td>1.00</td>\n",
       "    </tr>\n",
       "    <tr>\n",
       "      <th>25%</th>\n",
       "      <td>14.00</td>\n",
       "      <td>17.00</td>\n",
       "    </tr>\n",
       "    <tr>\n",
       "      <th>50%</th>\n",
       "      <td>35.00</td>\n",
       "      <td>39.00</td>\n",
       "    </tr>\n",
       "    <tr>\n",
       "      <th>75%</th>\n",
       "      <td>63.00</td>\n",
       "      <td>67.00</td>\n",
       "    </tr>\n",
       "    <tr>\n",
       "      <th>max</th>\n",
       "      <td>99.00</td>\n",
       "      <td>99.00</td>\n",
       "    </tr>\n",
       "  </tbody>\n",
       "</table>\n",
       "</div>"
      ],
      "text/plain": [
       "           rank   NN_rank\n",
       "count 308215.00 308215.00\n",
       "mean      39.75     42.79\n",
       "std       29.02     29.08\n",
       "min        1.00      1.00\n",
       "25%       14.00     17.00\n",
       "50%       35.00     39.00\n",
       "75%       63.00     67.00\n",
       "max       99.00     99.00"
      ]
     },
     "execution_count": 36,
     "metadata": {},
     "output_type": "execute_result"
    }
   ],
   "source": [
    "df_table_testday.describe()"
   ]
  },
  {
   "cell_type": "code",
   "execution_count": 62,
   "metadata": {},
   "outputs": [],
   "source": [
    "switch_table = training_table.drop(columns=['rank', 'NN_rank', 'switch'])"
   ]
  },
  {
   "cell_type": "code",
   "execution_count": 71,
   "metadata": {},
   "outputs": [],
   "source": [
    "df_table_testday_switch = pd.merge(df_table_testday, switch_table, on=['target'], how='left')"
   ]
  },
  {
   "cell_type": "code",
   "execution_count": 72,
   "metadata": {},
   "outputs": [],
   "source": [
    "df_table_testday_switch['real_label'] = df_table_testday_switch.apply(lambda df: df['rank'] > df['NN_rank'], axis=1)"
   ]
  },
  {
   "cell_type": "code",
   "execution_count": 73,
   "metadata": {},
   "outputs": [],
   "source": [
    "df_table_testday_switch['switch'] = df_table_testday_switch.apply(lambda df: df['NN_rank'] if df['label'] else df['rank'], axis=1)"
   ]
  },
  {
   "cell_type": "code",
   "execution_count": 74,
   "metadata": {},
   "outputs": [],
   "source": [
    "df_table_testday_switch['switch_fill'] = df_table_testday_switch.apply(lambda df: df['rank'] if df['switch'] is np.NaN else df['switch'], axis=1)"
   ]
  },
  {
   "cell_type": "code",
   "execution_count": 75,
   "metadata": {},
   "outputs": [
    {
     "data": {
      "text/html": [
       "<div>\n",
       "<style scoped>\n",
       "    .dataframe tbody tr th:only-of-type {\n",
       "        vertical-align: middle;\n",
       "    }\n",
       "\n",
       "    .dataframe tbody tr th {\n",
       "        vertical-align: top;\n",
       "    }\n",
       "\n",
       "    .dataframe thead th {\n",
       "        text-align: right;\n",
       "    }\n",
       "</style>\n",
       "<table border=\"1\" class=\"dataframe\">\n",
       "  <thead>\n",
       "    <tr style=\"text-align: right;\">\n",
       "      <th></th>\n",
       "      <th>target</th>\n",
       "      <th>next</th>\n",
       "      <th>rank</th>\n",
       "      <th>NN_rank</th>\n",
       "      <th>occur</th>\n",
       "      <th>label</th>\n",
       "      <th>real_label</th>\n",
       "      <th>switch</th>\n",
       "      <th>switch_fill</th>\n",
       "    </tr>\n",
       "  </thead>\n",
       "  <tbody>\n",
       "    <tr>\n",
       "      <th>0</th>\n",
       "      <td>4449648</td>\n",
       "      <td>1580138</td>\n",
       "      <td>77.00</td>\n",
       "      <td>49</td>\n",
       "      <td>5.00</td>\n",
       "      <td>False</td>\n",
       "      <td>True</td>\n",
       "      <td>77.00</td>\n",
       "      <td>77.00</td>\n",
       "    </tr>\n",
       "    <tr>\n",
       "      <th>1</th>\n",
       "      <td>1674582</td>\n",
       "      <td>3574186</td>\n",
       "      <td>54.00</td>\n",
       "      <td>61</td>\n",
       "      <td>38.00</td>\n",
       "      <td>True</td>\n",
       "      <td>False</td>\n",
       "      <td>61.00</td>\n",
       "      <td>61.00</td>\n",
       "    </tr>\n",
       "    <tr>\n",
       "      <th>2</th>\n",
       "      <td>3715112</td>\n",
       "      <td>1712849</td>\n",
       "      <td>2.00</td>\n",
       "      <td>24</td>\n",
       "      <td>1026.00</td>\n",
       "      <td>True</td>\n",
       "      <td>False</td>\n",
       "      <td>24.00</td>\n",
       "      <td>24.00</td>\n",
       "    </tr>\n",
       "    <tr>\n",
       "      <th>3</th>\n",
       "      <td>1712849</td>\n",
       "      <td>3715112</td>\n",
       "      <td>1.00</td>\n",
       "      <td>99</td>\n",
       "      <td>40.00</td>\n",
       "      <td>False</td>\n",
       "      <td>False</td>\n",
       "      <td>1.00</td>\n",
       "      <td>1.00</td>\n",
       "    </tr>\n",
       "    <tr>\n",
       "      <th>4</th>\n",
       "      <td>3715112</td>\n",
       "      <td>4546029</td>\n",
       "      <td>14.00</td>\n",
       "      <td>9</td>\n",
       "      <td>1026.00</td>\n",
       "      <td>True</td>\n",
       "      <td>True</td>\n",
       "      <td>9.00</td>\n",
       "      <td>9.00</td>\n",
       "    </tr>\n",
       "    <tr>\n",
       "      <th>...</th>\n",
       "      <td>...</td>\n",
       "      <td>...</td>\n",
       "      <td>...</td>\n",
       "      <td>...</td>\n",
       "      <td>...</td>\n",
       "      <td>...</td>\n",
       "      <td>...</td>\n",
       "      <td>...</td>\n",
       "      <td>...</td>\n",
       "    </tr>\n",
       "    <tr>\n",
       "      <th>308210</th>\n",
       "      <td>3244585</td>\n",
       "      <td>46310</td>\n",
       "      <td>52.00</td>\n",
       "      <td>74</td>\n",
       "      <td>6.00</td>\n",
       "      <td>True</td>\n",
       "      <td>False</td>\n",
       "      <td>74.00</td>\n",
       "      <td>74.00</td>\n",
       "    </tr>\n",
       "    <tr>\n",
       "      <th>308211</th>\n",
       "      <td>3586172</td>\n",
       "      <td>3904916</td>\n",
       "      <td>73.00</td>\n",
       "      <td>3</td>\n",
       "      <td>1.00</td>\n",
       "      <td>True</td>\n",
       "      <td>True</td>\n",
       "      <td>3.00</td>\n",
       "      <td>3.00</td>\n",
       "    </tr>\n",
       "    <tr>\n",
       "      <th>308212</th>\n",
       "      <td>1322280</td>\n",
       "      <td>1535093</td>\n",
       "      <td>68.00</td>\n",
       "      <td>68</td>\n",
       "      <td>nan</td>\n",
       "      <td>NaN</td>\n",
       "      <td>False</td>\n",
       "      <td>68.00</td>\n",
       "      <td>68.00</td>\n",
       "    </tr>\n",
       "    <tr>\n",
       "      <th>308213</th>\n",
       "      <td>3670405</td>\n",
       "      <td>845698</td>\n",
       "      <td>72.00</td>\n",
       "      <td>77</td>\n",
       "      <td>nan</td>\n",
       "      <td>NaN</td>\n",
       "      <td>False</td>\n",
       "      <td>77.00</td>\n",
       "      <td>77.00</td>\n",
       "    </tr>\n",
       "    <tr>\n",
       "      <th>308214</th>\n",
       "      <td>4898389</td>\n",
       "      <td>3061454</td>\n",
       "      <td>88.00</td>\n",
       "      <td>79</td>\n",
       "      <td>33.00</td>\n",
       "      <td>False</td>\n",
       "      <td>True</td>\n",
       "      <td>88.00</td>\n",
       "      <td>88.00</td>\n",
       "    </tr>\n",
       "  </tbody>\n",
       "</table>\n",
       "<p>308215 rows × 9 columns</p>\n",
       "</div>"
      ],
      "text/plain": [
       "         target     next  rank  NN_rank   occur  label  real_label  switch  \\\n",
       "0       4449648  1580138 77.00       49    5.00  False        True   77.00   \n",
       "1       1674582  3574186 54.00       61   38.00   True       False   61.00   \n",
       "2       3715112  1712849  2.00       24 1026.00   True       False   24.00   \n",
       "3       1712849  3715112  1.00       99   40.00  False       False    1.00   \n",
       "4       3715112  4546029 14.00        9 1026.00   True        True    9.00   \n",
       "...         ...      ...   ...      ...     ...    ...         ...     ...   \n",
       "308210  3244585    46310 52.00       74    6.00   True       False   74.00   \n",
       "308211  3586172  3904916 73.00        3    1.00   True        True    3.00   \n",
       "308212  1322280  1535093 68.00       68     nan    NaN       False   68.00   \n",
       "308213  3670405   845698 72.00       77     nan    NaN       False   77.00   \n",
       "308214  4898389  3061454 88.00       79   33.00  False        True   88.00   \n",
       "\n",
       "        switch_fill  \n",
       "0             77.00  \n",
       "1             61.00  \n",
       "2             24.00  \n",
       "3              1.00  \n",
       "4              9.00  \n",
       "...             ...  \n",
       "308210        74.00  \n",
       "308211         3.00  \n",
       "308212        68.00  \n",
       "308213        77.00  \n",
       "308214        88.00  \n",
       "\n",
       "[308215 rows x 9 columns]"
      ]
     },
     "execution_count": 75,
     "metadata": {},
     "output_type": "execute_result"
    }
   ],
   "source": [
    "df_table_testday_switch"
   ]
  },
  {
   "cell_type": "code",
   "execution_count": 76,
   "metadata": {},
   "outputs": [
    {
     "data": {
      "text/html": [
       "<div>\n",
       "<style scoped>\n",
       "    .dataframe tbody tr th:only-of-type {\n",
       "        vertical-align: middle;\n",
       "    }\n",
       "\n",
       "    .dataframe tbody tr th {\n",
       "        vertical-align: top;\n",
       "    }\n",
       "\n",
       "    .dataframe thead th {\n",
       "        text-align: right;\n",
       "    }\n",
       "</style>\n",
       "<table border=\"1\" class=\"dataframe\">\n",
       "  <thead>\n",
       "    <tr style=\"text-align: right;\">\n",
       "      <th></th>\n",
       "      <th>rank</th>\n",
       "      <th>NN_rank</th>\n",
       "      <th>occur</th>\n",
       "      <th>switch</th>\n",
       "      <th>switch_fill</th>\n",
       "    </tr>\n",
       "  </thead>\n",
       "  <tbody>\n",
       "    <tr>\n",
       "      <th>count</th>\n",
       "      <td>308215.00</td>\n",
       "      <td>308215.00</td>\n",
       "      <td>282685.00</td>\n",
       "      <td>308215.00</td>\n",
       "      <td>308215.00</td>\n",
       "    </tr>\n",
       "    <tr>\n",
       "      <th>mean</th>\n",
       "      <td>39.75</td>\n",
       "      <td>42.79</td>\n",
       "      <td>80.89</td>\n",
       "      <td>38.02</td>\n",
       "      <td>38.02</td>\n",
       "    </tr>\n",
       "    <tr>\n",
       "      <th>std</th>\n",
       "      <td>29.02</td>\n",
       "      <td>29.08</td>\n",
       "      <td>145.79</td>\n",
       "      <td>28.39</td>\n",
       "      <td>28.39</td>\n",
       "    </tr>\n",
       "    <tr>\n",
       "      <th>min</th>\n",
       "      <td>1.00</td>\n",
       "      <td>1.00</td>\n",
       "      <td>1.00</td>\n",
       "      <td>1.00</td>\n",
       "      <td>1.00</td>\n",
       "    </tr>\n",
       "    <tr>\n",
       "      <th>25%</th>\n",
       "      <td>14.00</td>\n",
       "      <td>17.00</td>\n",
       "      <td>8.00</td>\n",
       "      <td>13.00</td>\n",
       "      <td>13.00</td>\n",
       "    </tr>\n",
       "    <tr>\n",
       "      <th>50%</th>\n",
       "      <td>35.00</td>\n",
       "      <td>39.00</td>\n",
       "      <td>29.00</td>\n",
       "      <td>32.00</td>\n",
       "      <td>32.00</td>\n",
       "    </tr>\n",
       "    <tr>\n",
       "      <th>75%</th>\n",
       "      <td>63.00</td>\n",
       "      <td>67.00</td>\n",
       "      <td>90.00</td>\n",
       "      <td>60.00</td>\n",
       "      <td>60.00</td>\n",
       "    </tr>\n",
       "    <tr>\n",
       "      <th>max</th>\n",
       "      <td>99.00</td>\n",
       "      <td>99.00</td>\n",
       "      <td>2275.00</td>\n",
       "      <td>99.00</td>\n",
       "      <td>99.00</td>\n",
       "    </tr>\n",
       "  </tbody>\n",
       "</table>\n",
       "</div>"
      ],
      "text/plain": [
       "           rank   NN_rank     occur    switch  switch_fill\n",
       "count 308215.00 308215.00 282685.00 308215.00    308215.00\n",
       "mean      39.75     42.79     80.89     38.02        38.02\n",
       "std       29.02     29.08    145.79     28.39        28.39\n",
       "min        1.00      1.00      1.00      1.00         1.00\n",
       "25%       14.00     17.00      8.00     13.00        13.00\n",
       "50%       35.00     39.00     29.00     32.00        32.00\n",
       "75%       63.00     67.00     90.00     60.00        60.00\n",
       "max       99.00     99.00   2275.00     99.00        99.00"
      ]
     },
     "execution_count": 76,
     "metadata": {},
     "output_type": "execute_result"
    }
   ],
   "source": [
    "df_table_testday_switch.describe()"
   ]
  },
  {
   "cell_type": "code",
   "execution_count": 77,
   "metadata": {},
   "outputs": [
    {
     "data": {
      "text/plain": [
       "25530"
      ]
     },
     "execution_count": 77,
     "metadata": {},
     "output_type": "execute_result"
    }
   ],
   "source": [
    "df_table_testday_switch['label'].isnull().sum()"
   ]
  },
  {
   "cell_type": "code",
   "execution_count": 78,
   "metadata": {},
   "outputs": [
    {
     "name": "stdout",
     "output_type": "stream",
     "text": [
      "              precision    recall  f1-score   support\n",
      "\n",
      "       False       0.63      0.56      0.59    171891\n",
      "        True       0.52      0.59      0.55    136324\n",
      "\n",
      "    accuracy                           0.57    308215\n",
      "   macro avg       0.57      0.57      0.57    308215\n",
      "weighted avg       0.58      0.57      0.57    308215\n",
      "\n"
     ]
    }
   ],
   "source": [
    "from sklearn.metrics import classification_report,confusion_matrix\n",
    "print(classification_report(df_table_testday_switch['real_label'].tolist(),df_table_testday_switch['label'].fillna(True).tolist()))"
   ]
  },
  {
   "cell_type": "code",
   "execution_count": null,
   "metadata": {},
   "outputs": [],
   "source": []
  },
  {
   "cell_type": "code",
   "execution_count": null,
   "metadata": {},
   "outputs": [],
   "source": []
  },
  {
   "cell_type": "code",
   "execution_count": null,
   "metadata": {},
   "outputs": [],
   "source": []
  },
  {
   "cell_type": "code",
   "execution_count": null,
   "metadata": {},
   "outputs": [],
   "source": []
  },
  {
   "cell_type": "code",
   "execution_count": null,
   "metadata": {},
   "outputs": [],
   "source": []
  },
  {
   "cell_type": "code",
   "execution_count": null,
   "metadata": {},
   "outputs": [],
   "source": []
  },
  {
   "cell_type": "code",
   "execution_count": 61,
   "metadata": {},
   "outputs": [],
   "source": [
    "df_table['label'] = df_table.apply(lambda df: df['rank'] > df['NN_rank'], axis=1)"
   ]
  },
  {
   "cell_type": "code",
   "execution_count": 62,
   "metadata": {},
   "outputs": [],
   "source": [
    "# df_table['X_1'] = df_table.apply(lambda df: 1-df['rank']/100, axis=1)"
   ]
  },
  {
   "cell_type": "code",
   "execution_count": 63,
   "metadata": {},
   "outputs": [
    {
     "data": {
      "text/html": [
       "<div>\n",
       "<style scoped>\n",
       "    .dataframe tbody tr th:only-of-type {\n",
       "        vertical-align: middle;\n",
       "    }\n",
       "\n",
       "    .dataframe tbody tr th {\n",
       "        vertical-align: top;\n",
       "    }\n",
       "\n",
       "    .dataframe thead th {\n",
       "        text-align: right;\n",
       "    }\n",
       "</style>\n",
       "<table border=\"1\" class=\"dataframe\">\n",
       "  <thead>\n",
       "    <tr style=\"text-align: right;\">\n",
       "      <th></th>\n",
       "      <th>target</th>\n",
       "      <th>next</th>\n",
       "      <th>rank</th>\n",
       "      <th>NN_rank</th>\n",
       "      <th>occur</th>\n",
       "      <th>label</th>\n",
       "    </tr>\n",
       "  </thead>\n",
       "  <tbody>\n",
       "    <tr>\n",
       "      <th>0</th>\n",
       "      <td>2063176</td>\n",
       "      <td>1793668</td>\n",
       "      <td>53.00</td>\n",
       "      <td>21</td>\n",
       "      <td>35</td>\n",
       "      <td>True</td>\n",
       "    </tr>\n",
       "    <tr>\n",
       "      <th>1</th>\n",
       "      <td>1036421</td>\n",
       "      <td>215370</td>\n",
       "      <td>26.00</td>\n",
       "      <td>73</td>\n",
       "      <td>3</td>\n",
       "      <td>False</td>\n",
       "    </tr>\n",
       "    <tr>\n",
       "      <th>2</th>\n",
       "      <td>4364467</td>\n",
       "      <td>632080</td>\n",
       "      <td>19.00</td>\n",
       "      <td>35</td>\n",
       "      <td>342</td>\n",
       "      <td>False</td>\n",
       "    </tr>\n",
       "    <tr>\n",
       "      <th>3</th>\n",
       "      <td>632080</td>\n",
       "      <td>4272037</td>\n",
       "      <td>20.00</td>\n",
       "      <td>29</td>\n",
       "      <td>648</td>\n",
       "      <td>False</td>\n",
       "    </tr>\n",
       "    <tr>\n",
       "      <th>4</th>\n",
       "      <td>4272037</td>\n",
       "      <td>2454050</td>\n",
       "      <td>14.00</td>\n",
       "      <td>26</td>\n",
       "      <td>99</td>\n",
       "      <td>False</td>\n",
       "    </tr>\n",
       "    <tr>\n",
       "      <th>...</th>\n",
       "      <td>...</td>\n",
       "      <td>...</td>\n",
       "      <td>...</td>\n",
       "      <td>...</td>\n",
       "      <td>...</td>\n",
       "      <td>...</td>\n",
       "    </tr>\n",
       "    <tr>\n",
       "      <th>308931</th>\n",
       "      <td>2800976</td>\n",
       "      <td>4243503</td>\n",
       "      <td>76.00</td>\n",
       "      <td>89</td>\n",
       "      <td>12</td>\n",
       "      <td>False</td>\n",
       "    </tr>\n",
       "    <tr>\n",
       "      <th>308932</th>\n",
       "      <td>3367985</td>\n",
       "      <td>3066223</td>\n",
       "      <td>25.00</td>\n",
       "      <td>13</td>\n",
       "      <td>68</td>\n",
       "      <td>True</td>\n",
       "    </tr>\n",
       "    <tr>\n",
       "      <th>308933</th>\n",
       "      <td>117092</td>\n",
       "      <td>4597783</td>\n",
       "      <td>91.00</td>\n",
       "      <td>28</td>\n",
       "      <td>139</td>\n",
       "      <td>True</td>\n",
       "    </tr>\n",
       "    <tr>\n",
       "      <th>308934</th>\n",
       "      <td>626850</td>\n",
       "      <td>3821357</td>\n",
       "      <td>10.00</td>\n",
       "      <td>18</td>\n",
       "      <td>53</td>\n",
       "      <td>False</td>\n",
       "    </tr>\n",
       "    <tr>\n",
       "      <th>308935</th>\n",
       "      <td>3087929</td>\n",
       "      <td>3292913</td>\n",
       "      <td>88.00</td>\n",
       "      <td>13</td>\n",
       "      <td>1</td>\n",
       "      <td>True</td>\n",
       "    </tr>\n",
       "  </tbody>\n",
       "</table>\n",
       "<p>308936 rows × 6 columns</p>\n",
       "</div>"
      ],
      "text/plain": [
       "         target     next  rank  NN_rank  occur  label\n",
       "0       2063176  1793668 53.00       21     35   True\n",
       "1       1036421   215370 26.00       73      3  False\n",
       "2       4364467   632080 19.00       35    342  False\n",
       "3        632080  4272037 20.00       29    648  False\n",
       "4       4272037  2454050 14.00       26     99  False\n",
       "...         ...      ...   ...      ...    ...    ...\n",
       "308931  2800976  4243503 76.00       89     12  False\n",
       "308932  3367985  3066223 25.00       13     68   True\n",
       "308933   117092  4597783 91.00       28    139   True\n",
       "308934   626850  3821357 10.00       18     53  False\n",
       "308935  3087929  3292913 88.00       13      1   True\n",
       "\n",
       "[308936 rows x 6 columns]"
      ]
     },
     "execution_count": 63,
     "metadata": {},
     "output_type": "execute_result"
    }
   ],
   "source": [
    "df_table"
   ]
  },
  {
   "cell_type": "code",
   "execution_count": 64,
   "metadata": {},
   "outputs": [
    {
     "data": {
      "text/html": [
       "<div>\n",
       "<style scoped>\n",
       "    .dataframe tbody tr th:only-of-type {\n",
       "        vertical-align: middle;\n",
       "    }\n",
       "\n",
       "    .dataframe tbody tr th {\n",
       "        vertical-align: top;\n",
       "    }\n",
       "\n",
       "    .dataframe thead th {\n",
       "        text-align: right;\n",
       "    }\n",
       "</style>\n",
       "<table border=\"1\" class=\"dataframe\">\n",
       "  <thead>\n",
       "    <tr style=\"text-align: right;\">\n",
       "      <th></th>\n",
       "      <th>rank</th>\n",
       "      <th>NN_rank</th>\n",
       "      <th>occur</th>\n",
       "    </tr>\n",
       "  </thead>\n",
       "  <tbody>\n",
       "    <tr>\n",
       "      <th>count</th>\n",
       "      <td>308936.00</td>\n",
       "      <td>308936.00</td>\n",
       "      <td>308936.00</td>\n",
       "    </tr>\n",
       "    <tr>\n",
       "      <th>mean</th>\n",
       "      <td>39.25</td>\n",
       "      <td>42.30</td>\n",
       "      <td>76.66</td>\n",
       "    </tr>\n",
       "    <tr>\n",
       "      <th>std</th>\n",
       "      <td>28.98</td>\n",
       "      <td>29.00</td>\n",
       "      <td>143.12</td>\n",
       "    </tr>\n",
       "    <tr>\n",
       "      <th>min</th>\n",
       "      <td>1.00</td>\n",
       "      <td>1.00</td>\n",
       "      <td>1.00</td>\n",
       "    </tr>\n",
       "    <tr>\n",
       "      <th>25%</th>\n",
       "      <td>13.00</td>\n",
       "      <td>17.00</td>\n",
       "      <td>6.00</td>\n",
       "    </tr>\n",
       "    <tr>\n",
       "      <th>50%</th>\n",
       "      <td>34.00</td>\n",
       "      <td>38.00</td>\n",
       "      <td>25.00</td>\n",
       "    </tr>\n",
       "    <tr>\n",
       "      <th>75%</th>\n",
       "      <td>63.00</td>\n",
       "      <td>66.00</td>\n",
       "      <td>84.00</td>\n",
       "    </tr>\n",
       "    <tr>\n",
       "      <th>max</th>\n",
       "      <td>99.00</td>\n",
       "      <td>99.00</td>\n",
       "      <td>2275.00</td>\n",
       "    </tr>\n",
       "  </tbody>\n",
       "</table>\n",
       "</div>"
      ],
      "text/plain": [
       "           rank   NN_rank     occur\n",
       "count 308936.00 308936.00 308936.00\n",
       "mean      39.25     42.30     76.66\n",
       "std       28.98     29.00    143.12\n",
       "min        1.00      1.00      1.00\n",
       "25%       13.00     17.00      6.00\n",
       "50%       34.00     38.00     25.00\n",
       "75%       63.00     66.00     84.00\n",
       "max       99.00     99.00   2275.00"
      ]
     },
     "execution_count": 64,
     "metadata": {},
     "output_type": "execute_result"
    }
   ],
   "source": [
    "df_table.describe()"
   ]
  },
  {
   "cell_type": "code",
   "execution_count": 65,
   "metadata": {},
   "outputs": [
    {
     "data": {
      "text/plain": [
       "target     67303\n",
       "next       40916\n",
       "rank          99\n",
       "NN_rank       99\n",
       "occur        547\n",
       "label          2\n",
       "dtype: int64"
      ]
     },
     "execution_count": 65,
     "metadata": {},
     "output_type": "execute_result"
    }
   ],
   "source": [
    "df_table.nunique()"
   ]
  },
  {
   "cell_type": "code",
   "execution_count": 66,
   "metadata": {
    "collapsed": true,
    "jupyter": {
     "outputs_hidden": true
    }
   },
   "outputs": [
    {
     "data": {
      "text/plain": [
       "<matplotlib.axes._subplots.AxesSubplot at 0x7f11335ebf10>"
      ]
     },
     "execution_count": 66,
     "metadata": {},
     "output_type": "execute_result"
    },
    {
     "data": {
      "image/png": "[encoded data removed]",
      "text/plain": [
       "<Figure size 1440x720 with 1 Axes>"
      ]
     },
     "metadata": {
      "needs_background": "light"
     },
     "output_type": "display_data"
    }
   ],
   "source": [
    "df_table['occur'].value_counts().plot(figsize=(20,10))"
   ]
  },
  {
   "cell_type": "code",
   "execution_count": 67,
   "metadata": {},
   "outputs": [
    {
     "data": {
      "text/plain": [
       "1      25408\n",
       "2      15395\n",
       "3      11777\n",
       "4       9809\n",
       "5       8366\n",
       "       ...  \n",
       "335       19\n",
       "286       18\n",
       "363       15\n",
       "325        9\n",
       "382        7\n",
       "Name: occur, Length: 547, dtype: int64"
      ]
     },
     "execution_count": 67,
     "metadata": {},
     "output_type": "execute_result"
    }
   ],
   "source": [
    "df_table['occur'].value_counts()"
   ]
  },
  {
   "cell_type": "code",
   "execution_count": 68,
   "metadata": {},
   "outputs": [
    {
     "data": {
      "text/plain": [
       "1     1.31\n",
       "2     1.25\n",
       "3     1.21\n",
       "4     1.19\n",
       "5     1.17\n",
       "      ... \n",
       "335   0.38\n",
       "286   0.37\n",
       "363   0.35\n",
       "325   0.28\n",
       "382   0.25\n",
       "Name: occur, Length: 547, dtype: float64"
      ]
     },
     "execution_count": 68,
     "metadata": {},
     "output_type": "execute_result"
    }
   ],
   "source": [
    "max_occur = max(df_table['occur'])\n",
    "df_table['occur'].value_counts().apply(lambda x : log10(x)/log10(max_occur))"
   ]
  },
  {
   "cell_type": "code",
   "execution_count": 69,
   "metadata": {},
   "outputs": [],
   "source": [
    "pd.set_option('display.max_rows', 250)\n",
    "max_occur = max(df_table['occur'])\n",
    "df_occur = pd.DataFrame({'counts':df_table['occur'].value_counts(), 'log10':df_table['occur'].value_counts().apply(lambda x : log10(x)/log10(max_occur))}).reset_index()\n",
    "df_occur.rename(columns = {'index':'occur'}, inplace=True)\n",
    "max_log10 = max(df_occur['log10'])\n",
    "df_occur['log10R'] = df_occur['log10'].apply(lambda x: max_log10-x)"
   ]
  },
  {
   "cell_type": "code",
   "execution_count": 70,
   "metadata": {},
   "outputs": [],
   "source": [
    "from sklearn import preprocessing\n",
    "Min_Max_Scaler = preprocessing.MinMaxScaler( feature_range=(0,1) ) # 設定縮放的區間上下限\n",
    "MinMax_Data = Min_Max_Scaler.fit_transform( df_occur['log10R'].to_numpy().reshape(-1, 1) ) # Data 為原始資料"
   ]
  },
  {
   "cell_type": "code",
   "execution_count": 71,
   "metadata": {},
   "outputs": [],
   "source": [
    "df_occur['log10R_MinMax'] = pd.DataFrame(MinMax_Data)"
   ]
  },
  {
   "cell_type": "code",
   "execution_count": 72,
   "metadata": {},
   "outputs": [
    {
     "data": {
      "text/html": [
       "<div>\n",
       "<style scoped>\n",
       "    .dataframe tbody tr th:only-of-type {\n",
       "        vertical-align: middle;\n",
       "    }\n",
       "\n",
       "    .dataframe tbody tr th {\n",
       "        vertical-align: top;\n",
       "    }\n",
       "\n",
       "    .dataframe thead th {\n",
       "        text-align: right;\n",
       "    }\n",
       "</style>\n",
       "<table border=\"1\" class=\"dataframe\">\n",
       "  <thead>\n",
       "    <tr style=\"text-align: right;\">\n",
       "      <th></th>\n",
       "      <th>occur</th>\n",
       "      <th>counts</th>\n",
       "      <th>log10</th>\n",
       "      <th>log10R</th>\n",
       "      <th>log10R_MinMax</th>\n",
       "    </tr>\n",
       "  </thead>\n",
       "  <tbody>\n",
       "    <tr>\n",
       "      <th>0</th>\n",
       "      <td>1</td>\n",
       "      <td>25408</td>\n",
       "      <td>1.31</td>\n",
       "      <td>0.00</td>\n",
       "      <td>0.00</td>\n",
       "    </tr>\n",
       "    <tr>\n",
       "      <th>1</th>\n",
       "      <td>2</td>\n",
       "      <td>15395</td>\n",
       "      <td>1.25</td>\n",
       "      <td>0.06</td>\n",
       "      <td>0.06</td>\n",
       "    </tr>\n",
       "    <tr>\n",
       "      <th>2</th>\n",
       "      <td>3</td>\n",
       "      <td>11777</td>\n",
       "      <td>1.21</td>\n",
       "      <td>0.10</td>\n",
       "      <td>0.09</td>\n",
       "    </tr>\n",
       "    <tr>\n",
       "      <th>3</th>\n",
       "      <td>4</td>\n",
       "      <td>9809</td>\n",
       "      <td>1.19</td>\n",
       "      <td>0.12</td>\n",
       "      <td>0.12</td>\n",
       "    </tr>\n",
       "    <tr>\n",
       "      <th>4</th>\n",
       "      <td>5</td>\n",
       "      <td>8366</td>\n",
       "      <td>1.17</td>\n",
       "      <td>0.14</td>\n",
       "      <td>0.14</td>\n",
       "    </tr>\n",
       "    <tr>\n",
       "      <th>...</th>\n",
       "      <td>...</td>\n",
       "      <td>...</td>\n",
       "      <td>...</td>\n",
       "      <td>...</td>\n",
       "      <td>...</td>\n",
       "    </tr>\n",
       "    <tr>\n",
       "      <th>542</th>\n",
       "      <td>335</td>\n",
       "      <td>19</td>\n",
       "      <td>0.38</td>\n",
       "      <td>0.93</td>\n",
       "      <td>0.88</td>\n",
       "    </tr>\n",
       "    <tr>\n",
       "      <th>543</th>\n",
       "      <td>286</td>\n",
       "      <td>18</td>\n",
       "      <td>0.37</td>\n",
       "      <td>0.94</td>\n",
       "      <td>0.88</td>\n",
       "    </tr>\n",
       "    <tr>\n",
       "      <th>544</th>\n",
       "      <td>363</td>\n",
       "      <td>15</td>\n",
       "      <td>0.35</td>\n",
       "      <td>0.96</td>\n",
       "      <td>0.91</td>\n",
       "    </tr>\n",
       "    <tr>\n",
       "      <th>545</th>\n",
       "      <td>325</td>\n",
       "      <td>9</td>\n",
       "      <td>0.28</td>\n",
       "      <td>1.03</td>\n",
       "      <td>0.97</td>\n",
       "    </tr>\n",
       "    <tr>\n",
       "      <th>546</th>\n",
       "      <td>382</td>\n",
       "      <td>7</td>\n",
       "      <td>0.25</td>\n",
       "      <td>1.06</td>\n",
       "      <td>1.00</td>\n",
       "    </tr>\n",
       "  </tbody>\n",
       "</table>\n",
       "<p>547 rows × 5 columns</p>\n",
       "</div>"
      ],
      "text/plain": [
       "     occur  counts  log10  log10R  log10R_MinMax\n",
       "0        1   25408   1.31    0.00           0.00\n",
       "1        2   15395   1.25    0.06           0.06\n",
       "2        3   11777   1.21    0.10           0.09\n",
       "3        4    9809   1.19    0.12           0.12\n",
       "4        5    8366   1.17    0.14           0.14\n",
       "..     ...     ...    ...     ...            ...\n",
       "542    335      19   0.38    0.93           0.88\n",
       "543    286      18   0.37    0.94           0.88\n",
       "544    363      15   0.35    0.96           0.91\n",
       "545    325       9   0.28    1.03           0.97\n",
       "546    382       7   0.25    1.06           1.00\n",
       "\n",
       "[547 rows x 5 columns]"
      ]
     },
     "execution_count": 72,
     "metadata": {},
     "output_type": "execute_result"
    }
   ],
   "source": [
    "pd.set_option('display.float_format',lambda x : '%.2f' % x)\n",
    "df_occur"
   ]
  },
  {
   "cell_type": "code",
   "execution_count": 73,
   "metadata": {},
   "outputs": [
    {
     "data": {
      "text/plain": [
       "<matplotlib.axes._subplots.AxesSubplot at 0x7f1164d71c90>"
      ]
     },
     "execution_count": 73,
     "metadata": {},
     "output_type": "execute_result"
    },
    {
     "data": {
      "image/png": "[encoded data removed]",
      "text/plain": [
       "<Figure size 1440x720 with 1 Axes>"
      ]
     },
     "metadata": {
      "needs_background": "light"
     },
     "output_type": "display_data"
    }
   ],
   "source": [
    "df_occur['log10R'].plot(figsize=(20,10))"
   ]
  },
  {
   "cell_type": "code",
   "execution_count": 74,
   "metadata": {},
   "outputs": [
    {
     "data": {
      "text/plain": [
       "<matplotlib.axes._subplots.AxesSubplot at 0x7f11697aa810>"
      ]
     },
     "execution_count": 74,
     "metadata": {},
     "output_type": "execute_result"
    },
    {
     "data": {
      "image/png": "[encoded data removed]",
      "text/plain": [
       "<Figure size 1440x720 with 1 Axes>"
      ]
     },
     "metadata": {
      "needs_background": "light"
     },
     "output_type": "display_data"
    }
   ],
   "source": [
    "df_occur['log10R_MinMax'].plot(figsize=(20,10))"
   ]
  },
  {
   "cell_type": "markdown",
   "metadata": {},
   "source": [
    "---"
   ]
  },
  {
   "cell_type": "code",
   "execution_count": 75,
   "metadata": {},
   "outputs": [
    {
     "data": {
      "text/html": [
       "<div>\n",
       "<style scoped>\n",
       "    .dataframe tbody tr th:only-of-type {\n",
       "        vertical-align: middle;\n",
       "    }\n",
       "\n",
       "    .dataframe tbody tr th {\n",
       "        vertical-align: top;\n",
       "    }\n",
       "\n",
       "    .dataframe thead th {\n",
       "        text-align: right;\n",
       "    }\n",
       "</style>\n",
       "<table border=\"1\" class=\"dataframe\">\n",
       "  <thead>\n",
       "    <tr style=\"text-align: right;\">\n",
       "      <th></th>\n",
       "      <th>occur</th>\n",
       "      <th>log10R_MinMax</th>\n",
       "    </tr>\n",
       "  </thead>\n",
       "  <tbody>\n",
       "    <tr>\n",
       "      <th>0</th>\n",
       "      <td>1</td>\n",
       "      <td>0.00</td>\n",
       "    </tr>\n",
       "    <tr>\n",
       "      <th>1</th>\n",
       "      <td>2</td>\n",
       "      <td>0.06</td>\n",
       "    </tr>\n",
       "    <tr>\n",
       "      <th>2</th>\n",
       "      <td>3</td>\n",
       "      <td>0.09</td>\n",
       "    </tr>\n",
       "    <tr>\n",
       "      <th>3</th>\n",
       "      <td>4</td>\n",
       "      <td>0.12</td>\n",
       "    </tr>\n",
       "    <tr>\n",
       "      <th>4</th>\n",
       "      <td>5</td>\n",
       "      <td>0.14</td>\n",
       "    </tr>\n",
       "    <tr>\n",
       "      <th>...</th>\n",
       "      <td>...</td>\n",
       "      <td>...</td>\n",
       "    </tr>\n",
       "    <tr>\n",
       "      <th>542</th>\n",
       "      <td>335</td>\n",
       "      <td>0.88</td>\n",
       "    </tr>\n",
       "    <tr>\n",
       "      <th>543</th>\n",
       "      <td>286</td>\n",
       "      <td>0.88</td>\n",
       "    </tr>\n",
       "    <tr>\n",
       "      <th>544</th>\n",
       "      <td>363</td>\n",
       "      <td>0.91</td>\n",
       "    </tr>\n",
       "    <tr>\n",
       "      <th>545</th>\n",
       "      <td>325</td>\n",
       "      <td>0.97</td>\n",
       "    </tr>\n",
       "    <tr>\n",
       "      <th>546</th>\n",
       "      <td>382</td>\n",
       "      <td>1.00</td>\n",
       "    </tr>\n",
       "  </tbody>\n",
       "</table>\n",
       "<p>547 rows × 2 columns</p>\n",
       "</div>"
      ],
      "text/plain": [
       "     occur  log10R_MinMax\n",
       "0        1           0.00\n",
       "1        2           0.06\n",
       "2        3           0.09\n",
       "3        4           0.12\n",
       "4        5           0.14\n",
       "..     ...            ...\n",
       "542    335           0.88\n",
       "543    286           0.88\n",
       "544    363           0.91\n",
       "545    325           0.97\n",
       "546    382           1.00\n",
       "\n",
       "[547 rows x 2 columns]"
      ]
     },
     "execution_count": 75,
     "metadata": {},
     "output_type": "execute_result"
    }
   ],
   "source": [
    "df_occur.drop(['counts', 'log10', 'log10R'], axis=1, inplace=True)\n",
    "df_occur"
   ]
  },
  {
   "cell_type": "code",
   "execution_count": 76,
   "metadata": {},
   "outputs": [],
   "source": [
    "df_table_ok = df_table.join(df_occur.set_index('occur'), on='occur').rename(columns = {'log10R_MinMax':'X_2'})"
   ]
  },
  {
   "cell_type": "code",
   "execution_count": 77,
   "metadata": {},
   "outputs": [
    {
     "data": {
      "text/html": [
       "<div>\n",
       "<style scoped>\n",
       "    .dataframe tbody tr th:only-of-type {\n",
       "        vertical-align: middle;\n",
       "    }\n",
       "\n",
       "    .dataframe tbody tr th {\n",
       "        vertical-align: top;\n",
       "    }\n",
       "\n",
       "    .dataframe thead th {\n",
       "        text-align: right;\n",
       "    }\n",
       "</style>\n",
       "<table border=\"1\" class=\"dataframe\">\n",
       "  <thead>\n",
       "    <tr style=\"text-align: right;\">\n",
       "      <th></th>\n",
       "      <th>target</th>\n",
       "      <th>next</th>\n",
       "      <th>rank</th>\n",
       "      <th>NN_rank</th>\n",
       "      <th>occur</th>\n",
       "      <th>label</th>\n",
       "      <th>X_2</th>\n",
       "    </tr>\n",
       "  </thead>\n",
       "  <tbody>\n",
       "    <tr>\n",
       "      <th>0</th>\n",
       "      <td>2063176</td>\n",
       "      <td>1793668</td>\n",
       "      <td>53.00</td>\n",
       "      <td>21</td>\n",
       "      <td>35</td>\n",
       "      <td>True</td>\n",
       "      <td>0.33</td>\n",
       "    </tr>\n",
       "    <tr>\n",
       "      <th>1</th>\n",
       "      <td>1036421</td>\n",
       "      <td>215370</td>\n",
       "      <td>26.00</td>\n",
       "      <td>73</td>\n",
       "      <td>3</td>\n",
       "      <td>False</td>\n",
       "      <td>0.09</td>\n",
       "    </tr>\n",
       "    <tr>\n",
       "      <th>2</th>\n",
       "      <td>4364467</td>\n",
       "      <td>632080</td>\n",
       "      <td>19.00</td>\n",
       "      <td>35</td>\n",
       "      <td>342</td>\n",
       "      <td>False</td>\n",
       "      <td>0.55</td>\n",
       "    </tr>\n",
       "    <tr>\n",
       "      <th>3</th>\n",
       "      <td>632080</td>\n",
       "      <td>4272037</td>\n",
       "      <td>20.00</td>\n",
       "      <td>29</td>\n",
       "      <td>648</td>\n",
       "      <td>False</td>\n",
       "      <td>0.77</td>\n",
       "    </tr>\n",
       "    <tr>\n",
       "      <th>4</th>\n",
       "      <td>4272037</td>\n",
       "      <td>2454050</td>\n",
       "      <td>14.00</td>\n",
       "      <td>26</td>\n",
       "      <td>99</td>\n",
       "      <td>False</td>\n",
       "      <td>0.47</td>\n",
       "    </tr>\n",
       "    <tr>\n",
       "      <th>...</th>\n",
       "      <td>...</td>\n",
       "      <td>...</td>\n",
       "      <td>...</td>\n",
       "      <td>...</td>\n",
       "      <td>...</td>\n",
       "      <td>...</td>\n",
       "      <td>...</td>\n",
       "    </tr>\n",
       "    <tr>\n",
       "      <th>308931</th>\n",
       "      <td>2800976</td>\n",
       "      <td>4243503</td>\n",
       "      <td>76.00</td>\n",
       "      <td>89</td>\n",
       "      <td>12</td>\n",
       "      <td>False</td>\n",
       "      <td>0.21</td>\n",
       "    </tr>\n",
       "    <tr>\n",
       "      <th>308932</th>\n",
       "      <td>3367985</td>\n",
       "      <td>3066223</td>\n",
       "      <td>25.00</td>\n",
       "      <td>13</td>\n",
       "      <td>68</td>\n",
       "      <td>True</td>\n",
       "      <td>0.43</td>\n",
       "    </tr>\n",
       "    <tr>\n",
       "      <th>308933</th>\n",
       "      <td>117092</td>\n",
       "      <td>4597783</td>\n",
       "      <td>91.00</td>\n",
       "      <td>28</td>\n",
       "      <td>139</td>\n",
       "      <td>True</td>\n",
       "      <td>0.48</td>\n",
       "    </tr>\n",
       "    <tr>\n",
       "      <th>308934</th>\n",
       "      <td>626850</td>\n",
       "      <td>3821357</td>\n",
       "      <td>10.00</td>\n",
       "      <td>18</td>\n",
       "      <td>53</td>\n",
       "      <td>False</td>\n",
       "      <td>0.37</td>\n",
       "    </tr>\n",
       "    <tr>\n",
       "      <th>308935</th>\n",
       "      <td>3087929</td>\n",
       "      <td>3292913</td>\n",
       "      <td>88.00</td>\n",
       "      <td>13</td>\n",
       "      <td>1</td>\n",
       "      <td>True</td>\n",
       "      <td>0.00</td>\n",
       "    </tr>\n",
       "  </tbody>\n",
       "</table>\n",
       "<p>308936 rows × 7 columns</p>\n",
       "</div>"
      ],
      "text/plain": [
       "         target     next  rank  NN_rank  occur  label  X_2\n",
       "0       2063176  1793668 53.00       21     35   True 0.33\n",
       "1       1036421   215370 26.00       73      3  False 0.09\n",
       "2       4364467   632080 19.00       35    342  False 0.55\n",
       "3        632080  4272037 20.00       29    648  False 0.77\n",
       "4       4272037  2454050 14.00       26     99  False 0.47\n",
       "...         ...      ...   ...      ...    ...    ...  ...\n",
       "308931  2800976  4243503 76.00       89     12  False 0.21\n",
       "308932  3367985  3066223 25.00       13     68   True 0.43\n",
       "308933   117092  4597783 91.00       28    139   True 0.48\n",
       "308934   626850  3821357 10.00       18     53  False 0.37\n",
       "308935  3087929  3292913 88.00       13      1   True 0.00\n",
       "\n",
       "[308936 rows x 7 columns]"
      ]
     },
     "execution_count": 77,
     "metadata": {},
     "output_type": "execute_result"
    }
   ],
   "source": [
    "df_table_ok"
   ]
  },
  {
   "cell_type": "code",
   "execution_count": 78,
   "metadata": {},
   "outputs": [],
   "source": [
    "#將資料分成訓練組及測試組\n",
    "from sklearn.model_selection import train_test_split\n",
    "\n",
    "X = df_table_ok.loc[:,['X_2']]\n",
    "y = df_table_ok['label']\n",
    "X_train, X_test, y_train, y_test = train_test_split(X,y,test_size=0.3,random_state=1)"
   ]
  },
  {
   "cell_type": "code",
   "execution_count": 79,
   "metadata": {},
   "outputs": [
    {
     "data": {
      "text/plain": [
       "DecisionTreeClassifier(class_weight=None, criterion='gini', max_depth=None,\n",
       "                       max_features=None, max_leaf_nodes=None,\n",
       "                       min_impurity_decrease=0.0, min_impurity_split=None,\n",
       "                       min_samples_leaf=1, min_samples_split=2,\n",
       "                       min_weight_fraction_leaf=0.0, presort=False,\n",
       "                       random_state=None, splitter='best')"
      ]
     },
     "execution_count": 79,
     "metadata": {},
     "output_type": "execute_result"
    }
   ],
   "source": [
    "#使用決策樹演算法\n",
    "from sklearn.tree import DecisionTreeClassifier\n",
    "dtree = DecisionTreeClassifier()\n",
    "dtree.fit(X_train,y_train)"
   ]
  },
  {
   "cell_type": "code",
   "execution_count": 80,
   "metadata": {},
   "outputs": [
    {
     "name": "stdout",
     "output_type": "stream",
     "text": [
      "              precision    recall  f1-score   support\n",
      "\n",
      "       False       0.56      0.96      0.71     51495\n",
      "        True       0.50      0.05      0.09     41186\n",
      "\n",
      "    accuracy                           0.56     92681\n",
      "   macro avg       0.53      0.50      0.40     92681\n",
      "weighted avg       0.53      0.56      0.43     92681\n",
      "\n"
     ]
    }
   ],
   "source": [
    "#評估決策樹模型好壞\n",
    "predictions = dtree.predict(X_test)\n",
    "from sklearn.metrics import classification_report,confusion_matrix\n",
    "print(classification_report(y_test,predictions))"
   ]
  },
  {
   "cell_type": "code",
   "execution_count": 81,
   "metadata": {},
   "outputs": [
    {
     "name": "stdout",
     "output_type": "stream",
     "text": [
      "[[49372  2123]\n",
      " [39104  2082]]\n"
     ]
    }
   ],
   "source": [
    "print(confusion_matrix(y_test,predictions))"
   ]
  },
  {
   "cell_type": "markdown",
   "metadata": {},
   "source": [
    "---"
   ]
  },
  {
   "cell_type": "code",
   "execution_count": 82,
   "metadata": {},
   "outputs": [],
   "source": [
    "#使用隨機森林與決策樹做比較\n",
    "from sklearn.ensemble import RandomForestClassifier\n",
    "\n",
    "#n_estimator代表要使用多少CART樹（CART樹為使用GINI算法的決策樹）\n",
    "rfc = RandomForestClassifier(n_estimators=100)\n",
    "\n",
    "#從訓練組資料中建立隨機森林模型\n",
    "rfc.fit(X_train,y_train)\n",
    "\n",
    "rfc_pred = rfc.predict(X_test)"
   ]
  },
  {
   "cell_type": "code",
   "execution_count": 83,
   "metadata": {},
   "outputs": [
    {
     "name": "stdout",
     "output_type": "stream",
     "text": [
      "              precision    recall  f1-score   support\n",
      "\n",
      "       False       0.56      0.96      0.71     51495\n",
      "        True       0.49      0.05      0.09     41186\n",
      "\n",
      "    accuracy                           0.55     92681\n",
      "   macro avg       0.52      0.50      0.40     92681\n",
      "weighted avg       0.53      0.55      0.43     92681\n",
      "\n"
     ]
    }
   ],
   "source": [
    "#利用classification report來看precision、recall、f1-score、support\n",
    "print(classification_report(y_test,rfc_pred))"
   ]
  },
  {
   "cell_type": "code",
   "execution_count": 84,
   "metadata": {},
   "outputs": [
    {
     "name": "stdout",
     "output_type": "stream",
     "text": [
      "[[49459  2036]\n",
      " [39217  1969]]\n"
     ]
    }
   ],
   "source": [
    "#利用confusion matrix來看實際及預測的差異\n",
    "print(confusion_matrix(y_test,rfc_pred))"
   ]
  },
  {
   "cell_type": "markdown",
   "metadata": {},
   "source": [
    "---"
   ]
  },
  {
   "cell_type": "code",
   "execution_count": 85,
   "metadata": {},
   "outputs": [],
   "source": [
    "full_table = pd.concat(lt_df_NN_rank[1:], ignore_index=True)"
   ]
  },
  {
   "cell_type": "code",
   "execution_count": 86,
   "metadata": {},
   "outputs": [],
   "source": [
    "table_grby = full_table.groupby(['target'])\n",
    "# pd.DataFrame(table_grby.size())"
   ]
  },
  {
   "cell_type": "code",
   "execution_count": 87,
   "metadata": {},
   "outputs": [],
   "source": [
    "df_table  = pd.merge(pd.DataFrame(table_grby.size()), full_table, on=['target'], how='left')"
   ]
  },
  {
   "cell_type": "code",
   "execution_count": 88,
   "metadata": {},
   "outputs": [],
   "source": [
    "df_table.rename(columns = {0:'occur'}, inplace=True)"
   ]
  },
  {
   "cell_type": "code",
   "execution_count": 89,
   "metadata": {},
   "outputs": [],
   "source": [
    "df_table.drop_duplicates(inplace=True, ignore_index=True)\n",
    "# df_table"
   ]
  },
  {
   "cell_type": "code",
   "execution_count": 90,
   "metadata": {},
   "outputs": [],
   "source": [
    "df_table['label'] = df_table.apply(lambda df: df['rank'] > df['NN_rank'], axis=1)"
   ]
  },
  {
   "cell_type": "code",
   "execution_count": 91,
   "metadata": {},
   "outputs": [],
   "source": [
    "# df_table['X_1'] = df_table.apply(lambda df: 1-df['rank']/100, axis=1)"
   ]
  },
  {
   "cell_type": "code",
   "execution_count": 92,
   "metadata": {},
   "outputs": [],
   "source": [
    "# pd.set_option('display.max_rows', 250)\n",
    "max_occur = max(df_table['occur'])\n",
    "df_occur = pd.DataFrame({'counts':df_table['occur'].value_counts(), 'log10':df_table['occur'].value_counts().apply(lambda x : log10(x)/log10(max_occur))}).reset_index()\n",
    "df_occur.rename(columns = {'index':'occur'}, inplace=True)\n",
    "max_log10 = max(df_occur['log10'])\n",
    "df_occur['log10R'] = df_occur['log10'].apply(lambda x: max_log10-x)"
   ]
  },
  {
   "cell_type": "code",
   "execution_count": 93,
   "metadata": {},
   "outputs": [],
   "source": [
    "from sklearn import preprocessing\n",
    "Min_Max_Scaler = preprocessing.MinMaxScaler( feature_range=(0,1) ) # 設定縮放的區間上下限\n",
    "MinMax_Data = Min_Max_Scaler.fit_transform( df_occur['log10R'].to_numpy().reshape(-1, 1) ) # Data 為原始資料"
   ]
  },
  {
   "cell_type": "code",
   "execution_count": 94,
   "metadata": {},
   "outputs": [],
   "source": [
    "df_occur['log10R_MinMax'] = pd.DataFrame(MinMax_Data)"
   ]
  },
  {
   "cell_type": "code",
   "execution_count": 95,
   "metadata": {},
   "outputs": [],
   "source": [
    "df_occur.drop(['counts', 'log10', 'log10R'], axis=1, inplace=True)\n",
    "# df_occur"
   ]
  },
  {
   "cell_type": "code",
   "execution_count": 96,
   "metadata": {},
   "outputs": [],
   "source": [
    "df_table_ok = df_table.join(df_occur.set_index('occur'), on='occur').rename(columns = {'log10R_MinMax':'X_2'})"
   ]
  },
  {
   "cell_type": "code",
   "execution_count": 97,
   "metadata": {},
   "outputs": [
    {
     "data": {
      "text/html": [
       "<div>\n",
       "<style scoped>\n",
       "    .dataframe tbody tr th:only-of-type {\n",
       "        vertical-align: middle;\n",
       "    }\n",
       "\n",
       "    .dataframe tbody tr th {\n",
       "        vertical-align: top;\n",
       "    }\n",
       "\n",
       "    .dataframe thead th {\n",
       "        text-align: right;\n",
       "    }\n",
       "</style>\n",
       "<table border=\"1\" class=\"dataframe\">\n",
       "  <thead>\n",
       "    <tr style=\"text-align: right;\">\n",
       "      <th></th>\n",
       "      <th>target</th>\n",
       "      <th>occur</th>\n",
       "      <th>next</th>\n",
       "      <th>rank</th>\n",
       "      <th>NN_rank</th>\n",
       "      <th>label</th>\n",
       "      <th>X_2</th>\n",
       "    </tr>\n",
       "  </thead>\n",
       "  <tbody>\n",
       "    <tr>\n",
       "      <th>308936</th>\n",
       "      <td>4035865</td>\n",
       "      <td>23</td>\n",
       "      <td>3823964</td>\n",
       "      <td>93.00</td>\n",
       "      <td>4</td>\n",
       "      <td>True</td>\n",
       "      <td>0.25</td>\n",
       "    </tr>\n",
       "    <tr>\n",
       "      <th>308937</th>\n",
       "      <td>4035865</td>\n",
       "      <td>23</td>\n",
       "      <td>162741</td>\n",
       "      <td>17.00</td>\n",
       "      <td>27</td>\n",
       "      <td>False</td>\n",
       "      <td>0.25</td>\n",
       "    </tr>\n",
       "    <tr>\n",
       "      <th>308938</th>\n",
       "      <td>4035865</td>\n",
       "      <td>23</td>\n",
       "      <td>4923258</td>\n",
       "      <td>25.00</td>\n",
       "      <td>6</td>\n",
       "      <td>True</td>\n",
       "      <td>0.25</td>\n",
       "    </tr>\n",
       "    <tr>\n",
       "      <th>308939</th>\n",
       "      <td>4035865</td>\n",
       "      <td>23</td>\n",
       "      <td>2785932</td>\n",
       "      <td>18.00</td>\n",
       "      <td>61</td>\n",
       "      <td>False</td>\n",
       "      <td>0.25</td>\n",
       "    </tr>\n",
       "    <tr>\n",
       "      <th>308940</th>\n",
       "      <td>4035930</td>\n",
       "      <td>51</td>\n",
       "      <td>5159258</td>\n",
       "      <td>5.00</td>\n",
       "      <td>2</td>\n",
       "      <td>True</td>\n",
       "      <td>0.35</td>\n",
       "    </tr>\n",
       "    <tr>\n",
       "      <th>...</th>\n",
       "      <td>...</td>\n",
       "      <td>...</td>\n",
       "      <td>...</td>\n",
       "      <td>...</td>\n",
       "      <td>...</td>\n",
       "      <td>...</td>\n",
       "      <td>...</td>\n",
       "    </tr>\n",
       "    <tr>\n",
       "      <th>470513</th>\n",
       "      <td>999828</td>\n",
       "      <td>902</td>\n",
       "      <td>2101743</td>\n",
       "      <td>19.00</td>\n",
       "      <td>25</td>\n",
       "      <td>False</td>\n",
       "      <td>0.80</td>\n",
       "    </tr>\n",
       "    <tr>\n",
       "      <th>470514</th>\n",
       "      <td>999828</td>\n",
       "      <td>902</td>\n",
       "      <td>4763646</td>\n",
       "      <td>36.00</td>\n",
       "      <td>35</td>\n",
       "      <td>True</td>\n",
       "      <td>0.80</td>\n",
       "    </tr>\n",
       "    <tr>\n",
       "      <th>470515</th>\n",
       "      <td>999828</td>\n",
       "      <td>902</td>\n",
       "      <td>4793966</td>\n",
       "      <td>68.00</td>\n",
       "      <td>36</td>\n",
       "      <td>True</td>\n",
       "      <td>0.80</td>\n",
       "    </tr>\n",
       "    <tr>\n",
       "      <th>470516</th>\n",
       "      <td>999949</td>\n",
       "      <td>1</td>\n",
       "      <td>1062644</td>\n",
       "      <td>4.00</td>\n",
       "      <td>36</td>\n",
       "      <td>False</td>\n",
       "      <td>0.00</td>\n",
       "    </tr>\n",
       "    <tr>\n",
       "      <th>470517</th>\n",
       "      <td>999951</td>\n",
       "      <td>1</td>\n",
       "      <td>17116</td>\n",
       "      <td>49.00</td>\n",
       "      <td>15</td>\n",
       "      <td>True</td>\n",
       "      <td>0.00</td>\n",
       "    </tr>\n",
       "  </tbody>\n",
       "</table>\n",
       "<p>161582 rows × 7 columns</p>\n",
       "</div>"
      ],
      "text/plain": [
       "         target  occur     next  rank  NN_rank  label  X_2\n",
       "308936  4035865     23  3823964 93.00        4   True 0.25\n",
       "308937  4035865     23   162741 17.00       27  False 0.25\n",
       "308938  4035865     23  4923258 25.00        6   True 0.25\n",
       "308939  4035865     23  2785932 18.00       61  False 0.25\n",
       "308940  4035930     51  5159258  5.00        2   True 0.35\n",
       "...         ...    ...      ...   ...      ...    ...  ...\n",
       "470513   999828    902  2101743 19.00       25  False 0.80\n",
       "470514   999828    902  4763646 36.00       35   True 0.80\n",
       "470515   999828    902  4793966 68.00       36   True 0.80\n",
       "470516   999949      1  1062644  4.00       36  False 0.00\n",
       "470517   999951      1    17116 49.00       15   True 0.00\n",
       "\n",
       "[161582 rows x 7 columns]"
      ]
     },
     "execution_count": 97,
     "metadata": {},
     "output_type": "execute_result"
    }
   ],
   "source": [
    "# 308936 -4days\n",
    "df_table_testday = pd.DataFrame(df_table_ok[308936:])\n",
    "df_table_testday"
   ]
  },
  {
   "cell_type": "code",
   "execution_count": 100,
   "metadata": {},
   "outputs": [],
   "source": [
    "#將資料分成訓練組及測試組\n",
    "from sklearn.model_selection import train_test_split\n",
    "\n",
    "X = df_table_testday.loc[:,['X_2']]\n",
    "y = df_table_testday['label']"
   ]
  },
  {
   "cell_type": "markdown",
   "metadata": {},
   "source": [
    "---"
   ]
  },
  {
   "cell_type": "code",
   "execution_count": 101,
   "metadata": {},
   "outputs": [
    {
     "name": "stdout",
     "output_type": "stream",
     "text": [
      "              precision    recall  f1-score   support\n",
      "\n",
      "       False       0.56      0.95      0.70     89871\n",
      "        True       0.47      0.06      0.10     71711\n",
      "\n",
      "    accuracy                           0.55    161582\n",
      "   macro avg       0.51      0.50      0.40    161582\n",
      "weighted avg       0.52      0.55      0.43    161582\n",
      "\n"
     ]
    }
   ],
   "source": [
    "#評估決策樹模型好壞\n",
    "predictions = dtree.predict(X)\n",
    "from sklearn.metrics import classification_report,confusion_matrix\n",
    "print(classification_report(y,predictions))"
   ]
  },
  {
   "cell_type": "code",
   "execution_count": 102,
   "metadata": {},
   "outputs": [
    {
     "name": "stdout",
     "output_type": "stream",
     "text": [
      "[[85389  4482]\n",
      " [67742  3969]]\n"
     ]
    }
   ],
   "source": [
    "print(confusion_matrix(y,predictions))"
   ]
  },
  {
   "cell_type": "markdown",
   "metadata": {},
   "source": [
    "---"
   ]
  },
  {
   "cell_type": "code",
   "execution_count": 67,
   "metadata": {},
   "outputs": [
    {
     "name": "stdout",
     "output_type": "stream",
     "text": [
      "              precision    recall  f1-score   support\n",
      "\n",
      "       False       0.75      0.76      0.75     89871\n",
      "        True       0.69      0.68      0.69     71711\n",
      "\n",
      "    accuracy                           0.72    161582\n",
      "   macro avg       0.72      0.72      0.72    161582\n",
      "weighted avg       0.72      0.72      0.72    161582\n",
      "\n"
     ]
    }
   ],
   "source": [
    "rfc_pred = rfc.predict(X)\n",
    "#利用classification report來看precision、recall、f1-score、support\n",
    "print(classification_report(y,rfc_pred))"
   ]
  },
  {
   "cell_type": "code",
   "execution_count": 68,
   "metadata": {},
   "outputs": [
    {
     "name": "stdout",
     "output_type": "stream",
     "text": [
      "[[68331 21540]\n",
      " [23038 48673]]\n"
     ]
    }
   ],
   "source": [
    "#利用confusion matrix來看實際及預測的差異\n",
    "print(confusion_matrix(y,rfc_pred))"
   ]
  },
  {
   "cell_type": "markdown",
   "metadata": {},
   "source": [
    "---"
   ]
  },
  {
   "cell_type": "code",
   "execution_count": 103,
   "metadata": {},
   "outputs": [],
   "source": [
    "df_table_testday['pred'] = predictions"
   ]
  },
  {
   "cell_type": "code",
   "execution_count": 104,
   "metadata": {},
   "outputs": [],
   "source": [
    "df_table_testday['switch'] = df_table_testday.apply(lambda df: df['NN_rank'] if df['pred'] else df['rank'], axis=1)"
   ]
  },
  {
   "cell_type": "code",
   "execution_count": 105,
   "metadata": {},
   "outputs": [
    {
     "data": {
      "text/html": [
       "<div>\n",
       "<style scoped>\n",
       "    .dataframe tbody tr th:only-of-type {\n",
       "        vertical-align: middle;\n",
       "    }\n",
       "\n",
       "    .dataframe tbody tr th {\n",
       "        vertical-align: top;\n",
       "    }\n",
       "\n",
       "    .dataframe thead th {\n",
       "        text-align: right;\n",
       "    }\n",
       "</style>\n",
       "<table border=\"1\" class=\"dataframe\">\n",
       "  <thead>\n",
       "    <tr style=\"text-align: right;\">\n",
       "      <th></th>\n",
       "      <th>target</th>\n",
       "      <th>occur</th>\n",
       "      <th>next</th>\n",
       "      <th>rank</th>\n",
       "      <th>NN_rank</th>\n",
       "      <th>label</th>\n",
       "      <th>X_2</th>\n",
       "      <th>pred</th>\n",
       "      <th>switch</th>\n",
       "    </tr>\n",
       "  </thead>\n",
       "  <tbody>\n",
       "    <tr>\n",
       "      <th>308936</th>\n",
       "      <td>4035865</td>\n",
       "      <td>23</td>\n",
       "      <td>3823964</td>\n",
       "      <td>93.00</td>\n",
       "      <td>4</td>\n",
       "      <td>True</td>\n",
       "      <td>0.25</td>\n",
       "      <td>False</td>\n",
       "      <td>93.00</td>\n",
       "    </tr>\n",
       "    <tr>\n",
       "      <th>308937</th>\n",
       "      <td>4035865</td>\n",
       "      <td>23</td>\n",
       "      <td>162741</td>\n",
       "      <td>17.00</td>\n",
       "      <td>27</td>\n",
       "      <td>False</td>\n",
       "      <td>0.25</td>\n",
       "      <td>False</td>\n",
       "      <td>17.00</td>\n",
       "    </tr>\n",
       "    <tr>\n",
       "      <th>308938</th>\n",
       "      <td>4035865</td>\n",
       "      <td>23</td>\n",
       "      <td>4923258</td>\n",
       "      <td>25.00</td>\n",
       "      <td>6</td>\n",
       "      <td>True</td>\n",
       "      <td>0.25</td>\n",
       "      <td>False</td>\n",
       "      <td>25.00</td>\n",
       "    </tr>\n",
       "    <tr>\n",
       "      <th>308939</th>\n",
       "      <td>4035865</td>\n",
       "      <td>23</td>\n",
       "      <td>2785932</td>\n",
       "      <td>18.00</td>\n",
       "      <td>61</td>\n",
       "      <td>False</td>\n",
       "      <td>0.25</td>\n",
       "      <td>False</td>\n",
       "      <td>18.00</td>\n",
       "    </tr>\n",
       "    <tr>\n",
       "      <th>308940</th>\n",
       "      <td>4035930</td>\n",
       "      <td>51</td>\n",
       "      <td>5159258</td>\n",
       "      <td>5.00</td>\n",
       "      <td>2</td>\n",
       "      <td>True</td>\n",
       "      <td>0.35</td>\n",
       "      <td>False</td>\n",
       "      <td>5.00</td>\n",
       "    </tr>\n",
       "    <tr>\n",
       "      <th>...</th>\n",
       "      <td>...</td>\n",
       "      <td>...</td>\n",
       "      <td>...</td>\n",
       "      <td>...</td>\n",
       "      <td>...</td>\n",
       "      <td>...</td>\n",
       "      <td>...</td>\n",
       "      <td>...</td>\n",
       "      <td>...</td>\n",
       "    </tr>\n",
       "    <tr>\n",
       "      <th>470513</th>\n",
       "      <td>999828</td>\n",
       "      <td>902</td>\n",
       "      <td>2101743</td>\n",
       "      <td>19.00</td>\n",
       "      <td>25</td>\n",
       "      <td>False</td>\n",
       "      <td>0.80</td>\n",
       "      <td>False</td>\n",
       "      <td>19.00</td>\n",
       "    </tr>\n",
       "    <tr>\n",
       "      <th>470514</th>\n",
       "      <td>999828</td>\n",
       "      <td>902</td>\n",
       "      <td>4763646</td>\n",
       "      <td>36.00</td>\n",
       "      <td>35</td>\n",
       "      <td>True</td>\n",
       "      <td>0.80</td>\n",
       "      <td>False</td>\n",
       "      <td>36.00</td>\n",
       "    </tr>\n",
       "    <tr>\n",
       "      <th>470515</th>\n",
       "      <td>999828</td>\n",
       "      <td>902</td>\n",
       "      <td>4793966</td>\n",
       "      <td>68.00</td>\n",
       "      <td>36</td>\n",
       "      <td>True</td>\n",
       "      <td>0.80</td>\n",
       "      <td>False</td>\n",
       "      <td>68.00</td>\n",
       "    </tr>\n",
       "    <tr>\n",
       "      <th>470516</th>\n",
       "      <td>999949</td>\n",
       "      <td>1</td>\n",
       "      <td>1062644</td>\n",
       "      <td>4.00</td>\n",
       "      <td>36</td>\n",
       "      <td>False</td>\n",
       "      <td>0.00</td>\n",
       "      <td>False</td>\n",
       "      <td>4.00</td>\n",
       "    </tr>\n",
       "    <tr>\n",
       "      <th>470517</th>\n",
       "      <td>999951</td>\n",
       "      <td>1</td>\n",
       "      <td>17116</td>\n",
       "      <td>49.00</td>\n",
       "      <td>15</td>\n",
       "      <td>True</td>\n",
       "      <td>0.00</td>\n",
       "      <td>False</td>\n",
       "      <td>49.00</td>\n",
       "    </tr>\n",
       "  </tbody>\n",
       "</table>\n",
       "<p>161582 rows × 9 columns</p>\n",
       "</div>"
      ],
      "text/plain": [
       "         target  occur     next  rank  NN_rank  label  X_2   pred  switch\n",
       "308936  4035865     23  3823964 93.00        4   True 0.25  False   93.00\n",
       "308937  4035865     23   162741 17.00       27  False 0.25  False   17.00\n",
       "308938  4035865     23  4923258 25.00        6   True 0.25  False   25.00\n",
       "308939  4035865     23  2785932 18.00       61  False 0.25  False   18.00\n",
       "308940  4035930     51  5159258  5.00        2   True 0.35  False    5.00\n",
       "...         ...    ...      ...   ...      ...    ...  ...    ...     ...\n",
       "470513   999828    902  2101743 19.00       25  False 0.80  False   19.00\n",
       "470514   999828    902  4763646 36.00       35   True 0.80  False   36.00\n",
       "470515   999828    902  4793966 68.00       36   True 0.80  False   68.00\n",
       "470516   999949      1  1062644  4.00       36  False 0.00  False    4.00\n",
       "470517   999951      1    17116 49.00       15   True 0.00  False   49.00\n",
       "\n",
       "[161582 rows x 9 columns]"
      ]
     },
     "execution_count": 105,
     "metadata": {},
     "output_type": "execute_result"
    }
   ],
   "source": [
    "df_table_testday"
   ]
  },
  {
   "cell_type": "code",
   "execution_count": 106,
   "metadata": {},
   "outputs": [
    {
     "data": {
      "text/html": [
       "<div>\n",
       "<style scoped>\n",
       "    .dataframe tbody tr th:only-of-type {\n",
       "        vertical-align: middle;\n",
       "    }\n",
       "\n",
       "    .dataframe tbody tr th {\n",
       "        vertical-align: top;\n",
       "    }\n",
       "\n",
       "    .dataframe thead th {\n",
       "        text-align: right;\n",
       "    }\n",
       "</style>\n",
       "<table border=\"1\" class=\"dataframe\">\n",
       "  <thead>\n",
       "    <tr style=\"text-align: right;\">\n",
       "      <th></th>\n",
       "      <th>occur</th>\n",
       "      <th>rank</th>\n",
       "      <th>NN_rank</th>\n",
       "      <th>X_2</th>\n",
       "      <th>switch</th>\n",
       "    </tr>\n",
       "  </thead>\n",
       "  <tbody>\n",
       "    <tr>\n",
       "      <th>count</th>\n",
       "      <td>161582.00</td>\n",
       "      <td>161582.00</td>\n",
       "      <td>161582.00</td>\n",
       "      <td>161582.00</td>\n",
       "      <td>161582.00</td>\n",
       "    </tr>\n",
       "    <tr>\n",
       "      <th>mean</th>\n",
       "      <td>126.45</td>\n",
       "      <td>40.82</td>\n",
       "      <td>43.89</td>\n",
       "      <td>0.33</td>\n",
       "      <td>40.82</td>\n",
       "    </tr>\n",
       "    <tr>\n",
       "      <th>std</th>\n",
       "      <td>244.12</td>\n",
       "      <td>29.08</td>\n",
       "      <td>29.13</td>\n",
       "      <td>0.20</td>\n",
       "      <td>29.04</td>\n",
       "    </tr>\n",
       "    <tr>\n",
       "      <th>min</th>\n",
       "      <td>1.00</td>\n",
       "      <td>1.00</td>\n",
       "      <td>1.00</td>\n",
       "      <td>0.00</td>\n",
       "      <td>1.00</td>\n",
       "    </tr>\n",
       "    <tr>\n",
       "      <th>25%</th>\n",
       "      <td>9.00</td>\n",
       "      <td>15.00</td>\n",
       "      <td>18.00</td>\n",
       "      <td>0.18</td>\n",
       "      <td>15.00</td>\n",
       "    </tr>\n",
       "    <tr>\n",
       "      <th>50%</th>\n",
       "      <td>39.00</td>\n",
       "      <td>36.00</td>\n",
       "      <td>41.00</td>\n",
       "      <td>0.32</td>\n",
       "      <td>36.00</td>\n",
       "    </tr>\n",
       "    <tr>\n",
       "      <th>75%</th>\n",
       "      <td>132.00</td>\n",
       "      <td>65.00</td>\n",
       "      <td>68.00</td>\n",
       "      <td>0.47</td>\n",
       "      <td>65.00</td>\n",
       "    </tr>\n",
       "    <tr>\n",
       "      <th>max</th>\n",
       "      <td>2662.00</td>\n",
       "      <td>99.00</td>\n",
       "      <td>99.00</td>\n",
       "      <td>1.00</td>\n",
       "      <td>99.00</td>\n",
       "    </tr>\n",
       "  </tbody>\n",
       "</table>\n",
       "</div>"
      ],
      "text/plain": [
       "          occur      rank   NN_rank       X_2    switch\n",
       "count 161582.00 161582.00 161582.00 161582.00 161582.00\n",
       "mean     126.45     40.82     43.89      0.33     40.82\n",
       "std      244.12     29.08     29.13      0.20     29.04\n",
       "min        1.00      1.00      1.00      0.00      1.00\n",
       "25%        9.00     15.00     18.00      0.18     15.00\n",
       "50%       39.00     36.00     41.00      0.32     36.00\n",
       "75%      132.00     65.00     68.00      0.47     65.00\n",
       "max     2662.00     99.00     99.00      1.00     99.00"
      ]
     },
     "execution_count": 106,
     "metadata": {},
     "output_type": "execute_result"
    }
   ],
   "source": [
    "df_table_testday.describe()"
   ]
  },
  {
   "cell_type": "code",
   "execution_count": null,
   "metadata": {},
   "outputs": [],
   "source": []
  }
 ],
 "metadata": {
  "kernelspec": {
   "display_name": "Python 3",
   "language": "python",
   "name": "python3"
  },
  "language_info": {
   "codemirror_mode": {
    "name": "ipython",
    "version": 3
   },
   "file_extension": ".py",
   "mimetype": "text/x-python",
   "name": "python",
   "nbconvert_exporter": "python",
   "pygments_lexer": "ipython3",
   "version": "3.7.5"
  }
 },
 "nbformat": 4,
 "nbformat_minor": 4
}
