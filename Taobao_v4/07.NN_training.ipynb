{
 "cells": [
  {
   "cell_type": "code",
   "execution_count": 1,
   "metadata": {},
   "outputs": [],
   "source": [
    "import pandas as pd\n",
    "import numpy as np\n",
    "import datetime\n",
    "import time\n",
    "import pickle\n",
    "from tqdm import tqdm\n",
    "import matplotlib.pyplot as plt\n",
    "%matplotlib inline\n",
    "from collections import Counter\n",
    "from random import choices, sample\n",
    "from gensim.models import Word2Vec"
   ]
  },
  {
   "cell_type": "code",
   "execution_count": 2,
   "metadata": {},
   "outputs": [],
   "source": [
    "def negative_sampling(samples, num_of_samples):\n",
    "    from collections import Counter\n",
    "    ctr = Counter(samples)\n",
    "    dict_ctr_freq = {}\n",
    "    for i in ctr:\n",
    "        dict_ctr_freq[i] = ctr[i] / len(samples)\n",
    "    numerator = { pid: freq ** 0.75 for pid, freq in dict_ctr_freq.items()}\n",
    "    denominator = sum(numerator.values())\n",
    "    prob = { pid: freq_f/denominator for pid, freq_f in numerator.items()}\n",
    "    from random import choices\n",
    "    return choices(list(prob.keys()), weights=list(prob.values()),k=num_of_samples)"
   ]
  },
  {
   "cell_type": "code",
   "execution_count": 3,
   "metadata": {},
   "outputs": [],
   "source": [
    "def freq_sampling(samples, num_of_samples):\n",
    "    from collections import Counter\n",
    "    ctr = Counter(samples)\n",
    "    dict_ctr_freq = {}\n",
    "    for i in ctr:\n",
    "        dict_ctr_freq[i] = ctr[i] / len(samples)\n",
    "    from random import choices\n",
    "    return choices(list(dict_ctr_freq.keys()), weights=list(dict_ctr_freq.values()),k=num_of_samples)"
   ]
  },
  {
   "cell_type": "markdown",
   "metadata": {},
   "source": [
    "---"
   ]
  },
  {
   "cell_type": "code",
   "execution_count": 4,
   "metadata": {},
   "outputs": [],
   "source": [
    "model_w2v = Word2Vec.load(\"iid_1days.model\")"
   ]
  },
  {
   "cell_type": "code",
   "execution_count": 5,
   "metadata": {},
   "outputs": [],
   "source": [
    "with open('./iid_pairs/iid_pairs_' '2017-11-25' '.pkl', 'rb') as file:\n",
    "    iid_pairs = pickle.load(file)"
   ]
  },
  {
   "cell_type": "code",
   "execution_count": 6,
   "metadata": {},
   "outputs": [],
   "source": [
    "target, _next = zip(*iid_pairs)"
   ]
  },
  {
   "cell_type": "code",
   "execution_count": 7,
   "metadata": {},
   "outputs": [
    {
     "data": {
      "text/plain": [
       "8666470"
      ]
     },
     "execution_count": 7,
     "metadata": {},
     "output_type": "execute_result"
    }
   ],
   "source": [
    "len(iid_pairs)"
   ]
  },
  {
   "cell_type": "code",
   "execution_count": 8,
   "metadata": {},
   "outputs": [],
   "source": [
    "SAMPLE_SIZE = 8666470"
   ]
  },
  {
   "cell_type": "code",
   "execution_count": 9,
   "metadata": {},
   "outputs": [],
   "source": [
    "# positive_pairs = freq_sampling(iid_pairs, SAMPLE_SIZE)"
   ]
  },
  {
   "cell_type": "code",
   "execution_count": 10,
   "metadata": {},
   "outputs": [],
   "source": [
    "positive_pairs = iid_pairs"
   ]
  },
  {
   "cell_type": "code",
   "execution_count": 11,
   "metadata": {},
   "outputs": [],
   "source": [
    "negative_pairs = list(zip(freq_sampling(target, SAMPLE_SIZE), negative_sampling(_next, SAMPLE_SIZE)))"
   ]
  },
  {
   "cell_type": "code",
   "execution_count": 12,
   "metadata": {},
   "outputs": [
    {
     "name": "stderr",
     "output_type": "stream",
     "text": [
      "100%|██████████| 17332940/17332940 [02:10<00:00, 132722.05it/s]\n"
     ]
    }
   ],
   "source": [
    "training_data_sample = [np.hstack(( model_w2v.wv[x[0]], model_w2v.wv[x[1]] )) for x in tqdm(positive_pairs+negative_pairs)]"
   ]
  },
  {
   "cell_type": "code",
   "execution_count": 13,
   "metadata": {},
   "outputs": [],
   "source": [
    "training_data_sample = np.array(training_data_sample)"
   ]
  },
  {
   "cell_type": "code",
   "execution_count": 14,
   "metadata": {},
   "outputs": [],
   "source": [
    "# # embedding pair\n",
    "# positive_training_data = np.array([np.hstack(( model_w2v.wv[x[0]], model_w2v.wv[x[1]] )) for x in tqdm(positive_pairs)])\n",
    "# negative_training_data = np.array([np.hstack(( model_w2v.wv[x[0]], model_w2v.wv[x[1]] )) for x in tqdm(negative_pairs)])\n",
    "\n",
    "# positive_training_data.shape\n",
    "\n",
    "# training_data_sample = np.vstack((positive_training_data, negative_training_data))"
   ]
  },
  {
   "cell_type": "code",
   "execution_count": 15,
   "metadata": {},
   "outputs": [
    {
     "data": {
      "text/plain": [
       "(17332940, 256)"
      ]
     },
     "execution_count": 15,
     "metadata": {},
     "output_type": "execute_result"
    }
   ],
   "source": [
    "training_data_sample.shape"
   ]
  },
  {
   "cell_type": "code",
   "execution_count": 16,
   "metadata": {},
   "outputs": [],
   "source": [
    "ones = np.ones((SAMPLE_SIZE, 1))\n",
    "zeros = np.zeros((SAMPLE_SIZE, 1))\n",
    "label = np.vstack((ones, zeros))"
   ]
  },
  {
   "cell_type": "code",
   "execution_count": 17,
   "metadata": {},
   "outputs": [
    {
     "data": {
      "text/plain": [
       "(17332940, 1)"
      ]
     },
     "execution_count": 17,
     "metadata": {},
     "output_type": "execute_result"
    }
   ],
   "source": [
    "label.shape"
   ]
  },
  {
   "cell_type": "markdown",
   "metadata": {},
   "source": [
    "---"
   ]
  },
  {
   "cell_type": "code",
   "execution_count": 18,
   "metadata": {},
   "outputs": [
    {
     "name": "stderr",
     "output_type": "stream",
     "text": [
      "Using TensorFlow backend.\n"
     ]
    }
   ],
   "source": [
    "from sklearn.model_selection import train_test_split\n",
    "from keras import models, layers, optimizers, losses, metrics, callbacks"
   ]
  },
  {
   "cell_type": "code",
   "execution_count": 19,
   "metadata": {},
   "outputs": [],
   "source": [
    "X_train, y_train = training_data_sample, label"
   ]
  },
  {
   "cell_type": "code",
   "execution_count": 32,
   "metadata": {},
   "outputs": [],
   "source": [
    "model = models.Sequential()\n",
    "model.add(layers.Dense(512, activation='linear', input_shape=(256,)))\n",
    "model.add(layers.LeakyReLU(alpha=0.3))\n",
    "model.add(layers.Dense(256, activation='linear'))\n",
    "model.add(layers.LeakyReLU(alpha=0.3))\n",
    "model.add(layers.Dense(128, activation='linear'))\n",
    "model.add(layers.LeakyReLU(alpha=0.3))\n",
    "model.add(layers.Dense(64, activation='linear'))\n",
    "model.add(layers.LeakyReLU(alpha=0.3))\n",
    "model.add(layers.Dense(1, activation='sigmoid'))"
   ]
  },
  {
   "cell_type": "code",
   "execution_count": 33,
   "metadata": {},
   "outputs": [],
   "source": [
    "model.compile(optimizer=optimizers.RMSprop(lr=0.001),\n",
    "             loss=losses.binary_crossentropy,\n",
    "             metrics=[metrics.mse])"
   ]
  },
  {
   "cell_type": "code",
   "execution_count": 34,
   "metadata": {},
   "outputs": [
    {
     "name": "stdout",
     "output_type": "stream",
     "text": [
      "Model: \"sequential_3\"\n",
      "_________________________________________________________________\n",
      "Layer (type)                 Output Shape              Param #   \n",
      "=================================================================\n",
      "dense_11 (Dense)             (None, 512)               131584    \n",
      "_________________________________________________________________\n",
      "leaky_re_lu_9 (LeakyReLU)    (None, 512)               0         \n",
      "_________________________________________________________________\n",
      "dense_12 (Dense)             (None, 256)               131328    \n",
      "_________________________________________________________________\n",
      "leaky_re_lu_10 (LeakyReLU)   (None, 256)               0         \n",
      "_________________________________________________________________\n",
      "dense_13 (Dense)             (None, 128)               32896     \n",
      "_________________________________________________________________\n",
      "leaky_re_lu_11 (LeakyReLU)   (None, 128)               0         \n",
      "_________________________________________________________________\n",
      "dense_14 (Dense)             (None, 64)                8256      \n",
      "_________________________________________________________________\n",
      "leaky_re_lu_12 (LeakyReLU)   (None, 64)                0         \n",
      "_________________________________________________________________\n",
      "dense_15 (Dense)             (None, 1)                 65        \n",
      "=================================================================\n",
      "Total params: 304,129\n",
      "Trainable params: 304,129\n",
      "Non-trainable params: 0\n",
      "_________________________________________________________________\n"
     ]
    }
   ],
   "source": [
    "model.summary()"
   ]
  },
  {
   "cell_type": "code",
   "execution_count": 35,
   "metadata": {},
   "outputs": [],
   "source": [
    "# checkpoint\n",
    "filepath = './saved_model/' '2017-11-25' '_' + str(SAMPLE_SIZE) + '_' + time.strftime(\"%m%d\", time.localtime()) + \".h5\"\n",
    "checkpoint = callbacks.ModelCheckpoint(filepath, monitor='val_loss', verbose=1, save_best_only=True, mode='auto')\n",
    "callbacks_list = [checkpoint]"
   ]
  },
  {
   "cell_type": "code",
   "execution_count": 36,
   "metadata": {},
   "outputs": [
    {
     "name": "stdout",
     "output_type": "stream",
     "text": [
      "Train on 10399764 samples, validate on 6933176 samples\n",
      "Epoch 1/20\n",
      "10399764/10399764 [==============================] - 122s 12us/step - loss: 0.4128 - mean_squared_error: 0.1281 - val_loss: 1.4725 - val_mean_squared_error: 0.5529\n",
      "\n",
      "Epoch 00001: val_loss improved from inf to 1.47252, saving model to ./saved_model/2017-11-25_8666470_0423.h5\n",
      "Epoch 2/20\n",
      "10399764/10399764 [==============================] - 122s 12us/step - loss: 0.4053 - mean_squared_error: 0.1259 - val_loss: 1.7358 - val_mean_squared_error: 0.6431\n",
      "\n",
      "Epoch 00002: val_loss did not improve from 1.47252\n",
      "Epoch 3/20\n",
      "10399764/10399764 [==============================] - 122s 12us/step - loss: 0.4013 - mean_squared_error: 0.1249 - val_loss: 1.5873 - val_mean_squared_error: 0.5716\n",
      "\n",
      "Epoch 00003: val_loss did not improve from 1.47252\n",
      "Epoch 4/20\n",
      "10399764/10399764 [==============================] - 122s 12us/step - loss: 0.3993 - mean_squared_error: 0.1243 - val_loss: 1.2736 - val_mean_squared_error: 0.4671\n",
      "\n",
      "Epoch 00004: val_loss improved from 1.47252 to 1.27363, saving model to ./saved_model/2017-11-25_8666470_0423.h5\n",
      "Epoch 5/20\n",
      "10399764/10399764 [==============================] - 122s 12us/step - loss: 0.3982 - mean_squared_error: 0.1240 - val_loss: 1.5642 - val_mean_squared_error: 0.5796\n",
      "\n",
      "Epoch 00005: val_loss did not improve from 1.27363\n",
      "Epoch 6/20\n",
      "10399764/10399764 [==============================] - 122s 12us/step - loss: 0.3974 - mean_squared_error: 0.1237 - val_loss: 1.6748 - val_mean_squared_error: 0.6325\n",
      "\n",
      "Epoch 00006: val_loss did not improve from 1.27363\n",
      "Epoch 7/20\n",
      "10399764/10399764 [==============================] - 122s 12us/step - loss: 0.3967 - mean_squared_error: 0.1236 - val_loss: 1.8781 - val_mean_squared_error: 0.6556\n",
      "\n",
      "Epoch 00007: val_loss did not improve from 1.27363\n",
      "Epoch 8/20\n",
      "10399764/10399764 [==============================] - 122s 12us/step - loss: 0.3962 - mean_squared_error: 0.1234 - val_loss: 1.5277 - val_mean_squared_error: 0.5597\n",
      "\n",
      "Epoch 00008: val_loss did not improve from 1.27363\n",
      "Epoch 9/20\n",
      "10399764/10399764 [==============================] - 122s 12us/step - loss: 0.3958 - mean_squared_error: 0.1233 - val_loss: 1.6773 - val_mean_squared_error: 0.6157\n",
      "\n",
      "Epoch 00009: val_loss did not improve from 1.27363\n",
      "Epoch 10/20\n",
      "10399764/10399764 [==============================] - 122s 12us/step - loss: 0.3954 - mean_squared_error: 0.1232 - val_loss: 1.7375 - val_mean_squared_error: 0.6438\n",
      "\n",
      "Epoch 00010: val_loss did not improve from 1.27363\n",
      "Epoch 11/20\n",
      "10399764/10399764 [==============================] - 122s 12us/step - loss: 0.3951 - mean_squared_error: 0.1231 - val_loss: 1.5499 - val_mean_squared_error: 0.5764\n",
      "\n",
      "Epoch 00011: val_loss did not improve from 1.27363\n",
      "Epoch 12/20\n",
      "10399764/10399764 [==============================] - 122s 12us/step - loss: 0.3950 - mean_squared_error: 0.1230 - val_loss: 1.8079 - val_mean_squared_error: 0.6140\n",
      "\n",
      "Epoch 00012: val_loss did not improve from 1.27363\n",
      "Epoch 13/20\n",
      "10399764/10399764 [==============================] - 122s 12us/step - loss: 0.3946 - mean_squared_error: 0.1229 - val_loss: 1.5844 - val_mean_squared_error: 0.5811\n",
      "\n",
      "Epoch 00013: val_loss did not improve from 1.27363\n",
      "Epoch 14/20\n",
      "10399764/10399764 [==============================] - 122s 12us/step - loss: 0.3944 - mean_squared_error: 0.1229 - val_loss: 1.3982 - val_mean_squared_error: 0.5242\n",
      "\n",
      "Epoch 00014: val_loss did not improve from 1.27363\n",
      "Epoch 15/20\n",
      "10399764/10399764 [==============================] - 122s 12us/step - loss: 0.3943 - mean_squared_error: 0.1228 - val_loss: 1.5842 - val_mean_squared_error: 0.5886\n",
      "\n",
      "Epoch 00015: val_loss did not improve from 1.27363\n",
      "Epoch 16/20\n",
      "10399764/10399764 [==============================] - 122s 12us/step - loss: 0.3943 - mean_squared_error: 0.1228 - val_loss: 1.6189 - val_mean_squared_error: 0.6026\n",
      "\n",
      "Epoch 00016: val_loss did not improve from 1.27363\n",
      "Epoch 17/20\n",
      "10399764/10399764 [==============================] - 122s 12us/step - loss: 0.3939 - mean_squared_error: 0.1227 - val_loss: 1.4315 - val_mean_squared_error: 0.5470\n",
      "\n",
      "Epoch 00017: val_loss did not improve from 1.27363\n",
      "Epoch 18/20\n",
      "10399764/10399764 [==============================] - 122s 12us/step - loss: 0.3937 - mean_squared_error: 0.1226 - val_loss: 1.3726 - val_mean_squared_error: 0.5144\n",
      "\n",
      "Epoch 00018: val_loss did not improve from 1.27363\n",
      "Epoch 19/20\n",
      "10399764/10399764 [==============================] - 122s 12us/step - loss: 0.3936 - mean_squared_error: 0.1226 - val_loss: 1.7346 - val_mean_squared_error: 0.6210\n",
      "\n",
      "Epoch 00019: val_loss did not improve from 1.27363\n",
      "Epoch 20/20\n",
      "10399764/10399764 [==============================] - 122s 12us/step - loss: 0.3935 - mean_squared_error: 0.1226 - val_loss: 1.6148 - val_mean_squared_error: 0.5867\n",
      "\n",
      "Epoch 00020: val_loss did not improve from 1.27363\n"
     ]
    }
   ],
   "source": [
    "history = model.fit(X_train,\n",
    "                    y_train,\n",
    "                    epochs=20,\n",
    "                    batch_size=512,\n",
    "                    validation_split=.4,\n",
    "                    verbose=1,\n",
    "                    callbacks=callbacks_list)"
   ]
  },
  {
   "cell_type": "code",
   "execution_count": 37,
   "metadata": {},
   "outputs": [
    {
     "data": {
      "text/plain": [
       "dict_keys(['val_loss', 'val_mean_squared_error', 'loss', 'mean_squared_error'])"
      ]
     },
     "execution_count": 37,
     "metadata": {},
     "output_type": "execute_result"
    }
   ],
   "source": [
    "history.history.keys()"
   ]
  },
  {
   "cell_type": "code",
   "execution_count": 38,
   "metadata": {},
   "outputs": [
    {
     "data": {
      "text/plain": [
       "<matplotlib.axes._subplots.AxesSubplot at 0x7f781e1bd2d0>"
      ]
     },
     "execution_count": 38,
     "metadata": {},
     "output_type": "execute_result"
    },
    {
     "data": {
      "image/png": "[encoded data removed]",
      "text/plain": [
       "<Figure size 432x288 with 1 Axes>"
      ]
     },
     "metadata": {
      "needs_background": "light"
     },
     "output_type": "display_data"
    }
   ],
   "source": [
    "pd.DataFrame(history.history)[['loss', 'val_loss']].plot()"
   ]
  },
  {
   "cell_type": "code",
   "execution_count": null,
   "metadata": {},
   "outputs": [
    {
     "data": {
      "text/plain": [
       "<matplotlib.axes._subplots.AxesSubplot at 0x7f781f122f10>"
      ]
     },
     "execution_count": 39,
     "metadata": {},
     "output_type": "execute_result"
    }
   ],
   "source": [
    "pd.DataFrame(history.history)[['mean_squared_error', 'val_mean_squared_error']].plot()"
   ]
  },
  {
   "cell_type": "code",
   "execution_count": null,
   "metadata": {},
   "outputs": [],
   "source": []
  }
 ],
 "metadata": {
  "kernelspec": {
   "display_name": "Python 3",
   "language": "python",
   "name": "python3"
  },
  "language_info": {
   "codemirror_mode": {
    "name": "ipython",
    "version": 3
   },
   "file_extension": ".py",
   "mimetype": "text/x-python",
   "name": "python",
   "nbconvert_exporter": "python",
   "pygments_lexer": "ipython3",
   "version": "3.7.5"
  }
 },
 "nbformat": 4,
 "nbformat_minor": 4
}
