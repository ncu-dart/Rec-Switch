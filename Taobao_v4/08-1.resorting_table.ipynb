{
 "cells": [
  {
   "cell_type": "code",
   "execution_count": 1,
   "metadata": {},
   "outputs": [
    {
     "name": "stderr",
     "output_type": "stream",
     "text": [
      "Using TensorFlow backend.\n"
     ]
    }
   ],
   "source": [
    "import pandas as pd\n",
    "import numpy as np\n",
    "import datetime\n",
    "import time\n",
    "import pickle\n",
    "from tqdm import tqdm\n",
    "import matplotlib.pyplot as plt\n",
    "%matplotlib inline\n",
    "from collections import Counter\n",
    "from random import choices, sample\n",
    "from gensim.models import Word2Vec\n",
    "import gc\n",
    "import keras"
   ]
  },
  {
   "cell_type": "code",
   "execution_count": 2,
   "metadata": {},
   "outputs": [],
   "source": [
    "PART = '1'"
   ]
  },
  {
   "cell_type": "code",
   "execution_count": 3,
   "metadata": {},
   "outputs": [],
   "source": [
    "with open('./dict_knn_table/' + 'knn_table_' + PART + '.pkl', 'rb') as file:\n",
    "    dict_table = pickle.load(file)"
   ]
  },
  {
   "cell_type": "code",
   "execution_count": 4,
   "metadata": {},
   "outputs": [],
   "source": [
    "model_w2v = Word2Vec.load(\"iid_1days.model\")"
   ]
  },
  {
   "cell_type": "code",
   "execution_count": 5,
   "metadata": {},
   "outputs": [],
   "source": [
    "model = keras.models.load_model('./saved_model/2017-11-25_8666470_0423.h5')"
   ]
  },
  {
   "cell_type": "code",
   "execution_count": 6,
   "metadata": {},
   "outputs": [
    {
     "name": "stderr",
     "output_type": "stream",
     "text": [
      "100%|██████████| 381185/381185 [3:33:28<00:00, 29.76it/s]  \n"
     ]
    }
   ],
   "source": [
    "for iid in tqdm(list(dict_table.keys())):\n",
    "    topn, cos = zip(*dict_table[iid])\n",
    "    score = [ float(model.predict(np.hstack(( model_w2v.wv[iid], model_w2v.wv[n] )).reshape(1, 256))[0][0]) for n in topn ]\n",
    "    new_rank = list(zip(topn, score))\n",
    "    new_rank.sort(key=lambda x : x[1], reverse=True)\n",
    "    dict_table[iid] = new_rank"
   ]
  },
  {
   "cell_type": "code",
   "execution_count": 7,
   "metadata": {},
   "outputs": [],
   "source": [
    "with open('./dict_NN_table/' + 'NN_table_' + PART + '.pkl', 'wb') as file:\n",
    "    pickle.dump(dict_table, file)"
   ]
  },
  {
   "cell_type": "code",
   "execution_count": 8,
   "metadata": {},
   "outputs": [],
   "source": [
    "PART = '2'"
   ]
  },
  {
   "cell_type": "code",
   "execution_count": 9,
   "metadata": {},
   "outputs": [],
   "source": [
    "with open('./dict_knn_table/' + 'knn_table_' + PART + '.pkl', 'rb') as file:\n",
    "    dict_table = pickle.load(file)"
   ]
  },
  {
   "cell_type": "code",
   "execution_count": 10,
   "metadata": {},
   "outputs": [
    {
     "name": "stderr",
     "output_type": "stream",
     "text": [
      "100%|██████████| 381339/381339 [3:35:12<00:00, 29.53it/s]  \n"
     ]
    }
   ],
   "source": [
    "for iid in tqdm(list(dict_table.keys())):\n",
    "    topn, cos = zip(*dict_table[iid])\n",
    "    score = [ float(model.predict(np.hstack(( model_w2v.wv[iid], model_w2v.wv[n] )).reshape(1, 256))[0][0]) for n in topn ]\n",
    "    new_rank = list(zip(topn, score))\n",
    "    new_rank.sort(key=lambda x : x[1], reverse=True)\n",
    "    dict_table[iid] = new_rank"
   ]
  },
  {
   "cell_type": "code",
   "execution_count": 11,
   "metadata": {},
   "outputs": [],
   "source": [
    "with open('./dict_NN_table/' + 'NN_table_' + PART + '.pkl', 'wb') as file:\n",
    "    pickle.dump(dict_table, file)"
   ]
  },
  {
   "cell_type": "code",
   "execution_count": null,
   "metadata": {},
   "outputs": [],
   "source": [
    "# PART = '3'\n",
    "# ...\n",
    "# PART = '4'\n",
    "# ..."
   ]
  }
 ],
 "metadata": {
  "kernelspec": {
   "display_name": "Python 3",
   "language": "python",
   "name": "python3"
  },
  "language_info": {
   "codemirror_mode": {
    "name": "ipython",
    "version": 3
   },
   "file_extension": ".py",
   "mimetype": "text/x-python",
   "name": "python",
   "nbconvert_exporter": "python",
   "pygments_lexer": "ipython3",
   "version": "3.7.5"
  }
 },
 "nbformat": 4,
 "nbformat_minor": 4
}
