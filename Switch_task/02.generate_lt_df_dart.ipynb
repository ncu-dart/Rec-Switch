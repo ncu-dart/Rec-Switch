{
 "cells": [
  {
   "cell_type": "code",
   "execution_count": 14,
   "metadata": {},
   "outputs": [],
   "source": [
    "import pandas as pd\n",
    "import numpy as np\n",
    "import datetime\n",
    "import pickle\n",
    "from tqdm import tqdm\n",
    "import csv"
   ]
  },
  {
   "cell_type": "code",
   "execution_count": 15,
   "metadata": {},
   "outputs": [],
   "source": [
    "from os import listdir\n",
    "from os.path import isfile, isdir, join\n",
    "\n",
    "# 指定要列出所有檔案的目錄\n",
    "mypath = './dien_dart'\n",
    "# 取得所有檔案與子目錄名稱\n",
    "files = listdir(mypath)\n",
    "csv_list = []\n",
    "# 以迴圈處理\n",
    "for f in files:\n",
    "  # 產生檔案的絕對路徑\n",
    "  fullpath = join(mypath, f)\n",
    "  # 判斷 fullpath 是檔案還是目錄\n",
    "  if isfile(fullpath):\n",
    "#     print(\"檔案：\", f)\n",
    "    if f[-4:]=='.csv':\n",
    "        csv_list.append(f[17:-4])\n",
    "csv_list.sort()"
   ]
  },
  {
   "cell_type": "code",
   "execution_count": 16,
   "metadata": {
    "collapsed": true,
    "jupyter": {
     "outputs_hidden": true
    }
   },
   "outputs": [
    {
     "data": {
      "text/plain": [
       "['20190315',\n",
       " '20190316',\n",
       " '20190317',\n",
       " '20190318',\n",
       " '20190319',\n",
       " '20190320',\n",
       " '20190321',\n",
       " '20190322',\n",
       " '20190323',\n",
       " '20190324',\n",
       " '20190325',\n",
       " '20190326',\n",
       " '20190327',\n",
       " '20190328',\n",
       " '20190329',\n",
       " '20190330',\n",
       " '20190331',\n",
       " '20190401',\n",
       " '20190402',\n",
       " '20190403',\n",
       " '20190404',\n",
       " '20190405',\n",
       " '20190406',\n",
       " '20190407',\n",
       " '20190408',\n",
       " '20190409',\n",
       " '20190410',\n",
       " '20190411',\n",
       " '20190412',\n",
       " '20190413',\n",
       " '20190414',\n",
       " '20190415',\n",
       " '20190416',\n",
       " '20190417',\n",
       " '20190418',\n",
       " '20190419',\n",
       " '20190420',\n",
       " '20190421',\n",
       " '20190422',\n",
       " '20190423',\n",
       " '20190424',\n",
       " '20190425',\n",
       " '20190426',\n",
       " '20190427',\n",
       " '20190428',\n",
       " '20190429',\n",
       " '20190430',\n",
       " '20190501',\n",
       " '20190502',\n",
       " '20190503',\n",
       " '20190504',\n",
       " '20190505',\n",
       " '20190506',\n",
       " '20190507',\n",
       " '20190508',\n",
       " '20190509',\n",
       " '20190510',\n",
       " '20190511',\n",
       " '20190512',\n",
       " '20190513',\n",
       " '20190514',\n",
       " '20190515',\n",
       " '20190516',\n",
       " '20190517',\n",
       " '20190518',\n",
       " '20190519',\n",
       " '20190520',\n",
       " '20190521',\n",
       " '20190522',\n",
       " '20190523',\n",
       " '20190524',\n",
       " '20190525',\n",
       " '20190526',\n",
       " '20190527',\n",
       " '20190528',\n",
       " '20190529',\n",
       " '20190530',\n",
       " '20190531',\n",
       " '20190601',\n",
       " '20190602',\n",
       " '20190603',\n",
       " '20190604',\n",
       " '20190605',\n",
       " '20190606',\n",
       " '20190607',\n",
       " '20190608',\n",
       " '20190609',\n",
       " '20190610',\n",
       " '20190611',\n",
       " '20190612',\n",
       " '20190613',\n",
       " '20190614',\n",
       " '20190615',\n",
       " '20190616',\n",
       " '20190617',\n",
       " '20190618',\n",
       " '20190619',\n",
       " '20190620',\n",
       " '20190621',\n",
       " '20190622',\n",
       " '20190623',\n",
       " '20190624',\n",
       " '20190625',\n",
       " '20190626',\n",
       " '20190627',\n",
       " '20190628',\n",
       " '20190629',\n",
       " '20190630']"
      ]
     },
     "execution_count": 16,
     "metadata": {},
     "output_type": "execute_result"
    }
   ],
   "source": [
    "csv_list"
   ]
  },
  {
   "cell_type": "code",
   "execution_count": 17,
   "metadata": {},
   "outputs": [],
   "source": [
    "with open('../CTR_v4/item_data/dict_knn_table.pkl', 'rb') as file:\n",
    "    dict_knn_table = pickle.load(file)"
   ]
  },
  {
   "cell_type": "code",
   "execution_count": 18,
   "metadata": {},
   "outputs": [],
   "source": [
    "def knn_ranking(r):\n",
    "    if r.target_iid in dict_knn_table:\n",
    "        ids = dict_knn_table[r.target_iid]\n",
    "#             ids, cos = zip(*lt)\n",
    "        try:\n",
    "            rank = ids.index(r.next_iid) + 1\n",
    "        except:\n",
    "            rank = np.nan\n",
    "    else:\n",
    "        rank = np.nan\n",
    "    return rank"
   ]
  },
  {
   "cell_type": "code",
   "execution_count": 19,
   "metadata": {},
   "outputs": [],
   "source": [
    "NN_tables = []\n",
    "for part in range(1, 5):\n",
    "    with open('../CTR_v4/dict_NN_table/NN_table_'+ str(part) +'.pkl', 'rb') as file:\n",
    "        NN_tables.append(pickle.load(file))"
   ]
  },
  {
   "cell_type": "code",
   "execution_count": 20,
   "metadata": {},
   "outputs": [],
   "source": [
    "def NN_ranking(r):\n",
    "    for part in range(4):\n",
    "        if r.target_iid in NN_tables[part]:\n",
    "            lt = NN_tables[part][r.target_iid]\n",
    "            ids, score = zip(*lt)\n",
    "            try:\n",
    "                rank = ids.index(r.next_iid) + 1\n",
    "            except:\n",
    "                rank = np.nan\n",
    "            break\n",
    "    else:\n",
    "        rank = np.nan\n",
    "    return rank"
   ]
  },
  {
   "cell_type": "code",
   "execution_count": 21,
   "metadata": {
    "collapsed": true,
    "jupyter": {
     "outputs_hidden": true
    }
   },
   "outputs": [
    {
     "name": "stderr",
     "output_type": "stream",
     "text": [
      "  0%|          | 0/108 [00:00<?, ?it/s]"
     ]
    },
    {
     "name": "stdout",
     "output_type": "stream",
     "text": [
      "20190315\n",
      "Series are different\n",
      "\n",
      "Series length are different\n",
      "[left]:  6557, RangeIndex(start=0, stop=6557, step=1)\n",
      "[right]: 6556, RangeIndex(start=0, stop=6556, step=1)\n"
     ]
    },
    {
     "name": "stderr",
     "output_type": "stream",
     "text": [
      "  1%|          | 1/108 [00:00<01:02,  1.70it/s]"
     ]
    },
    {
     "name": "stdout",
     "output_type": "stream",
     "text": [
      "20190316\n",
      "Series are different\n",
      "\n",
      "Series length are different\n",
      "[left]:  5789, RangeIndex(start=0, stop=5789, step=1)\n",
      "[right]: 5788, RangeIndex(start=0, stop=5788, step=1)\n"
     ]
    },
    {
     "name": "stderr",
     "output_type": "stream",
     "text": [
      "  3%|▎         | 3/108 [00:01<00:59,  1.75it/s]"
     ]
    },
    {
     "name": "stdout",
     "output_type": "stream",
     "text": [
      "20190318\n",
      "Series are different\n",
      "\n",
      "Series length are different\n",
      "[left]:  7061, RangeIndex(start=0, stop=7061, step=1)\n",
      "[right]: 7056, RangeIndex(start=0, stop=7056, step=1)\n"
     ]
    },
    {
     "name": "stderr",
     "output_type": "stream",
     "text": [
      "  4%|▎         | 4/108 [00:02<01:01,  1.69it/s]"
     ]
    },
    {
     "name": "stdout",
     "output_type": "stream",
     "text": [
      "20190319\n",
      "Series are different\n",
      "\n",
      "Series length are different\n",
      "[left]:  6980, RangeIndex(start=0, stop=6980, step=1)\n",
      "[right]: 6979, RangeIndex(start=0, stop=6979, step=1)\n"
     ]
    },
    {
     "name": "stderr",
     "output_type": "stream",
     "text": [
      "  5%|▍         | 5/108 [00:02<01:02,  1.66it/s]"
     ]
    },
    {
     "name": "stdout",
     "output_type": "stream",
     "text": [
      "20190320\n",
      "Series are different\n",
      "\n",
      "Series length are different\n",
      "[left]:  6343, RangeIndex(start=0, stop=6343, step=1)\n",
      "[right]: 6341, RangeIndex(start=0, stop=6341, step=1)\n"
     ]
    },
    {
     "name": "stderr",
     "output_type": "stream",
     "text": [
      "  6%|▌         | 6/108 [00:03<01:00,  1.68it/s]"
     ]
    },
    {
     "name": "stdout",
     "output_type": "stream",
     "text": [
      "20190321\n",
      "Series are different\n",
      "\n",
      "Series length are different\n",
      "[left]:  6485, RangeIndex(start=0, stop=6485, step=1)\n",
      "[right]: 6482, RangeIndex(start=0, stop=6482, step=1)\n"
     ]
    },
    {
     "name": "stderr",
     "output_type": "stream",
     "text": [
      "  6%|▋         | 7/108 [00:04<00:59,  1.69it/s]"
     ]
    },
    {
     "name": "stdout",
     "output_type": "stream",
     "text": [
      "20190322\n",
      "Series are different\n",
      "\n",
      "Series length are different\n",
      "[left]:  6885, RangeIndex(start=0, stop=6885, step=1)\n",
      "[right]: 6880, RangeIndex(start=0, stop=6880, step=1)\n"
     ]
    },
    {
     "name": "stderr",
     "output_type": "stream",
     "text": [
      "  7%|▋         | 8/108 [00:04<01:00,  1.66it/s]"
     ]
    },
    {
     "name": "stdout",
     "output_type": "stream",
     "text": [
      "20190323\n",
      "Series are different\n",
      "\n",
      "Series length are different\n",
      "[left]:  6153, RangeIndex(start=0, stop=6153, step=1)\n",
      "[right]: 6151, RangeIndex(start=0, stop=6151, step=1)\n"
     ]
    },
    {
     "name": "stderr",
     "output_type": "stream",
     "text": [
      "  8%|▊         | 9/108 [00:05<00:58,  1.70it/s]"
     ]
    },
    {
     "name": "stdout",
     "output_type": "stream",
     "text": [
      "20190324\n",
      "Series are different\n",
      "\n",
      "Series length are different\n",
      "[left]:  6655, RangeIndex(start=0, stop=6655, step=1)\n",
      "[right]: 6653, RangeIndex(start=0, stop=6653, step=1)\n"
     ]
    },
    {
     "name": "stderr",
     "output_type": "stream",
     "text": [
      "  9%|▉         | 10/108 [00:05<00:58,  1.69it/s]"
     ]
    },
    {
     "name": "stdout",
     "output_type": "stream",
     "text": [
      "20190325\n",
      "Series are different\n",
      "\n",
      "Series length are different\n",
      "[left]:  7090, RangeIndex(start=0, stop=7090, step=1)\n",
      "[right]: 7086, RangeIndex(start=0, stop=7086, step=1)\n"
     ]
    },
    {
     "name": "stderr",
     "output_type": "stream",
     "text": [
      " 10%|█         | 11/108 [00:06<00:59,  1.64it/s]"
     ]
    },
    {
     "name": "stdout",
     "output_type": "stream",
     "text": [
      "20190326\n",
      "Series are different\n",
      "\n",
      "Series length are different\n",
      "[left]:  6306, RangeIndex(start=0, stop=6306, step=1)\n",
      "[right]: 6301, RangeIndex(start=0, stop=6301, step=1)\n"
     ]
    },
    {
     "name": "stderr",
     "output_type": "stream",
     "text": [
      " 11%|█         | 12/108 [00:07<00:57,  1.67it/s]"
     ]
    },
    {
     "name": "stdout",
     "output_type": "stream",
     "text": [
      "20190327\n",
      "Series are different\n",
      "\n",
      "Series length are different\n",
      "[left]:  6158, RangeIndex(start=0, stop=6158, step=1)\n",
      "[right]: 6153, RangeIndex(start=0, stop=6153, step=1)\n"
     ]
    },
    {
     "name": "stderr",
     "output_type": "stream",
     "text": [
      " 12%|█▏        | 13/108 [00:07<00:55,  1.70it/s]"
     ]
    },
    {
     "name": "stdout",
     "output_type": "stream",
     "text": [
      "20190328\n",
      "Series are different\n",
      "\n",
      "Series length are different\n",
      "[left]:  5817, RangeIndex(start=0, stop=5817, step=1)\n",
      "[right]: 5815, RangeIndex(start=0, stop=5815, step=1)\n"
     ]
    },
    {
     "name": "stderr",
     "output_type": "stream",
     "text": [
      " 13%|█▎        | 14/108 [00:08<00:53,  1.76it/s]"
     ]
    },
    {
     "name": "stdout",
     "output_type": "stream",
     "text": [
      "20190329\n",
      "Series are different\n",
      "\n",
      "Series length are different\n",
      "[left]:  5449, RangeIndex(start=0, stop=5449, step=1)\n",
      "[right]: 5447, RangeIndex(start=0, stop=5447, step=1)\n"
     ]
    },
    {
     "name": "stderr",
     "output_type": "stream",
     "text": [
      " 14%|█▍        | 15/108 [00:08<00:50,  1.83it/s]"
     ]
    },
    {
     "name": "stdout",
     "output_type": "stream",
     "text": [
      "20190330\n",
      "Series are different\n",
      "\n",
      "Series length are different\n",
      "[left]:  4859, RangeIndex(start=0, stop=4859, step=1)\n",
      "[right]: 4857, RangeIndex(start=0, stop=4857, step=1)\n"
     ]
    },
    {
     "name": "stderr",
     "output_type": "stream",
     "text": [
      " 15%|█▍        | 16/108 [00:09<00:47,  1.94it/s]"
     ]
    },
    {
     "name": "stdout",
     "output_type": "stream",
     "text": [
      "20190331\n",
      "Series are different\n",
      "\n",
      "Series length are different\n",
      "[left]:  5258, RangeIndex(start=0, stop=5258, step=1)\n",
      "[right]: 5255, RangeIndex(start=0, stop=5255, step=1)\n"
     ]
    },
    {
     "name": "stderr",
     "output_type": "stream",
     "text": [
      " 16%|█▌        | 17/108 [00:09<00:45,  1.98it/s]"
     ]
    },
    {
     "name": "stdout",
     "output_type": "stream",
     "text": [
      "20190401\n",
      "Series are different\n",
      "\n",
      "Series length are different\n",
      "[left]:  5758, RangeIndex(start=0, stop=5758, step=1)\n",
      "[right]: 5755, RangeIndex(start=0, stop=5755, step=1)\n"
     ]
    },
    {
     "name": "stderr",
     "output_type": "stream",
     "text": [
      " 17%|█▋        | 18/108 [00:10<00:45,  1.96it/s]"
     ]
    },
    {
     "name": "stdout",
     "output_type": "stream",
     "text": [
      "20190402\n",
      "Series are different\n",
      "\n",
      "Series length are different\n",
      "[left]:  5581, RangeIndex(start=0, stop=5581, step=1)\n",
      "[right]: 5579, RangeIndex(start=0, stop=5579, step=1)\n"
     ]
    },
    {
     "name": "stderr",
     "output_type": "stream",
     "text": [
      " 18%|█▊        | 19/108 [00:10<00:45,  1.96it/s]"
     ]
    },
    {
     "name": "stdout",
     "output_type": "stream",
     "text": [
      "20190403\n",
      "Series are different\n",
      "\n",
      "Series length are different\n",
      "[left]:  5047, RangeIndex(start=0, stop=5047, step=1)\n",
      "[right]: 5040, RangeIndex(start=0, stop=5040, step=1)\n"
     ]
    },
    {
     "name": "stderr",
     "output_type": "stream",
     "text": [
      " 19%|█▊        | 20/108 [00:11<00:43,  2.02it/s]"
     ]
    },
    {
     "name": "stdout",
     "output_type": "stream",
     "text": [
      "20190404\n",
      "Series are different\n",
      "\n",
      "Series length are different\n",
      "[left]:  4854, RangeIndex(start=0, stop=4854, step=1)\n",
      "[right]: 4853, RangeIndex(start=0, stop=4853, step=1)\n"
     ]
    },
    {
     "name": "stderr",
     "output_type": "stream",
     "text": [
      " 19%|█▉        | 21/108 [00:11<00:41,  2.08it/s]"
     ]
    },
    {
     "name": "stdout",
     "output_type": "stream",
     "text": [
      "20190405\n",
      "Series are different\n",
      "\n",
      "Series length are different\n",
      "[left]:  5340, RangeIndex(start=0, stop=5340, step=1)\n",
      "[right]: 5338, RangeIndex(start=0, stop=5338, step=1)\n"
     ]
    },
    {
     "name": "stderr",
     "output_type": "stream",
     "text": [
      " 22%|██▏       | 24/108 [00:13<00:40,  2.06it/s]"
     ]
    },
    {
     "name": "stdout",
     "output_type": "stream",
     "text": [
      "20190408\n",
      "Series are different\n",
      "\n",
      "Series length are different\n",
      "[left]:  6054, RangeIndex(start=0, stop=6054, step=1)\n",
      "[right]: 6049, RangeIndex(start=0, stop=6049, step=1)\n"
     ]
    },
    {
     "name": "stderr",
     "output_type": "stream",
     "text": [
      " 23%|██▎       | 25/108 [00:13<00:41,  1.98it/s]"
     ]
    },
    {
     "name": "stdout",
     "output_type": "stream",
     "text": [
      "20190409\n",
      "Series are different\n",
      "\n",
      "Series length are different\n",
      "[left]:  7014, RangeIndex(start=0, stop=7014, step=1)\n",
      "[right]: 7011, RangeIndex(start=0, stop=7011, step=1)\n"
     ]
    },
    {
     "name": "stderr",
     "output_type": "stream",
     "text": [
      " 24%|██▍       | 26/108 [00:14<00:44,  1.84it/s]"
     ]
    },
    {
     "name": "stdout",
     "output_type": "stream",
     "text": [
      "20190410\n",
      "Series are different\n",
      "\n",
      "Series length are different\n",
      "[left]:  7142, RangeIndex(start=0, stop=7142, step=1)\n",
      "[right]: 7135, RangeIndex(start=0, stop=7135, step=1)\n"
     ]
    },
    {
     "name": "stderr",
     "output_type": "stream",
     "text": [
      " 25%|██▌       | 27/108 [00:14<00:46,  1.74it/s]"
     ]
    },
    {
     "name": "stdout",
     "output_type": "stream",
     "text": [
      "20190411\n",
      "Series are different\n",
      "\n",
      "Series length are different\n",
      "[left]:  7254, RangeIndex(start=0, stop=7254, step=1)\n",
      "[right]: 7253, RangeIndex(start=0, stop=7253, step=1)\n"
     ]
    },
    {
     "name": "stderr",
     "output_type": "stream",
     "text": [
      " 26%|██▌       | 28/108 [00:15<00:47,  1.67it/s]"
     ]
    },
    {
     "name": "stdout",
     "output_type": "stream",
     "text": [
      "20190412\n",
      "Series are different\n",
      "\n",
      "Series length are different\n",
      "[left]:  6715, RangeIndex(start=0, stop=6715, step=1)\n",
      "[right]: 6713, RangeIndex(start=0, stop=6713, step=1)\n"
     ]
    },
    {
     "name": "stderr",
     "output_type": "stream",
     "text": [
      " 29%|██▊       | 31/108 [00:17<00:46,  1.66it/s]"
     ]
    },
    {
     "name": "stdout",
     "output_type": "stream",
     "text": [
      "20190415\n",
      "Series are different\n",
      "\n",
      "Series length are different\n",
      "[left]:  7145, RangeIndex(start=0, stop=7145, step=1)\n",
      "[right]: 7141, RangeIndex(start=0, stop=7141, step=1)\n"
     ]
    },
    {
     "name": "stderr",
     "output_type": "stream",
     "text": [
      " 30%|██▉       | 32/108 [00:17<00:46,  1.62it/s]"
     ]
    },
    {
     "name": "stdout",
     "output_type": "stream",
     "text": [
      "20190416\n",
      "Series are different\n",
      "\n",
      "Series length are different\n",
      "[left]:  8914, RangeIndex(start=0, stop=8914, step=1)\n",
      "[right]: 8912, RangeIndex(start=0, stop=8912, step=1)\n"
     ]
    },
    {
     "name": "stderr",
     "output_type": "stream",
     "text": [
      " 31%|███       | 33/108 [00:18<00:50,  1.49it/s]"
     ]
    },
    {
     "name": "stdout",
     "output_type": "stream",
     "text": [
      "20190417\n",
      "Series are different\n",
      "\n",
      "Series length are different\n",
      "[left]:  7416, RangeIndex(start=0, stop=7416, step=1)\n",
      "[right]: 7413, RangeIndex(start=0, stop=7413, step=1)\n"
     ]
    },
    {
     "name": "stderr",
     "output_type": "stream",
     "text": [
      " 31%|███▏      | 34/108 [00:19<00:49,  1.49it/s]"
     ]
    },
    {
     "name": "stdout",
     "output_type": "stream",
     "text": [
      "20190418\n",
      "Series are different\n",
      "\n",
      "Series length are different\n",
      "[left]:  6840, RangeIndex(start=0, stop=6840, step=1)\n",
      "[right]: 6838, RangeIndex(start=0, stop=6838, step=1)\n"
     ]
    },
    {
     "name": "stderr",
     "output_type": "stream",
     "text": [
      " 32%|███▏      | 35/108 [00:20<00:47,  1.53it/s]"
     ]
    },
    {
     "name": "stdout",
     "output_type": "stream",
     "text": [
      "20190419\n",
      "Series are different\n",
      "\n",
      "Series length are different\n",
      "[left]:  7682, RangeIndex(start=0, stop=7682, step=1)\n",
      "[right]: 7681, RangeIndex(start=0, stop=7681, step=1)\n"
     ]
    },
    {
     "name": "stderr",
     "output_type": "stream",
     "text": [
      " 33%|███▎      | 36/108 [00:20<00:47,  1.50it/s]"
     ]
    },
    {
     "name": "stdout",
     "output_type": "stream",
     "text": [
      "20190420\n",
      "Series are different\n",
      "\n",
      "Series length are different\n",
      "[left]:  7590, RangeIndex(start=0, stop=7590, step=1)\n",
      "[right]: 7589, RangeIndex(start=0, stop=7589, step=1)\n"
     ]
    },
    {
     "name": "stderr",
     "output_type": "stream",
     "text": [
      " 34%|███▍      | 37/108 [00:21<00:47,  1.49it/s]"
     ]
    },
    {
     "name": "stdout",
     "output_type": "stream",
     "text": [
      "20190421\n",
      "Series are different\n",
      "\n",
      "Series length are different\n",
      "[left]:  8624, RangeIndex(start=0, stop=8624, step=1)\n",
      "[right]: 8623, RangeIndex(start=0, stop=8623, step=1)\n"
     ]
    },
    {
     "name": "stderr",
     "output_type": "stream",
     "text": [
      " 35%|███▌      | 38/108 [00:22<00:49,  1.43it/s]"
     ]
    },
    {
     "name": "stdout",
     "output_type": "stream",
     "text": [
      "20190422\n",
      "Series are different\n",
      "\n",
      "Series length are different\n",
      "[left]:  8706, RangeIndex(start=0, stop=8706, step=1)\n",
      "[right]: 8703, RangeIndex(start=0, stop=8703, step=1)\n"
     ]
    },
    {
     "name": "stderr",
     "output_type": "stream",
     "text": [
      " 36%|███▌      | 39/108 [00:22<00:50,  1.37it/s]"
     ]
    },
    {
     "name": "stdout",
     "output_type": "stream",
     "text": [
      "20190423\n",
      "Series are different\n",
      "\n",
      "Series length are different\n",
      "[left]:  8807, RangeIndex(start=0, stop=8807, step=1)\n",
      "[right]: 8803, RangeIndex(start=0, stop=8803, step=1)\n"
     ]
    },
    {
     "name": "stderr",
     "output_type": "stream",
     "text": [
      " 37%|███▋      | 40/108 [00:23<00:51,  1.33it/s]"
     ]
    },
    {
     "name": "stdout",
     "output_type": "stream",
     "text": [
      "20190424\n",
      "Series are different\n",
      "\n",
      "Series length are different\n",
      "[left]:  9246, RangeIndex(start=0, stop=9246, step=1)\n",
      "[right]: 9242, RangeIndex(start=0, stop=9242, step=1)\n"
     ]
    },
    {
     "name": "stderr",
     "output_type": "stream",
     "text": [
      " 38%|███▊      | 41/108 [00:24<00:51,  1.29it/s]"
     ]
    },
    {
     "name": "stdout",
     "output_type": "stream",
     "text": [
      "20190425\n",
      "Series are different\n",
      "\n",
      "Series length are different\n",
      "[left]:  9813, RangeIndex(start=0, stop=9813, step=1)\n",
      "[right]: 9811, RangeIndex(start=0, stop=9811, step=1)\n"
     ]
    },
    {
     "name": "stderr",
     "output_type": "stream",
     "text": [
      " 39%|███▉      | 42/108 [00:25<00:53,  1.24it/s]"
     ]
    },
    {
     "name": "stdout",
     "output_type": "stream",
     "text": [
      "20190426\n",
      "Series are different\n",
      "\n",
      "Series length are different\n",
      "[left]:  9097, RangeIndex(start=0, stop=9097, step=1)\n",
      "[right]: 9091, RangeIndex(start=0, stop=9091, step=1)\n"
     ]
    },
    {
     "name": "stderr",
     "output_type": "stream",
     "text": [
      " 40%|███▉      | 43/108 [00:26<00:52,  1.24it/s]"
     ]
    },
    {
     "name": "stdout",
     "output_type": "stream",
     "text": [
      "20190427\n",
      "Series are different\n",
      "\n",
      "Series length are different\n",
      "[left]:  8292, RangeIndex(start=0, stop=8292, step=1)\n",
      "[right]: 8290, RangeIndex(start=0, stop=8290, step=1)\n"
     ]
    },
    {
     "name": "stderr",
     "output_type": "stream",
     "text": [
      " 41%|████      | 44/108 [00:27<00:50,  1.27it/s]"
     ]
    },
    {
     "name": "stdout",
     "output_type": "stream",
     "text": [
      "20190428\n",
      "Series are different\n",
      "\n",
      "Series length are different\n",
      "[left]:  9084, RangeIndex(start=0, stop=9084, step=1)\n",
      "[right]: 9083, RangeIndex(start=0, stop=9083, step=1)\n"
     ]
    },
    {
     "name": "stderr",
     "output_type": "stream",
     "text": [
      " 42%|████▏     | 45/108 [00:27<00:50,  1.26it/s]"
     ]
    },
    {
     "name": "stdout",
     "output_type": "stream",
     "text": [
      "20190429\n",
      "Series are different\n",
      "\n",
      "Series length are different\n",
      "[left]:  9379, RangeIndex(start=0, stop=9379, step=1)\n",
      "[right]: 9374, RangeIndex(start=0, stop=9374, step=1)\n"
     ]
    },
    {
     "name": "stderr",
     "output_type": "stream",
     "text": [
      " 43%|████▎     | 46/108 [00:28<00:50,  1.24it/s]"
     ]
    },
    {
     "name": "stdout",
     "output_type": "stream",
     "text": [
      "20190430\n",
      "Series are different\n",
      "\n",
      "Series length are different\n",
      "[left]:  9586, RangeIndex(start=0, stop=9586, step=1)\n",
      "[right]: 9584, RangeIndex(start=0, stop=9584, step=1)\n"
     ]
    },
    {
     "name": "stderr",
     "output_type": "stream",
     "text": [
      " 44%|████▎     | 47/108 [00:29<00:50,  1.21it/s]"
     ]
    },
    {
     "name": "stdout",
     "output_type": "stream",
     "text": [
      "20190501\n",
      "Series are different\n",
      "\n",
      "Series length are different\n",
      "[left]:  8715, RangeIndex(start=0, stop=8715, step=1)\n",
      "[right]: 8710, RangeIndex(start=0, stop=8710, step=1)\n"
     ]
    },
    {
     "name": "stderr",
     "output_type": "stream",
     "text": [
      " 44%|████▍     | 48/108 [00:30<00:48,  1.23it/s]"
     ]
    },
    {
     "name": "stdout",
     "output_type": "stream",
     "text": [
      "20190502\n",
      "Series are different\n",
      "\n",
      "Series length are different\n",
      "[left]:  9372, RangeIndex(start=0, stop=9372, step=1)\n",
      "[right]: 9370, RangeIndex(start=0, stop=9370, step=1)\n"
     ]
    },
    {
     "name": "stderr",
     "output_type": "stream",
     "text": [
      " 45%|████▌     | 49/108 [00:31<00:48,  1.22it/s]"
     ]
    },
    {
     "name": "stdout",
     "output_type": "stream",
     "text": [
      "20190503\n",
      "Series are different\n",
      "\n",
      "Series length are different\n",
      "[left]:  8679, RangeIndex(start=0, stop=8679, step=1)\n",
      "[right]: 8677, RangeIndex(start=0, stop=8677, step=1)\n"
     ]
    },
    {
     "name": "stderr",
     "output_type": "stream",
     "text": [
      " 48%|████▊     | 52/108 [00:33<00:44,  1.26it/s]"
     ]
    },
    {
     "name": "stdout",
     "output_type": "stream",
     "text": [
      "20190506\n",
      "Series are different\n",
      "\n",
      "Series length are different\n",
      "[left]:  9125, RangeIndex(start=0, stop=9125, step=1)\n",
      "[right]: 9121, RangeIndex(start=0, stop=9121, step=1)\n"
     ]
    },
    {
     "name": "stderr",
     "output_type": "stream",
     "text": [
      " 49%|████▉     | 53/108 [00:34<00:44,  1.24it/s]"
     ]
    },
    {
     "name": "stdout",
     "output_type": "stream",
     "text": [
      "20190507\n",
      "Series are different\n",
      "\n",
      "Series length are different\n",
      "[left]:  9467, RangeIndex(start=0, stop=9467, step=1)\n",
      "[right]: 9464, RangeIndex(start=0, stop=9464, step=1)\n"
     ]
    },
    {
     "name": "stderr",
     "output_type": "stream",
     "text": [
      " 50%|█████     | 54/108 [00:35<00:44,  1.22it/s]"
     ]
    },
    {
     "name": "stdout",
     "output_type": "stream",
     "text": [
      "20190508\n",
      "Series are different\n",
      "\n",
      "Series length are different\n",
      "[left]:  8669, RangeIndex(start=0, stop=8669, step=1)\n",
      "[right]: 8664, RangeIndex(start=0, stop=8664, step=1)\n"
     ]
    },
    {
     "name": "stderr",
     "output_type": "stream",
     "text": [
      " 51%|█████     | 55/108 [00:36<00:42,  1.24it/s]"
     ]
    },
    {
     "name": "stdout",
     "output_type": "stream",
     "text": [
      "20190509\n",
      "Series are different\n",
      "\n",
      "Series length are different\n",
      "[left]:  8490, RangeIndex(start=0, stop=8490, step=1)\n",
      "[right]: 8489, RangeIndex(start=0, stop=8489, step=1)\n"
     ]
    },
    {
     "name": "stderr",
     "output_type": "stream",
     "text": [
      " 52%|█████▏    | 56/108 [00:36<00:41,  1.25it/s]"
     ]
    },
    {
     "name": "stdout",
     "output_type": "stream",
     "text": [
      "20190510\n",
      "Series are different\n",
      "\n",
      "Series length are different\n",
      "[left]:  8286, RangeIndex(start=0, stop=8286, step=1)\n",
      "[right]: 8280, RangeIndex(start=0, stop=8280, step=1)\n"
     ]
    },
    {
     "name": "stderr",
     "output_type": "stream",
     "text": [
      " 54%|█████▎    | 58/108 [00:38<00:37,  1.32it/s]"
     ]
    },
    {
     "name": "stdout",
     "output_type": "stream",
     "text": [
      "20190512\n",
      "Series are different\n",
      "\n",
      "Series length are different\n",
      "[left]:  8105, RangeIndex(start=0, stop=8105, step=1)\n",
      "[right]: 8102, RangeIndex(start=0, stop=8102, step=1)\n"
     ]
    },
    {
     "name": "stderr",
     "output_type": "stream",
     "text": [
      " 55%|█████▍    | 59/108 [00:38<00:36,  1.34it/s]"
     ]
    },
    {
     "name": "stdout",
     "output_type": "stream",
     "text": [
      "20190513\n",
      "Series are different\n",
      "\n",
      "Series length are different\n",
      "[left]:  8433, RangeIndex(start=0, stop=8433, step=1)\n",
      "[right]: 8429, RangeIndex(start=0, stop=8429, step=1)\n"
     ]
    },
    {
     "name": "stderr",
     "output_type": "stream",
     "text": [
      " 56%|█████▌    | 60/108 [00:39<00:36,  1.33it/s]"
     ]
    },
    {
     "name": "stdout",
     "output_type": "stream",
     "text": [
      "20190514\n",
      "Series are different\n",
      "\n",
      "Series length are different\n",
      "[left]:  9435, RangeIndex(start=0, stop=9435, step=1)\n",
      "[right]: 9432, RangeIndex(start=0, stop=9432, step=1)\n"
     ]
    },
    {
     "name": "stderr",
     "output_type": "stream",
     "text": [
      " 56%|█████▋    | 61/108 [00:40<00:36,  1.28it/s]"
     ]
    },
    {
     "name": "stdout",
     "output_type": "stream",
     "text": [
      "20190515\n",
      "Series are different\n",
      "\n",
      "Series length are different\n",
      "[left]:  7896, RangeIndex(start=0, stop=7896, step=1)\n",
      "[right]: 7893, RangeIndex(start=0, stop=7893, step=1)\n"
     ]
    },
    {
     "name": "stderr",
     "output_type": "stream",
     "text": [
      " 57%|█████▋    | 62/108 [00:41<00:35,  1.31it/s]"
     ]
    },
    {
     "name": "stdout",
     "output_type": "stream",
     "text": [
      "20190516\n",
      "Series are different\n",
      "\n",
      "Series length are different\n",
      "[left]:  7595, RangeIndex(start=0, stop=7595, step=1)\n",
      "[right]: 7594, RangeIndex(start=0, stop=7594, step=1)\n"
     ]
    },
    {
     "name": "stderr",
     "output_type": "stream",
     "text": [
      " 58%|█████▊    | 63/108 [00:41<00:33,  1.35it/s]"
     ]
    },
    {
     "name": "stdout",
     "output_type": "stream",
     "text": [
      "20190517\n",
      "Series are different\n",
      "\n",
      "Series length are different\n",
      "[left]:  7220, RangeIndex(start=0, stop=7220, step=1)\n",
      "[right]: 7215, RangeIndex(start=0, stop=7215, step=1)\n"
     ]
    },
    {
     "name": "stderr",
     "output_type": "stream",
     "text": [
      " 59%|█████▉    | 64/108 [00:42<00:31,  1.40it/s]"
     ]
    },
    {
     "name": "stdout",
     "output_type": "stream",
     "text": [
      "20190518\n",
      "Series are different\n",
      "\n",
      "Series length are different\n",
      "[left]:  6707, RangeIndex(start=0, stop=6707, step=1)\n",
      "[right]: 6702, RangeIndex(start=0, stop=6702, step=1)\n"
     ]
    },
    {
     "name": "stderr",
     "output_type": "stream",
     "text": [
      " 60%|██████    | 65/108 [00:43<00:29,  1.45it/s]"
     ]
    },
    {
     "name": "stdout",
     "output_type": "stream",
     "text": [
      "20190519\n",
      "Series are different\n",
      "\n",
      "Series length are different\n",
      "[left]:  7930, RangeIndex(start=0, stop=7930, step=1)\n",
      "[right]: 7928, RangeIndex(start=0, stop=7928, step=1)\n"
     ]
    },
    {
     "name": "stderr",
     "output_type": "stream",
     "text": [
      " 61%|██████    | 66/108 [00:43<00:29,  1.42it/s]"
     ]
    },
    {
     "name": "stdout",
     "output_type": "stream",
     "text": [
      "20190520\n",
      "Series are different\n",
      "\n",
      "Series length are different\n",
      "[left]:  8623, RangeIndex(start=0, stop=8623, step=1)\n",
      "[right]: 8618, RangeIndex(start=0, stop=8618, step=1)\n"
     ]
    },
    {
     "name": "stderr",
     "output_type": "stream",
     "text": [
      " 62%|██████▏   | 67/108 [00:44<00:29,  1.38it/s]"
     ]
    },
    {
     "name": "stdout",
     "output_type": "stream",
     "text": [
      "20190521\n",
      "Series are different\n",
      "\n",
      "Series length are different\n",
      "[left]:  7977, RangeIndex(start=0, stop=7977, step=1)\n",
      "[right]: 7973, RangeIndex(start=0, stop=7973, step=1)\n"
     ]
    },
    {
     "name": "stderr",
     "output_type": "stream",
     "text": [
      " 63%|██████▎   | 68/108 [00:45<00:29,  1.38it/s]"
     ]
    },
    {
     "name": "stdout",
     "output_type": "stream",
     "text": [
      "20190522\n",
      "Series are different\n",
      "\n",
      "Series length are different\n",
      "[left]:  7917, RangeIndex(start=0, stop=7917, step=1)\n",
      "[right]: 7910, RangeIndex(start=0, stop=7910, step=1)\n"
     ]
    },
    {
     "name": "stderr",
     "output_type": "stream",
     "text": [
      " 64%|██████▍   | 69/108 [00:46<00:28,  1.37it/s]"
     ]
    },
    {
     "name": "stdout",
     "output_type": "stream",
     "text": [
      "20190523\n",
      "Series are different\n",
      "\n",
      "Series length are different\n",
      "[left]:  7823, RangeIndex(start=0, stop=7823, step=1)\n",
      "[right]: 7819, RangeIndex(start=0, stop=7819, step=1)\n"
     ]
    },
    {
     "name": "stderr",
     "output_type": "stream",
     "text": [
      " 65%|██████▍   | 70/108 [00:46<00:27,  1.38it/s]"
     ]
    },
    {
     "name": "stdout",
     "output_type": "stream",
     "text": [
      "20190524\n",
      "Series are different\n",
      "\n",
      "Series length are different\n",
      "[left]:  6964, RangeIndex(start=0, stop=6964, step=1)\n",
      "[right]: 6961, RangeIndex(start=0, stop=6961, step=1)\n"
     ]
    },
    {
     "name": "stderr",
     "output_type": "stream",
     "text": [
      " 66%|██████▌   | 71/108 [00:47<00:25,  1.43it/s]"
     ]
    },
    {
     "name": "stdout",
     "output_type": "stream",
     "text": [
      "20190525\n",
      "Series are different\n",
      "\n",
      "Series length are different\n",
      "[left]:  6507, RangeIndex(start=0, stop=6507, step=1)\n",
      "[right]: 6506, RangeIndex(start=0, stop=6506, step=1)\n"
     ]
    },
    {
     "name": "stderr",
     "output_type": "stream",
     "text": [
      " 67%|██████▋   | 72/108 [00:48<00:23,  1.50it/s]"
     ]
    },
    {
     "name": "stdout",
     "output_type": "stream",
     "text": [
      "20190526\n",
      "Series are different\n",
      "\n",
      "Series length are different\n",
      "[left]:  7000, RangeIndex(start=0, stop=7000, step=1)\n",
      "[right]: 6996, RangeIndex(start=0, stop=6996, step=1)\n"
     ]
    },
    {
     "name": "stderr",
     "output_type": "stream",
     "text": [
      " 68%|██████▊   | 73/108 [00:48<00:22,  1.53it/s]"
     ]
    },
    {
     "name": "stdout",
     "output_type": "stream",
     "text": [
      "20190527\n",
      "Series are different\n",
      "\n",
      "Series length are different\n",
      "[left]:  7702, RangeIndex(start=0, stop=7702, step=1)\n",
      "[right]: 7698, RangeIndex(start=0, stop=7698, step=1)\n"
     ]
    },
    {
     "name": "stderr",
     "output_type": "stream",
     "text": [
      " 69%|██████▊   | 74/108 [00:49<00:22,  1.50it/s]"
     ]
    },
    {
     "name": "stdout",
     "output_type": "stream",
     "text": [
      "20190528\n",
      "Series are different\n",
      "\n",
      "Series length are different\n",
      "[left]:  8567, RangeIndex(start=0, stop=8567, step=1)\n",
      "[right]: 8564, RangeIndex(start=0, stop=8564, step=1)\n"
     ]
    },
    {
     "name": "stderr",
     "output_type": "stream",
     "text": [
      " 69%|██████▉   | 75/108 [00:50<00:23,  1.43it/s]"
     ]
    },
    {
     "name": "stdout",
     "output_type": "stream",
     "text": [
      "20190529\n",
      "Series are different\n",
      "\n",
      "Series length are different\n",
      "[left]:  7578, RangeIndex(start=0, stop=7578, step=1)\n",
      "[right]: 7576, RangeIndex(start=0, stop=7576, step=1)\n"
     ]
    },
    {
     "name": "stderr",
     "output_type": "stream",
     "text": [
      " 70%|███████   | 76/108 [00:50<00:22,  1.44it/s]"
     ]
    },
    {
     "name": "stdout",
     "output_type": "stream",
     "text": [
      "20190530\n",
      "Series are different\n",
      "\n",
      "Series length are different\n",
      "[left]:  7031, RangeIndex(start=0, stop=7031, step=1)\n",
      "[right]: 7024, RangeIndex(start=0, stop=7024, step=1)\n"
     ]
    },
    {
     "name": "stderr",
     "output_type": "stream",
     "text": [
      " 71%|███████▏  | 77/108 [00:51<00:20,  1.48it/s]"
     ]
    },
    {
     "name": "stdout",
     "output_type": "stream",
     "text": [
      "20190531\n",
      "Series are different\n",
      "\n",
      "Series length are different\n",
      "[left]:  7008, RangeIndex(start=0, stop=7008, step=1)\n",
      "[right]: 7007, RangeIndex(start=0, stop=7007, step=1)\n"
     ]
    },
    {
     "name": "stderr",
     "output_type": "stream",
     "text": [
      " 72%|███████▏  | 78/108 [00:52<00:19,  1.51it/s]"
     ]
    },
    {
     "name": "stdout",
     "output_type": "stream",
     "text": [
      "20190601\n",
      "Series are different\n",
      "\n",
      "Series length are different\n",
      "[left]:  5977, RangeIndex(start=0, stop=5977, step=1)\n",
      "[right]: 5976, RangeIndex(start=0, stop=5976, step=1)\n"
     ]
    },
    {
     "name": "stderr",
     "output_type": "stream",
     "text": [
      " 76%|███████▌  | 82/108 [00:54<00:17,  1.51it/s]"
     ]
    },
    {
     "name": "stdout",
     "output_type": "stream",
     "text": [
      "20190605\n",
      "Series are different\n",
      "\n",
      "Series length are different\n",
      "[left]:  6177, RangeIndex(start=0, stop=6177, step=1)\n",
      "[right]: 6176, RangeIndex(start=0, stop=6176, step=1)\n"
     ]
    },
    {
     "name": "stderr",
     "output_type": "stream",
     "text": [
      " 77%|███████▋  | 83/108 [00:55<00:15,  1.58it/s]"
     ]
    },
    {
     "name": "stdout",
     "output_type": "stream",
     "text": [
      "20190606\n",
      "Series are different\n",
      "\n",
      "Series length are different\n",
      "[left]:  5672, RangeIndex(start=0, stop=5672, step=1)\n",
      "[right]: 5671, RangeIndex(start=0, stop=5671, step=1)\n"
     ]
    },
    {
     "name": "stderr",
     "output_type": "stream",
     "text": [
      " 78%|███████▊  | 84/108 [00:55<00:14,  1.68it/s]"
     ]
    },
    {
     "name": "stdout",
     "output_type": "stream",
     "text": [
      "20190607\n",
      "Series are different\n",
      "\n",
      "Series length are different\n",
      "[left]:  6360, RangeIndex(start=0, stop=6360, step=1)\n",
      "[right]: 6358, RangeIndex(start=0, stop=6358, step=1)\n"
     ]
    },
    {
     "name": "stderr",
     "output_type": "stream",
     "text": [
      " 80%|███████▉  | 86/108 [00:57<00:13,  1.68it/s]"
     ]
    },
    {
     "name": "stdout",
     "output_type": "stream",
     "text": [
      "20190609\n",
      "Series are different\n",
      "\n",
      "Series length are different\n",
      "[left]:  7050, RangeIndex(start=0, stop=7050, step=1)\n",
      "[right]: 7049, RangeIndex(start=0, stop=7049, step=1)\n"
     ]
    },
    {
     "name": "stderr",
     "output_type": "stream",
     "text": [
      " 81%|████████  | 87/108 [00:57<00:12,  1.65it/s]"
     ]
    },
    {
     "name": "stdout",
     "output_type": "stream",
     "text": [
      "20190610\n",
      "Series are different\n",
      "\n",
      "Series length are different\n",
      "[left]:  7153, RangeIndex(start=0, stop=7153, step=1)\n",
      "[right]: 7152, RangeIndex(start=0, stop=7152, step=1)\n"
     ]
    },
    {
     "name": "stderr",
     "output_type": "stream",
     "text": [
      " 81%|████████▏ | 88/108 [00:58<00:12,  1.61it/s]"
     ]
    },
    {
     "name": "stdout",
     "output_type": "stream",
     "text": [
      "20190611\n",
      "Series are different\n",
      "\n",
      "Series length are different\n",
      "[left]:  6908, RangeIndex(start=0, stop=6908, step=1)\n",
      "[right]: 6907, RangeIndex(start=0, stop=6907, step=1)\n"
     ]
    },
    {
     "name": "stderr",
     "output_type": "stream",
     "text": [
      " 82%|████████▏ | 89/108 [00:58<00:11,  1.62it/s]"
     ]
    },
    {
     "name": "stdout",
     "output_type": "stream",
     "text": [
      "20190612\n",
      "Series are different\n",
      "\n",
      "Series length are different\n",
      "[left]:  5752, RangeIndex(start=0, stop=5752, step=1)\n",
      "[right]: 5750, RangeIndex(start=0, stop=5750, step=1)\n"
     ]
    },
    {
     "name": "stderr",
     "output_type": "stream",
     "text": [
      " 83%|████████▎ | 90/108 [00:59<00:10,  1.69it/s]"
     ]
    },
    {
     "name": "stdout",
     "output_type": "stream",
     "text": [
      "20190613\n",
      "Series are different\n",
      "\n",
      "Series length are different\n",
      "[left]:  5605, RangeIndex(start=0, stop=5605, step=1)\n",
      "[right]: 5604, RangeIndex(start=0, stop=5604, step=1)\n"
     ]
    },
    {
     "name": "stderr",
     "output_type": "stream",
     "text": [
      " 84%|████████▍ | 91/108 [00:59<00:09,  1.77it/s]"
     ]
    },
    {
     "name": "stdout",
     "output_type": "stream",
     "text": [
      "20190614\n",
      "Series are different\n",
      "\n",
      "Series length are different\n",
      "[left]:  6187, RangeIndex(start=0, stop=6187, step=1)\n",
      "[right]: 6186, RangeIndex(start=0, stop=6186, step=1)\n"
     ]
    },
    {
     "name": "stderr",
     "output_type": "stream",
     "text": [
      " 86%|████████▌ | 93/108 [01:01<00:08,  1.83it/s]"
     ]
    },
    {
     "name": "stdout",
     "output_type": "stream",
     "text": [
      "20190616\n",
      "Series are different\n",
      "\n",
      "Series length are different\n",
      "[left]:  6329, RangeIndex(start=0, stop=6329, step=1)\n",
      "[right]: 6328, RangeIndex(start=0, stop=6328, step=1)\n"
     ]
    },
    {
     "name": "stderr",
     "output_type": "stream",
     "text": [
      " 89%|████████▉ | 96/108 [01:02<00:06,  1.78it/s]"
     ]
    },
    {
     "name": "stdout",
     "output_type": "stream",
     "text": [
      "20190619\n",
      "Series are different\n",
      "\n",
      "Series length are different\n",
      "[left]:  5945, RangeIndex(start=0, stop=5945, step=1)\n",
      "[right]: 5944, RangeIndex(start=0, stop=5944, step=1)\n"
     ]
    },
    {
     "name": "stderr",
     "output_type": "stream",
     "text": [
      " 90%|████████▉ | 97/108 [01:03<00:06,  1.80it/s]"
     ]
    },
    {
     "name": "stdout",
     "output_type": "stream",
     "text": [
      "20190620\n",
      "Series are different\n",
      "\n",
      "Series length are different\n",
      "[left]:  6310, RangeIndex(start=0, stop=6310, step=1)\n",
      "[right]: 6309, RangeIndex(start=0, stop=6309, step=1)\n"
     ]
    },
    {
     "name": "stderr",
     "output_type": "stream",
     "text": [
      " 91%|█████████ | 98/108 [01:03<00:05,  1.78it/s]"
     ]
    },
    {
     "name": "stdout",
     "output_type": "stream",
     "text": [
      "20190621\n",
      "Series are different\n",
      "\n",
      "Series length are different\n",
      "[left]:  5481, RangeIndex(start=0, stop=5481, step=1)\n",
      "[right]: 5478, RangeIndex(start=0, stop=5478, step=1)\n"
     ]
    },
    {
     "name": "stderr",
     "output_type": "stream",
     "text": [
      " 92%|█████████▏| 99/108 [01:04<00:04,  1.85it/s]"
     ]
    },
    {
     "name": "stdout",
     "output_type": "stream",
     "text": [
      "20190622\n",
      "Series are different\n",
      "\n",
      "Series length are different\n",
      "[left]:  5573, RangeIndex(start=0, stop=5573, step=1)\n",
      "[right]: 5570, RangeIndex(start=0, stop=5570, step=1)\n"
     ]
    },
    {
     "name": "stderr",
     "output_type": "stream",
     "text": [
      " 93%|█████████▎| 100/108 [01:04<00:04,  1.88it/s]"
     ]
    },
    {
     "name": "stdout",
     "output_type": "stream",
     "text": [
      "20190623\n",
      "Series are different\n",
      "\n",
      "Series length are different\n",
      "[left]:  6176, RangeIndex(start=0, stop=6176, step=1)\n",
      "[right]: 6175, RangeIndex(start=0, stop=6175, step=1)\n"
     ]
    },
    {
     "name": "stderr",
     "output_type": "stream",
     "text": [
      " 94%|█████████▎| 101/108 [01:05<00:03,  1.85it/s]"
     ]
    },
    {
     "name": "stdout",
     "output_type": "stream",
     "text": [
      "20190624\n",
      "Series are different\n",
      "\n",
      "Series length are different\n",
      "[left]:  6337, RangeIndex(start=0, stop=6337, step=1)\n",
      "[right]: 6335, RangeIndex(start=0, stop=6335, step=1)\n"
     ]
    },
    {
     "name": "stderr",
     "output_type": "stream",
     "text": [
      " 94%|█████████▍| 102/108 [01:06<00:03,  1.83it/s]"
     ]
    },
    {
     "name": "stdout",
     "output_type": "stream",
     "text": [
      "20190625\n",
      "Series are different\n",
      "\n",
      "Series length are different\n",
      "[left]:  6094, RangeIndex(start=0, stop=6094, step=1)\n",
      "[right]: 6093, RangeIndex(start=0, stop=6093, step=1)\n"
     ]
    },
    {
     "name": "stderr",
     "output_type": "stream",
     "text": [
      " 95%|█████████▌| 103/108 [01:06<00:02,  1.83it/s]"
     ]
    },
    {
     "name": "stdout",
     "output_type": "stream",
     "text": [
      "20190626\n",
      "Series are different\n",
      "\n",
      "Series length are different\n",
      "[left]:  5534, RangeIndex(start=0, stop=5534, step=1)\n",
      "[right]: 5532, RangeIndex(start=0, stop=5532, step=1)\n"
     ]
    },
    {
     "name": "stderr",
     "output_type": "stream",
     "text": [
      " 96%|█████████▋| 104/108 [01:07<00:02,  1.87it/s]"
     ]
    },
    {
     "name": "stdout",
     "output_type": "stream",
     "text": [
      "20190627\n",
      "Series are different\n",
      "\n",
      "Series length are different\n",
      "[left]:  5060, RangeIndex(start=0, stop=5060, step=1)\n",
      "[right]: 5059, RangeIndex(start=0, stop=5059, step=1)\n"
     ]
    },
    {
     "name": "stderr",
     "output_type": "stream",
     "text": [
      " 98%|█████████▊| 106/108 [01:07<00:00,  2.02it/s]"
     ]
    },
    {
     "name": "stdout",
     "output_type": "stream",
     "text": [
      "20190629\n",
      "Series are different\n",
      "\n",
      "Series length are different\n",
      "[left]:  4769, RangeIndex(start=0, stop=4769, step=1)\n",
      "[right]: 4768, RangeIndex(start=0, stop=4768, step=1)\n"
     ]
    },
    {
     "name": "stderr",
     "output_type": "stream",
     "text": [
      " 99%|█████████▉| 107/108 [01:08<00:00,  2.10it/s]"
     ]
    },
    {
     "name": "stdout",
     "output_type": "stream",
     "text": [
      "20190630\n",
      "Series are different\n",
      "\n",
      "Series length are different\n",
      "[left]:  5251, RangeIndex(start=0, stop=5251, step=1)\n",
      "[right]: 5250, RangeIndex(start=0, stop=5250, step=1)\n"
     ]
    },
    {
     "name": "stderr",
     "output_type": "stream",
     "text": [
      "100%|██████████| 108/108 [01:08<00:00,  1.57it/s]\n"
     ]
    }
   ],
   "source": [
    "lt_df = []\n",
    "for date in tqdm(csv_list):\n",
    "    df = pd.read_csv('./dien_dart/' + 'change_dien_rank_' + date + '.csv').drop('Unnamed: 0', axis=1)    \n",
    "    df.rename(columns = {'dien_rank':'DIEN_rank'}, inplace=True)\n",
    "    df.sort_values(by=['uid'], inplace=True, ignore_index=True)\n",
    "        \n",
    "    dff = pd.read_csv('./din_dart/' + 'index_to_name_test_' + date + '_result' + '.csv')\n",
    "    dff.rename(columns = {'din_rank':'DIN_rank'}, inplace=True)\n",
    "    dff.sort_values(by=['uid'], inplace=True, ignore_index=True)\n",
    "    dff.drop(columns=['hist_iid', 'last_iid', 'target_iid'], inplace=True)\n",
    "    try:\n",
    "        pd.testing.assert_series_equal(df['uid'], dff['uid'])\n",
    "        df['DIN_rank'] = dff['DIN_rank']\n",
    "    except Exception as e:\n",
    "        print(date)\n",
    "        print(e)\n",
    "        df = pd.merge(df, dff, on=['uid'], how='left')\n",
    "        df.fillna(dff['DIN_rank'].mean(), inplace=True)\n",
    "\n",
    "    df.rename(columns = {'last_iid':'target_iid', 'target_iid':'next_iid'}, inplace=True)\n",
    "    df['NN_rank'] = df.apply(NN_ranking, axis=1)\n",
    "    df['knn_rank'] = df.apply(knn_ranking, axis=1)\n",
    "    \n",
    "    lt_df.append(df)"
   ]
  },
  {
   "cell_type": "code",
   "execution_count": 22,
   "metadata": {},
   "outputs": [],
   "source": [
    "with open('./lt_df_dart_108days.pkl', 'wb') as file:\n",
    "    pickle.dump(lt_df, file)"
   ]
  },
  {
   "cell_type": "code",
   "execution_count": 23,
   "metadata": {},
   "outputs": [
    {
     "data": {
      "text/html": [
       "<div>\n",
       "<style scoped>\n",
       "    .dataframe tbody tr th:only-of-type {\n",
       "        vertical-align: middle;\n",
       "    }\n",
       "\n",
       "    .dataframe tbody tr th {\n",
       "        vertical-align: top;\n",
       "    }\n",
       "\n",
       "    .dataframe thead th {\n",
       "        text-align: right;\n",
       "    }\n",
       "</style>\n",
       "<table border=\"1\" class=\"dataframe\">\n",
       "  <thead>\n",
       "    <tr style=\"text-align: right;\">\n",
       "      <th></th>\n",
       "      <th>uid</th>\n",
       "      <th>hist_iid</th>\n",
       "      <th>target_iid</th>\n",
       "      <th>next_iid</th>\n",
       "      <th>DIEN_rank</th>\n",
       "      <th>DIN_rank</th>\n",
       "      <th>NN_rank</th>\n",
       "      <th>knn_rank</th>\n",
       "    </tr>\n",
       "  </thead>\n",
       "  <tbody>\n",
       "    <tr>\n",
       "      <th>0</th>\n",
       "      <td>00071285-58af-4f79-bdcb-fe6be966464c</td>\n",
       "      <td>e33e0592b86611e99f6eacde48001122</td>\n",
       "      <td>e33e0592b86611e99f6eacde48001122</td>\n",
       "      <td>e32b67f4b86611e9bc33acde48001122</td>\n",
       "      <td>35</td>\n",
       "      <td>81.0</td>\n",
       "      <td>4</td>\n",
       "      <td>16</td>\n",
       "    </tr>\n",
       "    <tr>\n",
       "      <th>1</th>\n",
       "      <td>0016e69b-50e1-4aa7-90aa-9aec76b554ab</td>\n",
       "      <td>a8853924b86711e9aebcacde48001122/ba76834ab8671...</td>\n",
       "      <td>ba7a8f6cb86711e98024acde48001122</td>\n",
       "      <td>ba76d4b4b86711e98d41acde48001122</td>\n",
       "      <td>84</td>\n",
       "      <td>47.0</td>\n",
       "      <td>21</td>\n",
       "      <td>59</td>\n",
       "    </tr>\n",
       "    <tr>\n",
       "      <th>2</th>\n",
       "      <td>0021575a-bdc2-43bf-b6ef-e5414a1ec2d1</td>\n",
       "      <td>e328d2eeb86611e9a1deacde48001122</td>\n",
       "      <td>e328d2eeb86611e9a1deacde48001122</td>\n",
       "      <td>06f0a648b86711e9b66eacde48001122</td>\n",
       "      <td>5</td>\n",
       "      <td>42.0</td>\n",
       "      <td>8</td>\n",
       "      <td>5</td>\n",
       "    </tr>\n",
       "    <tr>\n",
       "      <th>3</th>\n",
       "      <td>0022550c-5c81-480d-b196-c3a370ce2cf6</td>\n",
       "      <td>00b66582b86811e98929acde48001122/06f35c26b8671...</td>\n",
       "      <td>00b66582b86811e98929acde48001122</td>\n",
       "      <td>06f35c26b86711e99f45acde48001122</td>\n",
       "      <td>85</td>\n",
       "      <td>16.0</td>\n",
       "      <td>5</td>\n",
       "      <td>1</td>\n",
       "    </tr>\n",
       "    <tr>\n",
       "      <th>4</th>\n",
       "      <td>0023d516-3dd0-4fc6-b10b-514152f6701c</td>\n",
       "      <td>e3252218b86611e99d55acde48001122/47183268b8671...</td>\n",
       "      <td>47183268b86711e9acd6acde48001122</td>\n",
       "      <td>471831fab86711e98ae4acde48001122</td>\n",
       "      <td>12</td>\n",
       "      <td>75.0</td>\n",
       "      <td>2</td>\n",
       "      <td>3</td>\n",
       "    </tr>\n",
       "    <tr>\n",
       "      <th>...</th>\n",
       "      <td>...</td>\n",
       "      <td>...</td>\n",
       "      <td>...</td>\n",
       "      <td>...</td>\n",
       "      <td>...</td>\n",
       "      <td>...</td>\n",
       "      <td>...</td>\n",
       "      <td>...</td>\n",
       "    </tr>\n",
       "    <tr>\n",
       "      <th>6552</th>\n",
       "      <td>ffbc79ac-65d9-4ef7-bc8f-a867edbfbc66</td>\n",
       "      <td>e34fe668b86611e99ad7acde48001122/e335ae10b8661...</td>\n",
       "      <td>e335ae10b86611e99ad4acde48001122</td>\n",
       "      <td>06f5211eb86711e98be4acde48001122</td>\n",
       "      <td>44</td>\n",
       "      <td>16.0</td>\n",
       "      <td>60</td>\n",
       "      <td>15</td>\n",
       "    </tr>\n",
       "    <tr>\n",
       "      <th>6553</th>\n",
       "      <td>ffc63cdf-6cd4-4c0b-bc7b-77ba79d1c3f1</td>\n",
       "      <td>7e6f5be2b86711e98b6facde48001122/7e98ebd8b8671...</td>\n",
       "      <td>072045a6b86711e99d06acde48001122</td>\n",
       "      <td>46d06168b86711e9bf47acde48001122</td>\n",
       "      <td>52</td>\n",
       "      <td>13.0</td>\n",
       "      <td>9</td>\n",
       "      <td>42</td>\n",
       "    </tr>\n",
       "    <tr>\n",
       "      <th>6554</th>\n",
       "      <td>ffde1bcb-3cf6-4f35-a66e-74889c5256d2</td>\n",
       "      <td>e378641cb86611e98abbacde48001122</td>\n",
       "      <td>e378641cb86611e98abbacde48001122</td>\n",
       "      <td>e379daaeb86611e9b229acde48001122</td>\n",
       "      <td>62</td>\n",
       "      <td>63.0</td>\n",
       "      <td>5</td>\n",
       "      <td>3</td>\n",
       "    </tr>\n",
       "    <tr>\n",
       "      <th>6555</th>\n",
       "      <td>ffeeed4a-45a7-4825-8dc8-d8f60a8e0067</td>\n",
       "      <td>5bce79b0b86711e9bd50acde48001122/5bbf8cb6b8671...</td>\n",
       "      <td>5bce0a8cb86711e9a52cacde48001122</td>\n",
       "      <td>06e11214b86711e9a47facde48001122</td>\n",
       "      <td>5</td>\n",
       "      <td>15.0</td>\n",
       "      <td>22</td>\n",
       "      <td>4</td>\n",
       "    </tr>\n",
       "    <tr>\n",
       "      <th>6556</th>\n",
       "      <td>fff66e4e-5ca0-4e75-a935-2659e078a514</td>\n",
       "      <td>f591069ab86611e9bdeaacde48001122/f5dd3068b8661...</td>\n",
       "      <td>2f023228b86711e9a97aacde48001122</td>\n",
       "      <td>e3289146b86611e9b095acde48001122</td>\n",
       "      <td>67</td>\n",
       "      <td>30.0</td>\n",
       "      <td>1</td>\n",
       "      <td>5</td>\n",
       "    </tr>\n",
       "  </tbody>\n",
       "</table>\n",
       "<p>6557 rows × 8 columns</p>\n",
       "</div>"
      ],
      "text/plain": [
       "                                       uid  \\\n",
       "0     00071285-58af-4f79-bdcb-fe6be966464c   \n",
       "1     0016e69b-50e1-4aa7-90aa-9aec76b554ab   \n",
       "2     0021575a-bdc2-43bf-b6ef-e5414a1ec2d1   \n",
       "3     0022550c-5c81-480d-b196-c3a370ce2cf6   \n",
       "4     0023d516-3dd0-4fc6-b10b-514152f6701c   \n",
       "...                                    ...   \n",
       "6552  ffbc79ac-65d9-4ef7-bc8f-a867edbfbc66   \n",
       "6553  ffc63cdf-6cd4-4c0b-bc7b-77ba79d1c3f1   \n",
       "6554  ffde1bcb-3cf6-4f35-a66e-74889c5256d2   \n",
       "6555  ffeeed4a-45a7-4825-8dc8-d8f60a8e0067   \n",
       "6556  fff66e4e-5ca0-4e75-a935-2659e078a514   \n",
       "\n",
       "                                               hist_iid  \\\n",
       "0                      e33e0592b86611e99f6eacde48001122   \n",
       "1     a8853924b86711e9aebcacde48001122/ba76834ab8671...   \n",
       "2                      e328d2eeb86611e9a1deacde48001122   \n",
       "3     00b66582b86811e98929acde48001122/06f35c26b8671...   \n",
       "4     e3252218b86611e99d55acde48001122/47183268b8671...   \n",
       "...                                                 ...   \n",
       "6552  e34fe668b86611e99ad7acde48001122/e335ae10b8661...   \n",
       "6553  7e6f5be2b86711e98b6facde48001122/7e98ebd8b8671...   \n",
       "6554                   e378641cb86611e98abbacde48001122   \n",
       "6555  5bce79b0b86711e9bd50acde48001122/5bbf8cb6b8671...   \n",
       "6556  f591069ab86611e9bdeaacde48001122/f5dd3068b8661...   \n",
       "\n",
       "                            target_iid                          next_iid  \\\n",
       "0     e33e0592b86611e99f6eacde48001122  e32b67f4b86611e9bc33acde48001122   \n",
       "1     ba7a8f6cb86711e98024acde48001122  ba76d4b4b86711e98d41acde48001122   \n",
       "2     e328d2eeb86611e9a1deacde48001122  06f0a648b86711e9b66eacde48001122   \n",
       "3     00b66582b86811e98929acde48001122  06f35c26b86711e99f45acde48001122   \n",
       "4     47183268b86711e9acd6acde48001122  471831fab86711e98ae4acde48001122   \n",
       "...                                ...                               ...   \n",
       "6552  e335ae10b86611e99ad4acde48001122  06f5211eb86711e98be4acde48001122   \n",
       "6553  072045a6b86711e99d06acde48001122  46d06168b86711e9bf47acde48001122   \n",
       "6554  e378641cb86611e98abbacde48001122  e379daaeb86611e9b229acde48001122   \n",
       "6555  5bce0a8cb86711e9a52cacde48001122  06e11214b86711e9a47facde48001122   \n",
       "6556  2f023228b86711e9a97aacde48001122  e3289146b86611e9b095acde48001122   \n",
       "\n",
       "      DIEN_rank  DIN_rank  NN_rank  knn_rank  \n",
       "0            35      81.0        4        16  \n",
       "1            84      47.0       21        59  \n",
       "2             5      42.0        8         5  \n",
       "3            85      16.0        5         1  \n",
       "4            12      75.0        2         3  \n",
       "...         ...       ...      ...       ...  \n",
       "6552         44      16.0       60        15  \n",
       "6553         52      13.0        9        42  \n",
       "6554         62      63.0        5         3  \n",
       "6555          5      15.0       22         4  \n",
       "6556         67      30.0        1         5  \n",
       "\n",
       "[6557 rows x 8 columns]"
      ]
     },
     "execution_count": 23,
     "metadata": {},
     "output_type": "execute_result"
    }
   ],
   "source": [
    "lt_df[0]"
   ]
  },
  {
   "cell_type": "code",
   "execution_count": 25,
   "metadata": {},
   "outputs": [
    {
     "data": {
      "text/html": [
       "<div>\n",
       "<style scoped>\n",
       "    .dataframe tbody tr th:only-of-type {\n",
       "        vertical-align: middle;\n",
       "    }\n",
       "\n",
       "    .dataframe tbody tr th {\n",
       "        vertical-align: top;\n",
       "    }\n",
       "\n",
       "    .dataframe thead th {\n",
       "        text-align: right;\n",
       "    }\n",
       "</style>\n",
       "<table border=\"1\" class=\"dataframe\">\n",
       "  <thead>\n",
       "    <tr style=\"text-align: right;\">\n",
       "      <th></th>\n",
       "      <th>DIEN_rank</th>\n",
       "      <th>DIN_rank</th>\n",
       "      <th>NN_rank</th>\n",
       "      <th>knn_rank</th>\n",
       "    </tr>\n",
       "  </thead>\n",
       "  <tbody>\n",
       "    <tr>\n",
       "      <th>count</th>\n",
       "      <td>6176.000000</td>\n",
       "      <td>6176.000000</td>\n",
       "      <td>6176.000000</td>\n",
       "      <td>6176.000000</td>\n",
       "    </tr>\n",
       "    <tr>\n",
       "      <th>mean</th>\n",
       "      <td>46.633258</td>\n",
       "      <td>43.973603</td>\n",
       "      <td>21.156412</td>\n",
       "      <td>21.156088</td>\n",
       "    </tr>\n",
       "    <tr>\n",
       "      <th>std</th>\n",
       "      <td>30.067202</td>\n",
       "      <td>27.177493</td>\n",
       "      <td>22.706631</td>\n",
       "      <td>24.473241</td>\n",
       "    </tr>\n",
       "    <tr>\n",
       "      <th>min</th>\n",
       "      <td>1.000000</td>\n",
       "      <td>1.000000</td>\n",
       "      <td>1.000000</td>\n",
       "      <td>1.000000</td>\n",
       "    </tr>\n",
       "    <tr>\n",
       "      <th>25%</th>\n",
       "      <td>17.000000</td>\n",
       "      <td>20.000000</td>\n",
       "      <td>4.000000</td>\n",
       "      <td>3.000000</td>\n",
       "    </tr>\n",
       "    <tr>\n",
       "      <th>50%</th>\n",
       "      <td>47.000000</td>\n",
       "      <td>42.000000</td>\n",
       "      <td>12.000000</td>\n",
       "      <td>11.000000</td>\n",
       "    </tr>\n",
       "    <tr>\n",
       "      <th>75%</th>\n",
       "      <td>73.000000</td>\n",
       "      <td>66.000000</td>\n",
       "      <td>31.000000</td>\n",
       "      <td>31.000000</td>\n",
       "    </tr>\n",
       "    <tr>\n",
       "      <th>max</th>\n",
       "      <td>99.000000</td>\n",
       "      <td>99.000000</td>\n",
       "      <td>99.000000</td>\n",
       "      <td>99.000000</td>\n",
       "    </tr>\n",
       "  </tbody>\n",
       "</table>\n",
       "</div>"
      ],
      "text/plain": [
       "         DIEN_rank     DIN_rank      NN_rank     knn_rank\n",
       "count  6176.000000  6176.000000  6176.000000  6176.000000\n",
       "mean     46.633258    43.973603    21.156412    21.156088\n",
       "std      30.067202    27.177493    22.706631    24.473241\n",
       "min       1.000000     1.000000     1.000000     1.000000\n",
       "25%      17.000000    20.000000     4.000000     3.000000\n",
       "50%      47.000000    42.000000    12.000000    11.000000\n",
       "75%      73.000000    66.000000    31.000000    31.000000\n",
       "max      99.000000    99.000000    99.000000    99.000000"
      ]
     },
     "execution_count": 25,
     "metadata": {},
     "output_type": "execute_result"
    }
   ],
   "source": [
    "lt_df[100].describe()"
   ]
  },
  {
   "cell_type": "code",
   "execution_count": null,
   "metadata": {},
   "outputs": [],
   "source": []
  }
 ],
 "metadata": {
  "kernelspec": {
   "display_name": "Python 3",
   "language": "python",
   "name": "python3"
  },
  "language_info": {
   "codemirror_mode": {
    "name": "ipython",
    "version": 3
   },
   "file_extension": ".py",
   "mimetype": "text/x-python",
   "name": "python",
   "nbconvert_exporter": "python",
   "pygments_lexer": "ipython3",
   "version": "3.7.5"
  }
 },
 "nbformat": 4,
 "nbformat_minor": 4
}
