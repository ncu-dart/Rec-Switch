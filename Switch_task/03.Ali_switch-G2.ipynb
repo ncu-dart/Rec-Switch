{
 "cells": [
  {
   "cell_type": "code",
   "execution_count": 3,
   "metadata": {},
   "outputs": [],
   "source": [
    "import pandas as pd\n",
    "import numpy as np\n",
    "import datetime\n",
    "import time\n",
    "import pickle\n",
    "from tqdm import tqdm\n",
    "import matplotlib.pyplot as plt\n",
    "%matplotlib inline\n",
    "from collections import Counter\n",
    "from random import choices, sample\n",
    "from gensim.models import Word2Vec\n",
    "import gc\n",
    "pd.set_option('display.float_format',lambda x : '%.2f' % x)\n",
    "from math import log10"
   ]
  },
  {
   "cell_type": "code",
   "execution_count": 4,
   "metadata": {},
   "outputs": [],
   "source": [
    "with open('./lt_df_Ali_8days.pkl', 'rb') as file:\n",
    "    lt_df = pickle.load(file)"
   ]
  },
  {
   "cell_type": "code",
   "execution_count": 5,
   "metadata": {},
   "outputs": [
    {
     "data": {
      "text/plain": [
       "Index(['uid', 'hist_iid', 'hist_cid', 'target_iid', 'target_cid', 'next_iid',\n",
       "       'next_cid', 'knn_rank', 'NN_rank', 'DIN_rank', 'DIEN_rank'],\n",
       "      dtype='object')"
      ]
     },
     "execution_count": 5,
     "metadata": {},
     "output_type": "execute_result"
    }
   ],
   "source": [
    "lt_df[0].columns"
   ]
  },
  {
   "cell_type": "code",
   "execution_count": 6,
   "metadata": {},
   "outputs": [
    {
     "data": {
      "text/html": [
       "<div>\n",
       "<style scoped>\n",
       "    .dataframe tbody tr th:only-of-type {\n",
       "        vertical-align: middle;\n",
       "    }\n",
       "\n",
       "    .dataframe tbody tr th {\n",
       "        vertical-align: top;\n",
       "    }\n",
       "\n",
       "    .dataframe thead th {\n",
       "        text-align: right;\n",
       "    }\n",
       "</style>\n",
       "<table border=\"1\" class=\"dataframe\">\n",
       "  <thead>\n",
       "    <tr style=\"text-align: right;\">\n",
       "      <th></th>\n",
       "      <th>uid</th>\n",
       "      <th>hist_iid</th>\n",
       "      <th>hist_cid</th>\n",
       "      <th>target_iid</th>\n",
       "      <th>target_cid</th>\n",
       "      <th>next_iid</th>\n",
       "      <th>next_cid</th>\n",
       "      <th>knn_rank</th>\n",
       "      <th>NN_rank</th>\n",
       "      <th>DIN_rank</th>\n",
       "      <th>DIEN_rank</th>\n",
       "    </tr>\n",
       "  </thead>\n",
       "  <tbody>\n",
       "    <tr>\n",
       "      <th>0</th>\n",
       "      <td>7</td>\n",
       "      <td>[980099, 3427154, 2689961, 2292610, 4034225, 5...</td>\n",
       "      <td>[2355072, 4801426, 4756105, 4756105, 3607361, ...</td>\n",
       "      <td>2063176</td>\n",
       "      <td>149192</td>\n",
       "      <td>1793668</td>\n",
       "      <td>2520377</td>\n",
       "      <td>53.00</td>\n",
       "      <td>40</td>\n",
       "      <td>95</td>\n",
       "      <td>45</td>\n",
       "    </tr>\n",
       "    <tr>\n",
       "      <th>1</th>\n",
       "      <td>96</td>\n",
       "      <td>[3005381, 4160584]</td>\n",
       "      <td>[1464116, 3607361]</td>\n",
       "      <td>4160584</td>\n",
       "      <td>3607361</td>\n",
       "      <td>13283</td>\n",
       "      <td>3607361</td>\n",
       "      <td>5.00</td>\n",
       "      <td>7</td>\n",
       "      <td>15</td>\n",
       "      <td>94</td>\n",
       "    </tr>\n",
       "    <tr>\n",
       "      <th>2</th>\n",
       "      <td>152</td>\n",
       "      <td>[842950, 3048082, 3682882]</td>\n",
       "      <td>[4145813, 4181361, 4181361]</td>\n",
       "      <td>3682882</td>\n",
       "      <td>4181361</td>\n",
       "      <td>3739757</td>\n",
       "      <td>4181361</td>\n",
       "      <td>6.00</td>\n",
       "      <td>6</td>\n",
       "      <td>45</td>\n",
       "      <td>18</td>\n",
       "    </tr>\n",
       "    <tr>\n",
       "      <th>3</th>\n",
       "      <td>239</td>\n",
       "      <td>[709710, 4826455, 709710, 1992230, 1842641, 45...</td>\n",
       "      <td>[1787510, 1787510, 1787510, 2465336, 2976589, ...</td>\n",
       "      <td>5030834</td>\n",
       "      <td>1787510</td>\n",
       "      <td>24834</td>\n",
       "      <td>1787510</td>\n",
       "      <td>28.00</td>\n",
       "      <td>16</td>\n",
       "      <td>89</td>\n",
       "      <td>11</td>\n",
       "    </tr>\n",
       "    <tr>\n",
       "      <th>4</th>\n",
       "      <td>339</td>\n",
       "      <td>[3437026, 3523692, 1850821, 1687195, 2487310, ...</td>\n",
       "      <td>[3738615, 2558244, 4756105, 4022701, 3738615, ...</td>\n",
       "      <td>222342</td>\n",
       "      <td>4244487</td>\n",
       "      <td>1692072</td>\n",
       "      <td>4244487</td>\n",
       "      <td>4.00</td>\n",
       "      <td>1</td>\n",
       "      <td>50</td>\n",
       "      <td>61</td>\n",
       "    </tr>\n",
       "    <tr>\n",
       "      <th>...</th>\n",
       "      <td>...</td>\n",
       "      <td>...</td>\n",
       "      <td>...</td>\n",
       "      <td>...</td>\n",
       "      <td>...</td>\n",
       "      <td>...</td>\n",
       "      <td>...</td>\n",
       "      <td>...</td>\n",
       "      <td>...</td>\n",
       "      <td>...</td>\n",
       "      <td>...</td>\n",
       "    </tr>\n",
       "    <tr>\n",
       "      <th>14738</th>\n",
       "      <td>1017455</td>\n",
       "      <td>[3878908, 2029728, 4877816, 4736367, 1387695]</td>\n",
       "      <td>[982926, 149192, 4801426, 5042232, 4756105]</td>\n",
       "      <td>1387695</td>\n",
       "      <td>4756105</td>\n",
       "      <td>1584827</td>\n",
       "      <td>4756105</td>\n",
       "      <td>2.00</td>\n",
       "      <td>24</td>\n",
       "      <td>10</td>\n",
       "      <td>20</td>\n",
       "    </tr>\n",
       "    <tr>\n",
       "      <th>14739</th>\n",
       "      <td>1017559</td>\n",
       "      <td>[969064, 7521, 1367959, 812391, 4257874]</td>\n",
       "      <td>[903809, 903809, 903809, 903809, 903809]</td>\n",
       "      <td>4257874</td>\n",
       "      <td>903809</td>\n",
       "      <td>2736720</td>\n",
       "      <td>903809</td>\n",
       "      <td>34.00</td>\n",
       "      <td>80</td>\n",
       "      <td>40</td>\n",
       "      <td>39</td>\n",
       "    </tr>\n",
       "    <tr>\n",
       "      <th>14740</th>\n",
       "      <td>1017591</td>\n",
       "      <td>[777173, 2503250, 4551433]</td>\n",
       "      <td>[2885642, 2885642, 2885642]</td>\n",
       "      <td>4551433</td>\n",
       "      <td>2885642</td>\n",
       "      <td>2157244</td>\n",
       "      <td>2885642</td>\n",
       "      <td>38.00</td>\n",
       "      <td>91</td>\n",
       "      <td>3</td>\n",
       "      <td>51</td>\n",
       "    </tr>\n",
       "    <tr>\n",
       "      <th>14741</th>\n",
       "      <td>1017830</td>\n",
       "      <td>[2382143, 964233, 310906, 4676590]</td>\n",
       "      <td>[4801426, 4801426, 4801426, 2096639]</td>\n",
       "      <td>4676590</td>\n",
       "      <td>2096639</td>\n",
       "      <td>2609472</td>\n",
       "      <td>2096639</td>\n",
       "      <td>97.00</td>\n",
       "      <td>67</td>\n",
       "      <td>51</td>\n",
       "      <td>30</td>\n",
       "    </tr>\n",
       "    <tr>\n",
       "      <th>14742</th>\n",
       "      <td>1018006</td>\n",
       "      <td>[1795335, 3109484, 4591716, 3272698]</td>\n",
       "      <td>[4871255, 3738615, 4756105, 2355072]</td>\n",
       "      <td>3272698</td>\n",
       "      <td>2355072</td>\n",
       "      <td>3601910</td>\n",
       "      <td>2520377</td>\n",
       "      <td>1.00</td>\n",
       "      <td>24</td>\n",
       "      <td>93</td>\n",
       "      <td>42</td>\n",
       "    </tr>\n",
       "  </tbody>\n",
       "</table>\n",
       "<p>14743 rows × 11 columns</p>\n",
       "</div>"
      ],
      "text/plain": [
       "           uid                                           hist_iid  \\\n",
       "0            7  [980099, 3427154, 2689961, 2292610, 4034225, 5...   \n",
       "1           96                                 [3005381, 4160584]   \n",
       "2          152                         [842950, 3048082, 3682882]   \n",
       "3          239  [709710, 4826455, 709710, 1992230, 1842641, 45...   \n",
       "4          339  [3437026, 3523692, 1850821, 1687195, 2487310, ...   \n",
       "...        ...                                                ...   \n",
       "14738  1017455      [3878908, 2029728, 4877816, 4736367, 1387695]   \n",
       "14739  1017559           [969064, 7521, 1367959, 812391, 4257874]   \n",
       "14740  1017591                         [777173, 2503250, 4551433]   \n",
       "14741  1017830                 [2382143, 964233, 310906, 4676590]   \n",
       "14742  1018006               [1795335, 3109484, 4591716, 3272698]   \n",
       "\n",
       "                                                hist_cid  target_iid  \\\n",
       "0      [2355072, 4801426, 4756105, 4756105, 3607361, ...     2063176   \n",
       "1                                     [1464116, 3607361]     4160584   \n",
       "2                            [4145813, 4181361, 4181361]     3682882   \n",
       "3      [1787510, 1787510, 1787510, 2465336, 2976589, ...     5030834   \n",
       "4      [3738615, 2558244, 4756105, 4022701, 3738615, ...      222342   \n",
       "...                                                  ...         ...   \n",
       "14738        [982926, 149192, 4801426, 5042232, 4756105]     1387695   \n",
       "14739           [903809, 903809, 903809, 903809, 903809]     4257874   \n",
       "14740                        [2885642, 2885642, 2885642]     4551433   \n",
       "14741               [4801426, 4801426, 4801426, 2096639]     4676590   \n",
       "14742               [4871255, 3738615, 4756105, 2355072]     3272698   \n",
       "\n",
       "       target_cid  next_iid  next_cid  knn_rank  NN_rank  DIN_rank  DIEN_rank  \n",
       "0          149192   1793668   2520377     53.00       40        95         45  \n",
       "1         3607361     13283   3607361      5.00        7        15         94  \n",
       "2         4181361   3739757   4181361      6.00        6        45         18  \n",
       "3         1787510     24834   1787510     28.00       16        89         11  \n",
       "4         4244487   1692072   4244487      4.00        1        50         61  \n",
       "...           ...       ...       ...       ...      ...       ...        ...  \n",
       "14738     4756105   1584827   4756105      2.00       24        10         20  \n",
       "14739      903809   2736720    903809     34.00       80        40         39  \n",
       "14740     2885642   2157244   2885642     38.00       91         3         51  \n",
       "14741     2096639   2609472   2096639     97.00       67        51         30  \n",
       "14742     2355072   3601910   2520377      1.00       24        93         42  \n",
       "\n",
       "[14743 rows x 11 columns]"
      ]
     },
     "execution_count": 6,
     "metadata": {},
     "output_type": "execute_result"
    }
   ],
   "source": [
    "lt_df[0]"
   ]
  },
  {
   "cell_type": "code",
   "execution_count": 7,
   "metadata": {},
   "outputs": [],
   "source": [
    "def gen_label(df):\n",
    "    if df.knn_rank <= df.NN_rank and  df.knn_rank <= df.DIN_rank and df.knn_rank <= df.DIEN_rank:\n",
    "        label = 0\n",
    "    elif df.NN_rank <= df.knn_rank and  df.NN_rank <= df.DIN_rank and df.NN_rank <= df.DIEN_rank:\n",
    "        label = 1\n",
    "    elif df.DIN_rank <= df.knn_rank and  df.DIN_rank <= df.NN_rank and df.DIN_rank <= df.DIEN_rank:\n",
    "        label = 2\n",
    "    elif df.DIEN_rank <= df.knn_rank and  df.DIEN_rank <= df.NN_rank and df.DIEN_rank <= df.DIN_rank:\n",
    "        label = 3\n",
    "    return label"
   ]
  },
  {
   "cell_type": "code",
   "execution_count": 8,
   "metadata": {},
   "outputs": [
    {
     "name": "stderr",
     "output_type": "stream",
     "text": [
      "100%|██████████| 8/8 [00:09<00:00,  1.19s/it]\n"
     ]
    }
   ],
   "source": [
    "for df in tqdm(lt_df):\n",
    "    df['label'] = df.apply(gen_label, axis=1)"
   ]
  },
  {
   "cell_type": "code",
   "execution_count": 9,
   "metadata": {},
   "outputs": [],
   "source": [
    "# for df in tqdm(lt_df):\n",
    "#     df['hist_len'] = df.apply(lambda df: len(eval(str(df['hist_iid']))), axis=1)"
   ]
  },
  {
   "cell_type": "code",
   "execution_count": 10,
   "metadata": {},
   "outputs": [
    {
     "name": "stderr",
     "output_type": "stream",
     "text": [
      "Using TensorFlow backend.\n",
      "100%|██████████| 8/8 [00:08<00:00,  1.12s/it]\n"
     ]
    }
   ],
   "source": [
    "from keras.utils import to_categorical\n",
    "for df in tqdm(lt_df):\n",
    "    df['train_label'] = df.apply(lambda df: to_categorical(df['label'], num_classes=4), axis=1)"
   ]
  },
  {
   "cell_type": "code",
   "execution_count": 11,
   "metadata": {},
   "outputs": [],
   "source": [
    "for i in range(8):\n",
    "    lt_df[i].drop(columns=['uid', 'hist_iid', 'hist_cid', 'target_cid', 'next_cid'], inplace=True)"
   ]
  },
  {
   "cell_type": "markdown",
   "metadata": {},
   "source": [
    "---"
   ]
  },
  {
   "cell_type": "code",
   "execution_count": 12,
   "metadata": {},
   "outputs": [],
   "source": [
    "full_table = pd.concat(lt_df[:4], ignore_index=True)"
   ]
  },
  {
   "cell_type": "code",
   "execution_count": 13,
   "metadata": {},
   "outputs": [
    {
     "data": {
      "text/plain": [
       "0    21690\n",
       "1    16791\n",
       "2     7981\n",
       "3     7706\n",
       "Name: label, dtype: int64"
      ]
     },
     "execution_count": 13,
     "metadata": {},
     "output_type": "execute_result"
    }
   ],
   "source": [
    "full_table['label'].value_counts()"
   ]
  },
  {
   "cell_type": "code",
   "execution_count": 14,
   "metadata": {},
   "outputs": [
    {
     "data": {
      "text/html": [
       "<div>\n",
       "<style scoped>\n",
       "    .dataframe tbody tr th:only-of-type {\n",
       "        vertical-align: middle;\n",
       "    }\n",
       "\n",
       "    .dataframe tbody tr th {\n",
       "        vertical-align: top;\n",
       "    }\n",
       "\n",
       "    .dataframe thead th {\n",
       "        text-align: right;\n",
       "    }\n",
       "</style>\n",
       "<table border=\"1\" class=\"dataframe\">\n",
       "  <thead>\n",
       "    <tr style=\"text-align: right;\">\n",
       "      <th></th>\n",
       "      <th>target_iid</th>\n",
       "      <th>next_iid</th>\n",
       "      <th>knn_rank</th>\n",
       "      <th>NN_rank</th>\n",
       "      <th>DIN_rank</th>\n",
       "      <th>DIEN_rank</th>\n",
       "      <th>label</th>\n",
       "    </tr>\n",
       "  </thead>\n",
       "  <tbody>\n",
       "    <tr>\n",
       "      <th>count</th>\n",
       "      <td>54168.00</td>\n",
       "      <td>54168.00</td>\n",
       "      <td>54168.00</td>\n",
       "      <td>54168.00</td>\n",
       "      <td>54168.00</td>\n",
       "      <td>54168.00</td>\n",
       "      <td>54168.00</td>\n",
       "    </tr>\n",
       "    <tr>\n",
       "      <th>mean</th>\n",
       "      <td>2587004.15</td>\n",
       "      <td>2574953.51</td>\n",
       "      <td>29.96</td>\n",
       "      <td>31.87</td>\n",
       "      <td>47.95</td>\n",
       "      <td>50.33</td>\n",
       "      <td>1.03</td>\n",
       "    </tr>\n",
       "    <tr>\n",
       "      <th>std</th>\n",
       "      <td>1471552.96</td>\n",
       "      <td>1470099.37</td>\n",
       "      <td>28.08</td>\n",
       "      <td>27.83</td>\n",
       "      <td>28.03</td>\n",
       "      <td>28.86</td>\n",
       "      <td>1.06</td>\n",
       "    </tr>\n",
       "    <tr>\n",
       "      <th>min</th>\n",
       "      <td>324.00</td>\n",
       "      <td>81.00</td>\n",
       "      <td>1.00</td>\n",
       "      <td>1.00</td>\n",
       "      <td>1.00</td>\n",
       "      <td>1.00</td>\n",
       "      <td>0.00</td>\n",
       "    </tr>\n",
       "    <tr>\n",
       "      <th>25%</th>\n",
       "      <td>1329654.00</td>\n",
       "      <td>1320039.75</td>\n",
       "      <td>6.00</td>\n",
       "      <td>8.00</td>\n",
       "      <td>24.00</td>\n",
       "      <td>25.00</td>\n",
       "      <td>0.00</td>\n",
       "    </tr>\n",
       "    <tr>\n",
       "      <th>50%</th>\n",
       "      <td>2596902.00</td>\n",
       "      <td>2566203.00</td>\n",
       "      <td>20.00</td>\n",
       "      <td>24.00</td>\n",
       "      <td>46.00</td>\n",
       "      <td>51.00</td>\n",
       "      <td>1.00</td>\n",
       "    </tr>\n",
       "    <tr>\n",
       "      <th>75%</th>\n",
       "      <td>3850265.00</td>\n",
       "      <td>3847054.00</td>\n",
       "      <td>49.00</td>\n",
       "      <td>51.00</td>\n",
       "      <td>71.00</td>\n",
       "      <td>75.00</td>\n",
       "      <td>2.00</td>\n",
       "    </tr>\n",
       "    <tr>\n",
       "      <th>max</th>\n",
       "      <td>5163006.00</td>\n",
       "      <td>5162806.00</td>\n",
       "      <td>99.00</td>\n",
       "      <td>99.00</td>\n",
       "      <td>99.00</td>\n",
       "      <td>99.00</td>\n",
       "      <td>3.00</td>\n",
       "    </tr>\n",
       "  </tbody>\n",
       "</table>\n",
       "</div>"
      ],
      "text/plain": [
       "       target_iid   next_iid  knn_rank  NN_rank  DIN_rank  DIEN_rank    label\n",
       "count    54168.00   54168.00  54168.00 54168.00  54168.00   54168.00 54168.00\n",
       "mean   2587004.15 2574953.51     29.96    31.87     47.95      50.33     1.03\n",
       "std    1471552.96 1470099.37     28.08    27.83     28.03      28.86     1.06\n",
       "min        324.00      81.00      1.00     1.00      1.00       1.00     0.00\n",
       "25%    1329654.00 1320039.75      6.00     8.00     24.00      25.00     0.00\n",
       "50%    2596902.00 2566203.00     20.00    24.00     46.00      51.00     1.00\n",
       "75%    3850265.00 3847054.00     49.00    51.00     71.00      75.00     2.00\n",
       "max    5163006.00 5162806.00     99.00    99.00     99.00      99.00     3.00"
      ]
     },
     "execution_count": 14,
     "metadata": {},
     "output_type": "execute_result"
    }
   ],
   "source": [
    "full_table.describe()"
   ]
  },
  {
   "cell_type": "code",
   "execution_count": 15,
   "metadata": {},
   "outputs": [],
   "source": [
    "table_grby = full_table.groupby(['target_iid'])\n",
    "# pd.DataFrame(table_grby.size())"
   ]
  },
  {
   "cell_type": "code",
   "execution_count": 16,
   "metadata": {},
   "outputs": [],
   "source": [
    "df_table  = pd.merge(full_table, pd.DataFrame(table_grby.size()), on=['target_iid'], how='left')\n",
    "df_table.rename(columns = {0:'target_occur'}, inplace=True)"
   ]
  },
  {
   "cell_type": "code",
   "execution_count": 17,
   "metadata": {},
   "outputs": [],
   "source": [
    "max_occur_target = max(df_table['target_occur'])"
   ]
  },
  {
   "cell_type": "code",
   "execution_count": 18,
   "metadata": {},
   "outputs": [],
   "source": [
    "df_table['target_log'] = df_table.apply(lambda df: log10(df['target_occur'])/log10(max_occur_target), axis=1)"
   ]
  },
  {
   "cell_type": "code",
   "execution_count": 19,
   "metadata": {},
   "outputs": [],
   "source": [
    "table_grby_next = full_table.groupby(['next_iid'])\n",
    "# pd.DataFrame(table_grby_next.size())"
   ]
  },
  {
   "cell_type": "code",
   "execution_count": 20,
   "metadata": {},
   "outputs": [],
   "source": [
    "df_table  = pd.merge(df_table, pd.DataFrame(table_grby_next.size()), on=['next_iid'], how='left')\n",
    "df_table.rename(columns = {0:'next_occur'}, inplace=True)"
   ]
  },
  {
   "cell_type": "code",
   "execution_count": 21,
   "metadata": {},
   "outputs": [],
   "source": [
    "max_occur_next = max(df_table['next_occur'])"
   ]
  },
  {
   "cell_type": "code",
   "execution_count": 22,
   "metadata": {},
   "outputs": [],
   "source": [
    "df_table['next_log'] = df_table.apply(lambda df: log10(df['next_occur'])/log10(max_occur_next), axis=1)"
   ]
  },
  {
   "cell_type": "code",
   "execution_count": 23,
   "metadata": {},
   "outputs": [
    {
     "data": {
      "text/html": [
       "<div>\n",
       "<style scoped>\n",
       "    .dataframe tbody tr th:only-of-type {\n",
       "        vertical-align: middle;\n",
       "    }\n",
       "\n",
       "    .dataframe tbody tr th {\n",
       "        vertical-align: top;\n",
       "    }\n",
       "\n",
       "    .dataframe thead th {\n",
       "        text-align: right;\n",
       "    }\n",
       "</style>\n",
       "<table border=\"1\" class=\"dataframe\">\n",
       "  <thead>\n",
       "    <tr style=\"text-align: right;\">\n",
       "      <th></th>\n",
       "      <th>target_iid</th>\n",
       "      <th>next_iid</th>\n",
       "      <th>knn_rank</th>\n",
       "      <th>NN_rank</th>\n",
       "      <th>DIN_rank</th>\n",
       "      <th>DIEN_rank</th>\n",
       "      <th>label</th>\n",
       "      <th>train_label</th>\n",
       "      <th>target_occur</th>\n",
       "      <th>target_log</th>\n",
       "      <th>next_occur</th>\n",
       "      <th>next_log</th>\n",
       "    </tr>\n",
       "  </thead>\n",
       "  <tbody>\n",
       "    <tr>\n",
       "      <th>0</th>\n",
       "      <td>2063176</td>\n",
       "      <td>1793668</td>\n",
       "      <td>53.00</td>\n",
       "      <td>40</td>\n",
       "      <td>95.00</td>\n",
       "      <td>45</td>\n",
       "      <td>1</td>\n",
       "      <td>[0.0, 1.0, 0.0, 0.0]</td>\n",
       "      <td>4</td>\n",
       "      <td>0.27</td>\n",
       "      <td>3</td>\n",
       "      <td>0.21</td>\n",
       "    </tr>\n",
       "    <tr>\n",
       "      <th>1</th>\n",
       "      <td>4160584</td>\n",
       "      <td>13283</td>\n",
       "      <td>5.00</td>\n",
       "      <td>7</td>\n",
       "      <td>15.00</td>\n",
       "      <td>94</td>\n",
       "      <td>0</td>\n",
       "      <td>[1.0, 0.0, 0.0, 0.0]</td>\n",
       "      <td>1</td>\n",
       "      <td>0.00</td>\n",
       "      <td>1</td>\n",
       "      <td>0.00</td>\n",
       "    </tr>\n",
       "    <tr>\n",
       "      <th>2</th>\n",
       "      <td>3682882</td>\n",
       "      <td>3739757</td>\n",
       "      <td>6.00</td>\n",
       "      <td>6</td>\n",
       "      <td>45.00</td>\n",
       "      <td>18</td>\n",
       "      <td>0</td>\n",
       "      <td>[1.0, 0.0, 0.0, 0.0]</td>\n",
       "      <td>1</td>\n",
       "      <td>0.00</td>\n",
       "      <td>3</td>\n",
       "      <td>0.21</td>\n",
       "    </tr>\n",
       "    <tr>\n",
       "      <th>3</th>\n",
       "      <td>5030834</td>\n",
       "      <td>24834</td>\n",
       "      <td>28.00</td>\n",
       "      <td>16</td>\n",
       "      <td>89.00</td>\n",
       "      <td>11</td>\n",
       "      <td>3</td>\n",
       "      <td>[0.0, 0.0, 0.0, 1.0]</td>\n",
       "      <td>15</td>\n",
       "      <td>0.52</td>\n",
       "      <td>15</td>\n",
       "      <td>0.51</td>\n",
       "    </tr>\n",
       "    <tr>\n",
       "      <th>4</th>\n",
       "      <td>222342</td>\n",
       "      <td>1692072</td>\n",
       "      <td>4.00</td>\n",
       "      <td>1</td>\n",
       "      <td>50.00</td>\n",
       "      <td>61</td>\n",
       "      <td>1</td>\n",
       "      <td>[0.0, 1.0, 0.0, 0.0]</td>\n",
       "      <td>28</td>\n",
       "      <td>0.64</td>\n",
       "      <td>19</td>\n",
       "      <td>0.55</td>\n",
       "    </tr>\n",
       "    <tr>\n",
       "      <th>...</th>\n",
       "      <td>...</td>\n",
       "      <td>...</td>\n",
       "      <td>...</td>\n",
       "      <td>...</td>\n",
       "      <td>...</td>\n",
       "      <td>...</td>\n",
       "      <td>...</td>\n",
       "      <td>...</td>\n",
       "      <td>...</td>\n",
       "      <td>...</td>\n",
       "      <td>...</td>\n",
       "      <td>...</td>\n",
       "    </tr>\n",
       "    <tr>\n",
       "      <th>54163</th>\n",
       "      <td>3251448</td>\n",
       "      <td>3916424</td>\n",
       "      <td>6.00</td>\n",
       "      <td>2</td>\n",
       "      <td>37.00</td>\n",
       "      <td>28</td>\n",
       "      <td>1</td>\n",
       "      <td>[0.0, 1.0, 0.0, 0.0]</td>\n",
       "      <td>26</td>\n",
       "      <td>0.63</td>\n",
       "      <td>10</td>\n",
       "      <td>0.43</td>\n",
       "    </tr>\n",
       "    <tr>\n",
       "      <th>54164</th>\n",
       "      <td>2663450</td>\n",
       "      <td>3941700</td>\n",
       "      <td>18.00</td>\n",
       "      <td>33</td>\n",
       "      <td>79.00</td>\n",
       "      <td>86</td>\n",
       "      <td>0</td>\n",
       "      <td>[1.0, 0.0, 0.0, 0.0]</td>\n",
       "      <td>12</td>\n",
       "      <td>0.48</td>\n",
       "      <td>5</td>\n",
       "      <td>0.30</td>\n",
       "    </tr>\n",
       "    <tr>\n",
       "      <th>54165</th>\n",
       "      <td>2415077</td>\n",
       "      <td>3198981</td>\n",
       "      <td>22.00</td>\n",
       "      <td>11</td>\n",
       "      <td>19.00</td>\n",
       "      <td>70</td>\n",
       "      <td>1</td>\n",
       "      <td>[0.0, 1.0, 0.0, 0.0]</td>\n",
       "      <td>1</td>\n",
       "      <td>0.00</td>\n",
       "      <td>2</td>\n",
       "      <td>0.13</td>\n",
       "    </tr>\n",
       "    <tr>\n",
       "      <th>54166</th>\n",
       "      <td>2760413</td>\n",
       "      <td>3834207</td>\n",
       "      <td>8.00</td>\n",
       "      <td>19</td>\n",
       "      <td>24.00</td>\n",
       "      <td>97</td>\n",
       "      <td>0</td>\n",
       "      <td>[1.0, 0.0, 0.0, 0.0]</td>\n",
       "      <td>7</td>\n",
       "      <td>0.38</td>\n",
       "      <td>7</td>\n",
       "      <td>0.36</td>\n",
       "    </tr>\n",
       "    <tr>\n",
       "      <th>54167</th>\n",
       "      <td>730324</td>\n",
       "      <td>2236861</td>\n",
       "      <td>77.00</td>\n",
       "      <td>24</td>\n",
       "      <td>56.00</td>\n",
       "      <td>34</td>\n",
       "      <td>1</td>\n",
       "      <td>[0.0, 1.0, 0.0, 0.0]</td>\n",
       "      <td>110</td>\n",
       "      <td>0.91</td>\n",
       "      <td>208</td>\n",
       "      <td>1.00</td>\n",
       "    </tr>\n",
       "  </tbody>\n",
       "</table>\n",
       "<p>54168 rows × 12 columns</p>\n",
       "</div>"
      ],
      "text/plain": [
       "       target_iid  next_iid  knn_rank  NN_rank  DIN_rank  DIEN_rank  label  \\\n",
       "0         2063176   1793668     53.00       40     95.00         45      1   \n",
       "1         4160584     13283      5.00        7     15.00         94      0   \n",
       "2         3682882   3739757      6.00        6     45.00         18      0   \n",
       "3         5030834     24834     28.00       16     89.00         11      3   \n",
       "4          222342   1692072      4.00        1     50.00         61      1   \n",
       "...           ...       ...       ...      ...       ...        ...    ...   \n",
       "54163     3251448   3916424      6.00        2     37.00         28      1   \n",
       "54164     2663450   3941700     18.00       33     79.00         86      0   \n",
       "54165     2415077   3198981     22.00       11     19.00         70      1   \n",
       "54166     2760413   3834207      8.00       19     24.00         97      0   \n",
       "54167      730324   2236861     77.00       24     56.00         34      1   \n",
       "\n",
       "                train_label  target_occur  target_log  next_occur  next_log  \n",
       "0      [0.0, 1.0, 0.0, 0.0]             4        0.27           3      0.21  \n",
       "1      [1.0, 0.0, 0.0, 0.0]             1        0.00           1      0.00  \n",
       "2      [1.0, 0.0, 0.0, 0.0]             1        0.00           3      0.21  \n",
       "3      [0.0, 0.0, 0.0, 1.0]            15        0.52          15      0.51  \n",
       "4      [0.0, 1.0, 0.0, 0.0]            28        0.64          19      0.55  \n",
       "...                     ...           ...         ...         ...       ...  \n",
       "54163  [0.0, 1.0, 0.0, 0.0]            26        0.63          10      0.43  \n",
       "54164  [1.0, 0.0, 0.0, 0.0]            12        0.48           5      0.30  \n",
       "54165  [0.0, 1.0, 0.0, 0.0]             1        0.00           2      0.13  \n",
       "54166  [1.0, 0.0, 0.0, 0.0]             7        0.38           7      0.36  \n",
       "54167  [0.0, 1.0, 0.0, 0.0]           110        0.91         208      1.00  \n",
       "\n",
       "[54168 rows x 12 columns]"
      ]
     },
     "execution_count": 23,
     "metadata": {},
     "output_type": "execute_result"
    }
   ],
   "source": [
    "df_table"
   ]
  },
  {
   "cell_type": "code",
   "execution_count": 24,
   "metadata": {},
   "outputs": [
    {
     "data": {
      "text/html": [
       "<div>\n",
       "<style scoped>\n",
       "    .dataframe tbody tr th:only-of-type {\n",
       "        vertical-align: middle;\n",
       "    }\n",
       "\n",
       "    .dataframe tbody tr th {\n",
       "        vertical-align: top;\n",
       "    }\n",
       "\n",
       "    .dataframe thead th {\n",
       "        text-align: right;\n",
       "    }\n",
       "</style>\n",
       "<table border=\"1\" class=\"dataframe\">\n",
       "  <thead>\n",
       "    <tr style=\"text-align: right;\">\n",
       "      <th></th>\n",
       "      <th>target_iid</th>\n",
       "      <th>next_iid</th>\n",
       "      <th>knn_rank</th>\n",
       "      <th>NN_rank</th>\n",
       "      <th>DIN_rank</th>\n",
       "      <th>DIEN_rank</th>\n",
       "      <th>label</th>\n",
       "      <th>target_occur</th>\n",
       "      <th>target_log</th>\n",
       "      <th>next_occur</th>\n",
       "      <th>next_log</th>\n",
       "    </tr>\n",
       "  </thead>\n",
       "  <tbody>\n",
       "    <tr>\n",
       "      <th>count</th>\n",
       "      <td>54168.00</td>\n",
       "      <td>54168.00</td>\n",
       "      <td>54168.00</td>\n",
       "      <td>54168.00</td>\n",
       "      <td>54168.00</td>\n",
       "      <td>54168.00</td>\n",
       "      <td>54168.00</td>\n",
       "      <td>54168.00</td>\n",
       "      <td>54168.00</td>\n",
       "      <td>54168.00</td>\n",
       "      <td>54168.00</td>\n",
       "    </tr>\n",
       "    <tr>\n",
       "      <th>mean</th>\n",
       "      <td>2587004.15</td>\n",
       "      <td>2574953.51</td>\n",
       "      <td>29.96</td>\n",
       "      <td>31.87</td>\n",
       "      <td>47.95</td>\n",
       "      <td>50.33</td>\n",
       "      <td>1.03</td>\n",
       "      <td>15.09</td>\n",
       "      <td>0.35</td>\n",
       "      <td>13.93</td>\n",
       "      <td>0.34</td>\n",
       "    </tr>\n",
       "    <tr>\n",
       "      <th>std</th>\n",
       "      <td>1471552.96</td>\n",
       "      <td>1470099.37</td>\n",
       "      <td>28.08</td>\n",
       "      <td>27.83</td>\n",
       "      <td>28.03</td>\n",
       "      <td>28.86</td>\n",
       "      <td>1.06</td>\n",
       "      <td>26.11</td>\n",
       "      <td>0.26</td>\n",
       "      <td>25.10</td>\n",
       "      <td>0.23</td>\n",
       "    </tr>\n",
       "    <tr>\n",
       "      <th>min</th>\n",
       "      <td>324.00</td>\n",
       "      <td>81.00</td>\n",
       "      <td>1.00</td>\n",
       "      <td>1.00</td>\n",
       "      <td>1.00</td>\n",
       "      <td>1.00</td>\n",
       "      <td>0.00</td>\n",
       "      <td>1.00</td>\n",
       "      <td>0.00</td>\n",
       "      <td>1.00</td>\n",
       "      <td>0.00</td>\n",
       "    </tr>\n",
       "    <tr>\n",
       "      <th>25%</th>\n",
       "      <td>1329654.00</td>\n",
       "      <td>1320039.75</td>\n",
       "      <td>6.00</td>\n",
       "      <td>8.00</td>\n",
       "      <td>24.00</td>\n",
       "      <td>25.00</td>\n",
       "      <td>0.00</td>\n",
       "      <td>2.00</td>\n",
       "      <td>0.13</td>\n",
       "      <td>2.00</td>\n",
       "      <td>0.13</td>\n",
       "    </tr>\n",
       "    <tr>\n",
       "      <th>50%</th>\n",
       "      <td>2596902.00</td>\n",
       "      <td>2566203.00</td>\n",
       "      <td>20.00</td>\n",
       "      <td>24.00</td>\n",
       "      <td>46.00</td>\n",
       "      <td>51.00</td>\n",
       "      <td>1.00</td>\n",
       "      <td>6.00</td>\n",
       "      <td>0.35</td>\n",
       "      <td>6.00</td>\n",
       "      <td>0.34</td>\n",
       "    </tr>\n",
       "    <tr>\n",
       "      <th>75%</th>\n",
       "      <td>3850265.00</td>\n",
       "      <td>3847054.00</td>\n",
       "      <td>49.00</td>\n",
       "      <td>51.00</td>\n",
       "      <td>71.00</td>\n",
       "      <td>75.00</td>\n",
       "      <td>2.00</td>\n",
       "      <td>16.00</td>\n",
       "      <td>0.53</td>\n",
       "      <td>14.00</td>\n",
       "      <td>0.49</td>\n",
       "    </tr>\n",
       "    <tr>\n",
       "      <th>max</th>\n",
       "      <td>5163006.00</td>\n",
       "      <td>5162806.00</td>\n",
       "      <td>99.00</td>\n",
       "      <td>99.00</td>\n",
       "      <td>99.00</td>\n",
       "      <td>99.00</td>\n",
       "      <td>3.00</td>\n",
       "      <td>179.00</td>\n",
       "      <td>1.00</td>\n",
       "      <td>208.00</td>\n",
       "      <td>1.00</td>\n",
       "    </tr>\n",
       "  </tbody>\n",
       "</table>\n",
       "</div>"
      ],
      "text/plain": [
       "       target_iid   next_iid  knn_rank  NN_rank  DIN_rank  DIEN_rank    label  \\\n",
       "count    54168.00   54168.00  54168.00 54168.00  54168.00   54168.00 54168.00   \n",
       "mean   2587004.15 2574953.51     29.96    31.87     47.95      50.33     1.03   \n",
       "std    1471552.96 1470099.37     28.08    27.83     28.03      28.86     1.06   \n",
       "min        324.00      81.00      1.00     1.00      1.00       1.00     0.00   \n",
       "25%    1329654.00 1320039.75      6.00     8.00     24.00      25.00     0.00   \n",
       "50%    2596902.00 2566203.00     20.00    24.00     46.00      51.00     1.00   \n",
       "75%    3850265.00 3847054.00     49.00    51.00     71.00      75.00     2.00   \n",
       "max    5163006.00 5162806.00     99.00    99.00     99.00      99.00     3.00   \n",
       "\n",
       "       target_occur  target_log  next_occur  next_log  \n",
       "count      54168.00    54168.00    54168.00  54168.00  \n",
       "mean          15.09        0.35       13.93      0.34  \n",
       "std           26.11        0.26       25.10      0.23  \n",
       "min            1.00        0.00        1.00      0.00  \n",
       "25%            2.00        0.13        2.00      0.13  \n",
       "50%            6.00        0.35        6.00      0.34  \n",
       "75%           16.00        0.53       14.00      0.49  \n",
       "max          179.00        1.00      208.00      1.00  "
      ]
     },
     "execution_count": 24,
     "metadata": {},
     "output_type": "execute_result"
    }
   ],
   "source": [
    "df_table.describe()"
   ]
  },
  {
   "cell_type": "markdown",
   "metadata": {},
   "source": [
    "---"
   ]
  },
  {
   "cell_type": "code",
   "execution_count": 34,
   "metadata": {},
   "outputs": [],
   "source": [
    "model_w2v = Word2Vec.load(\"../Taobao_v3/iid_1days.model\")"
   ]
  },
  {
   "cell_type": "code",
   "execution_count": 51,
   "metadata": {},
   "outputs": [
    {
     "name": "stderr",
     "output_type": "stream",
     "text": [
      "54168it [00:08, 6240.73it/s]\n"
     ]
    }
   ],
   "source": [
    "training_data = []\n",
    "not_exist_id = []\n",
    "Ground_Truth = []\n",
    "for row in tqdm(df_table.iterrows()):\n",
    "    if str(row[1]['target_iid']) not in model_w2v.wv:\n",
    "        not_exist_id.append(row[1]['target_iid'])\n",
    "        continue\n",
    "    if str(row[1]['next_iid']) not in model_w2v.wv:\n",
    "        not_exist_id.append(row[1]['next_iid'])\n",
    "        continue\n",
    "    freq = np.append([row[1]['target_log']], [row[1]['next_log']])\n",
    "    emb_pair = np.append(model_w2v.wv[str(row[1]['target_iid'])], model_w2v.wv[str(row[1]['next_iid'])])\n",
    "    embedding = np.append(freq, emb_pair)\n",
    "    training_data.append(embedding)\n",
    "    Ground_Truth.append(row[1]['train_label'])"
   ]
  },
  {
   "cell_type": "code",
   "execution_count": 52,
   "metadata": {},
   "outputs": [],
   "source": [
    "training_data = np.array(training_data)"
   ]
  },
  {
   "cell_type": "code",
   "execution_count": 53,
   "metadata": {},
   "outputs": [],
   "source": [
    "Ground_Truth = np.array(Ground_Truth)"
   ]
  },
  {
   "cell_type": "code",
   "execution_count": 54,
   "metadata": {},
   "outputs": [
    {
     "data": {
      "text/plain": [
       "(54168, 258)"
      ]
     },
     "execution_count": 54,
     "metadata": {},
     "output_type": "execute_result"
    }
   ],
   "source": [
    "training_data.shape"
   ]
  },
  {
   "cell_type": "code",
   "execution_count": 55,
   "metadata": {},
   "outputs": [
    {
     "data": {
      "text/plain": [
       "54168"
      ]
     },
     "execution_count": 55,
     "metadata": {},
     "output_type": "execute_result"
    }
   ],
   "source": [
    "len(Ground_Truth)"
   ]
  },
  {
   "cell_type": "code",
   "execution_count": 56,
   "metadata": {},
   "outputs": [],
   "source": [
    "from sklearn.model_selection import train_test_split\n",
    "from keras import models, layers, optimizers, losses, metrics, callbacks"
   ]
  },
  {
   "cell_type": "code",
   "execution_count": 57,
   "metadata": {},
   "outputs": [
    {
     "data": {
      "text/plain": [
       "0   21690.00\n",
       "1   16791.00\n",
       "2    7981.00\n",
       "3    7706.00\n",
       "dtype: float32"
      ]
     },
     "execution_count": 57,
     "metadata": {},
     "output_type": "execute_result"
    }
   ],
   "source": [
    "pd.DataFrame(Ground_Truth).sum()"
   ]
  },
  {
   "cell_type": "code",
   "execution_count": 59,
   "metadata": {},
   "outputs": [],
   "source": [
    "X_train, y_train = training_data, Ground_Truth"
   ]
  },
  {
   "cell_type": "code",
   "execution_count": 63,
   "metadata": {},
   "outputs": [],
   "source": [
    "model = models.Sequential()\n",
    "model.add(layers.Dense(512, activation='linear', input_shape=(258,)))\n",
    "model.add(layers.LeakyReLU(alpha=0.3))\n",
    "model.add(layers.Dense(256, activation='linear'))\n",
    "model.add(layers.LeakyReLU(alpha=0.3))\n",
    "model.add(layers.Dense(128, activation='linear'))\n",
    "model.add(layers.LeakyReLU(alpha=0.3))\n",
    "model.add(layers.Dense(64, activation='linear'))\n",
    "model.add(layers.LeakyReLU(alpha=0.3))\n",
    "model.add(layers.Dense(4, activation='sigmoid'))"
   ]
  },
  {
   "cell_type": "code",
   "execution_count": 64,
   "metadata": {},
   "outputs": [],
   "source": [
    "model.compile(optimizer=optimizers.RMSprop(lr=0.001),\n",
    "             loss=losses.categorical_crossentropy,\n",
    "             metrics=[metrics.categorical_accuracy])"
   ]
  },
  {
   "cell_type": "code",
   "execution_count": 65,
   "metadata": {},
   "outputs": [
    {
     "name": "stdout",
     "output_type": "stream",
     "text": [
      "Model: \"sequential_2\"\n",
      "_________________________________________________________________\n",
      "Layer (type)                 Output Shape              Param #   \n",
      "=================================================================\n",
      "dense_6 (Dense)              (None, 512)               132608    \n",
      "_________________________________________________________________\n",
      "leaky_re_lu_5 (LeakyReLU)    (None, 512)               0         \n",
      "_________________________________________________________________\n",
      "dense_7 (Dense)              (None, 256)               131328    \n",
      "_________________________________________________________________\n",
      "leaky_re_lu_6 (LeakyReLU)    (None, 256)               0         \n",
      "_________________________________________________________________\n",
      "dense_8 (Dense)              (None, 128)               32896     \n",
      "_________________________________________________________________\n",
      "leaky_re_lu_7 (LeakyReLU)    (None, 128)               0         \n",
      "_________________________________________________________________\n",
      "dense_9 (Dense)              (None, 64)                8256      \n",
      "_________________________________________________________________\n",
      "leaky_re_lu_8 (LeakyReLU)    (None, 64)                0         \n",
      "_________________________________________________________________\n",
      "dense_10 (Dense)             (None, 4)                 260       \n",
      "=================================================================\n",
      "Total params: 305,348\n",
      "Trainable params: 305,348\n",
      "Non-trainable params: 0\n",
      "_________________________________________________________________\n"
     ]
    }
   ],
   "source": [
    "model.summary()"
   ]
  },
  {
   "cell_type": "code",
   "execution_count": 66,
   "metadata": {},
   "outputs": [],
   "source": [
    "# checkpoint\n",
    "filepath = './saved_model/' + 'Ali_switch' + '_' + time.strftime(\"%m%d\", time.localtime()) + \"_G.h5\"\n",
    "checkpoint = callbacks.ModelCheckpoint(filepath, monitor='val_loss', verbose=1, save_best_only=True, mode='auto')\n",
    "callbacks_list = [checkpoint]"
   ]
  },
  {
   "cell_type": "code",
   "execution_count": 67,
   "metadata": {
    "collapsed": true,
    "jupyter": {
     "outputs_hidden": true
    }
   },
   "outputs": [
    {
     "name": "stdout",
     "output_type": "stream",
     "text": [
      "Train on 37917 samples, validate on 16251 samples\n",
      "Epoch 1/20\n",
      "37917/37917 [==============================] - 2s 42us/step - loss: 1.2358 - categorical_accuracy: 0.4353 - val_loss: 1.2275 - val_categorical_accuracy: 0.4407\n",
      "\n",
      "Epoch 00001: val_loss improved from inf to 1.22748, saving model to ./saved_model/Ali_switch_0602_G.h5\n",
      "Epoch 2/20\n",
      "37917/37917 [==============================] - 1s 39us/step - loss: 1.1968 - categorical_accuracy: 0.4705 - val_loss: 1.1998 - val_categorical_accuracy: 0.4678\n",
      "\n",
      "Epoch 00002: val_loss improved from 1.22748 to 1.19982, saving model to ./saved_model/Ali_switch_0602_G.h5\n",
      "Epoch 3/20\n",
      "37917/37917 [==============================] - 1s 39us/step - loss: 1.1854 - categorical_accuracy: 0.4777 - val_loss: 1.1891 - val_categorical_accuracy: 0.4802\n",
      "\n",
      "Epoch 00003: val_loss improved from 1.19982 to 1.18912, saving model to ./saved_model/Ali_switch_0602_G.h5\n",
      "Epoch 4/20\n",
      "37917/37917 [==============================] - 1s 39us/step - loss: 1.1767 - categorical_accuracy: 0.4823 - val_loss: 1.1842 - val_categorical_accuracy: 0.4812\n",
      "\n",
      "Epoch 00004: val_loss improved from 1.18912 to 1.18418, saving model to ./saved_model/Ali_switch_0602_G.h5\n",
      "Epoch 5/20\n",
      "37917/37917 [==============================] - 1s 39us/step - loss: 1.1710 - categorical_accuracy: 0.4851 - val_loss: 1.1757 - val_categorical_accuracy: 0.4797\n",
      "\n",
      "Epoch 00005: val_loss improved from 1.18418 to 1.17572, saving model to ./saved_model/Ali_switch_0602_G.h5\n",
      "Epoch 6/20\n",
      "37917/37917 [==============================] - 1s 39us/step - loss: 1.1665 - categorical_accuracy: 0.4883 - val_loss: 1.1703 - val_categorical_accuracy: 0.4877\n",
      "\n",
      "Epoch 00006: val_loss improved from 1.17572 to 1.17027, saving model to ./saved_model/Ali_switch_0602_G.h5\n",
      "Epoch 7/20\n",
      "37917/37917 [==============================] - 1s 39us/step - loss: 1.1610 - categorical_accuracy: 0.4902 - val_loss: 1.1941 - val_categorical_accuracy: 0.4831\n",
      "\n",
      "Epoch 00007: val_loss did not improve from 1.17027\n",
      "Epoch 8/20\n",
      "37917/37917 [==============================] - 1s 39us/step - loss: 1.1573 - categorical_accuracy: 0.4920 - val_loss: 1.1744 - val_categorical_accuracy: 0.4871\n",
      "\n",
      "Epoch 00008: val_loss did not improve from 1.17027\n",
      "Epoch 9/20\n",
      "37917/37917 [==============================] - 1s 39us/step - loss: 1.1536 - categorical_accuracy: 0.4933 - val_loss: 1.1682 - val_categorical_accuracy: 0.4888\n",
      "\n",
      "Epoch 00009: val_loss improved from 1.17027 to 1.16823, saving model to ./saved_model/Ali_switch_0602_G.h5\n",
      "Epoch 10/20\n",
      "37917/37917 [==============================] - 1s 39us/step - loss: 1.1510 - categorical_accuracy: 0.4969 - val_loss: 1.1887 - val_categorical_accuracy: 0.4827\n",
      "\n",
      "Epoch 00010: val_loss did not improve from 1.16823\n",
      "Epoch 11/20\n",
      "37917/37917 [==============================] - 1s 39us/step - loss: 1.1489 - categorical_accuracy: 0.4960 - val_loss: 1.1781 - val_categorical_accuracy: 0.4768\n",
      "\n",
      "Epoch 00011: val_loss did not improve from 1.16823\n",
      "Epoch 12/20\n",
      "37917/37917 [==============================] - 1s 39us/step - loss: 1.1456 - categorical_accuracy: 0.4982 - val_loss: 1.1645 - val_categorical_accuracy: 0.4888\n",
      "\n",
      "Epoch 00012: val_loss improved from 1.16823 to 1.16454, saving model to ./saved_model/Ali_switch_0602_G.h5\n",
      "Epoch 13/20\n",
      "37917/37917 [==============================] - 1s 39us/step - loss: 1.1455 - categorical_accuracy: 0.4974 - val_loss: 1.1680 - val_categorical_accuracy: 0.4802\n",
      "\n",
      "Epoch 00013: val_loss did not improve from 1.16454\n",
      "Epoch 14/20\n",
      "37917/37917 [==============================] - 1s 39us/step - loss: 1.1407 - categorical_accuracy: 0.5018 - val_loss: 1.1449 - val_categorical_accuracy: 0.4928\n",
      "\n",
      "Epoch 00014: val_loss improved from 1.16454 to 1.14489, saving model to ./saved_model/Ali_switch_0602_G.h5\n",
      "Epoch 15/20\n",
      "37917/37917 [==============================] - 1s 39us/step - loss: 1.1380 - categorical_accuracy: 0.5018 - val_loss: 1.1559 - val_categorical_accuracy: 0.4886\n",
      "\n",
      "Epoch 00015: val_loss did not improve from 1.14489\n",
      "Epoch 16/20\n",
      "37917/37917 [==============================] - 1s 39us/step - loss: 1.1380 - categorical_accuracy: 0.5013 - val_loss: 1.1453 - val_categorical_accuracy: 0.4997\n",
      "\n",
      "Epoch 00016: val_loss did not improve from 1.14489\n",
      "Epoch 17/20\n",
      "37917/37917 [==============================] - 1s 39us/step - loss: 1.1370 - categorical_accuracy: 0.5017 - val_loss: 1.1464 - val_categorical_accuracy: 0.4994\n",
      "\n",
      "Epoch 00017: val_loss did not improve from 1.14489\n",
      "Epoch 18/20\n",
      "37917/37917 [==============================] - 1s 39us/step - loss: 1.1355 - categorical_accuracy: 0.5045 - val_loss: 1.1460 - val_categorical_accuracy: 0.4957\n",
      "\n",
      "Epoch 00018: val_loss did not improve from 1.14489\n",
      "Epoch 19/20\n",
      "37917/37917 [==============================] - 1s 39us/step - loss: 1.1332 - categorical_accuracy: 0.5045 - val_loss: 1.1736 - val_categorical_accuracy: 0.4902\n",
      "\n",
      "Epoch 00019: val_loss did not improve from 1.14489\n",
      "Epoch 20/20\n",
      "37917/37917 [==============================] - 1s 39us/step - loss: 1.1318 - categorical_accuracy: 0.5060 - val_loss: 1.1520 - val_categorical_accuracy: 0.4971\n",
      "\n",
      "Epoch 00020: val_loss did not improve from 1.14489\n"
     ]
    }
   ],
   "source": [
    "history = model.fit(X_train,\n",
    "                    y_train,\n",
    "                    epochs=20,\n",
    "                    batch_size=64,\n",
    "                    validation_split=.3,\n",
    "                    verbose=1,\n",
    "                    callbacks=callbacks_list)"
   ]
  },
  {
   "cell_type": "code",
   "execution_count": 68,
   "metadata": {},
   "outputs": [
    {
     "data": {
      "text/plain": [
       "dict_keys(['val_loss', 'val_categorical_accuracy', 'loss', 'categorical_accuracy'])"
      ]
     },
     "execution_count": 68,
     "metadata": {},
     "output_type": "execute_result"
    }
   ],
   "source": [
    "history.history.keys()"
   ]
  },
  {
   "cell_type": "code",
   "execution_count": 69,
   "metadata": {},
   "outputs": [
    {
     "data": {
      "text/plain": [
       "<matplotlib.axes._subplots.AxesSubplot at 0x7fceb6ff3a10>"
      ]
     },
     "execution_count": 69,
     "metadata": {},
     "output_type": "execute_result"
    },
    {
     "data": {
      "image/png": "[encoded data removed]",
      "text/plain": [
       "<Figure size 432x288 with 1 Axes>"
      ]
     },
     "metadata": {
      "needs_background": "light"
     },
     "output_type": "display_data"
    }
   ],
   "source": [
    "pd.DataFrame(history.history)[['loss', 'val_loss']].plot()"
   ]
  },
  {
   "cell_type": "code",
   "execution_count": 70,
   "metadata": {},
   "outputs": [
    {
     "data": {
      "text/plain": [
       "<matplotlib.axes._subplots.AxesSubplot at 0x7fceb221a850>"
      ]
     },
     "execution_count": 70,
     "metadata": {},
     "output_type": "execute_result"
    },
    {
     "data": {
      "image/png": "[encoded data removed]",
      "text/plain": [
       "<Figure size 432x288 with 1 Axes>"
      ]
     },
     "metadata": {
      "needs_background": "light"
     },
     "output_type": "display_data"
    }
   ],
   "source": [
    "pd.DataFrame(history.history)[['categorical_accuracy', 'val_categorical_accuracy']].plot()"
   ]
  },
  {
   "cell_type": "markdown",
   "metadata": {},
   "source": [
    "---"
   ]
  },
  {
   "cell_type": "code",
   "execution_count": 481,
   "metadata": {},
   "outputs": [],
   "source": [
    "model = models.load_model('./saved_model/Ali_switch_0602_G.h5')"
   ]
  },
  {
   "cell_type": "code",
   "execution_count": 71,
   "metadata": {},
   "outputs": [
    {
     "name": "stderr",
     "output_type": "stream",
     "text": [
      "54168it [00:04, 11226.40it/s]\n"
     ]
    }
   ],
   "source": [
    "target_log_dict = {}\n",
    "next_log_dict = {}\n",
    "for row in tqdm(df_table.iterrows()):\n",
    "    target_log_dict[row[1]['target_iid']] = row[1]['target_log']\n",
    "    next_log_dict[row[1]['next_iid']] = row[1]['next_log']"
   ]
  },
  {
   "cell_type": "code",
   "execution_count": 72,
   "metadata": {},
   "outputs": [
    {
     "data": {
      "text/plain": [
       "18030"
      ]
     },
     "execution_count": 72,
     "metadata": {},
     "output_type": "execute_result"
    }
   ],
   "source": [
    "len(target_log_dict)"
   ]
  },
  {
   "cell_type": "code",
   "execution_count": 74,
   "metadata": {},
   "outputs": [
    {
     "data": {
      "text/plain": [
       "16485"
      ]
     },
     "execution_count": 74,
     "metadata": {},
     "output_type": "execute_result"
    }
   ],
   "source": [
    "len(next_log_dict)"
   ]
  },
  {
   "cell_type": "code",
   "execution_count": 76,
   "metadata": {},
   "outputs": [],
   "source": [
    "with open('freq_dict.pkl', 'wb') as file:\n",
    "    pickle.dump((target_log_dict, next_log_dict), file)"
   ]
  },
  {
   "cell_type": "code",
   "execution_count": 77,
   "metadata": {},
   "outputs": [
    {
     "data": {
      "text/plain": [
       "0.25972542779450597"
      ]
     },
     "execution_count": 77,
     "metadata": {},
     "output_type": "execute_result"
    }
   ],
   "source": [
    "next_log_dict[2760413]"
   ]
  },
  {
   "cell_type": "markdown",
   "metadata": {},
   "source": [
    "---"
   ]
  },
  {
   "cell_type": "code",
   "execution_count": 25,
   "metadata": {},
   "outputs": [],
   "source": [
    "df_table_testday = pd.concat(lt_df[4:], ignore_index=True)"
   ]
  },
  {
   "cell_type": "code",
   "execution_count": 26,
   "metadata": {},
   "outputs": [],
   "source": [
    "# df_table_testday.drop_duplicates(inplace=True, ignore_index=True)"
   ]
  },
  {
   "cell_type": "code",
   "execution_count": 27,
   "metadata": {},
   "outputs": [
    {
     "data": {
      "text/html": [
       "<div>\n",
       "<style scoped>\n",
       "    .dataframe tbody tr th:only-of-type {\n",
       "        vertical-align: middle;\n",
       "    }\n",
       "\n",
       "    .dataframe tbody tr th {\n",
       "        vertical-align: top;\n",
       "    }\n",
       "\n",
       "    .dataframe thead th {\n",
       "        text-align: right;\n",
       "    }\n",
       "</style>\n",
       "<table border=\"1\" class=\"dataframe\">\n",
       "  <thead>\n",
       "    <tr style=\"text-align: right;\">\n",
       "      <th></th>\n",
       "      <th>target_iid</th>\n",
       "      <th>next_iid</th>\n",
       "      <th>knn_rank</th>\n",
       "      <th>NN_rank</th>\n",
       "      <th>DIN_rank</th>\n",
       "      <th>DIEN_rank</th>\n",
       "      <th>label</th>\n",
       "    </tr>\n",
       "  </thead>\n",
       "  <tbody>\n",
       "    <tr>\n",
       "      <th>count</th>\n",
       "      <td>57168.00</td>\n",
       "      <td>57168.00</td>\n",
       "      <td>57168.00</td>\n",
       "      <td>57168.00</td>\n",
       "      <td>57168.00</td>\n",
       "      <td>57168.00</td>\n",
       "      <td>57168.00</td>\n",
       "    </tr>\n",
       "    <tr>\n",
       "      <th>mean</th>\n",
       "      <td>2583610.90</td>\n",
       "      <td>2583089.62</td>\n",
       "      <td>30.08</td>\n",
       "      <td>32.00</td>\n",
       "      <td>47.66</td>\n",
       "      <td>50.02</td>\n",
       "      <td>1.05</td>\n",
       "    </tr>\n",
       "    <tr>\n",
       "      <th>std</th>\n",
       "      <td>1475124.52</td>\n",
       "      <td>1469947.44</td>\n",
       "      <td>28.00</td>\n",
       "      <td>27.84</td>\n",
       "      <td>27.97</td>\n",
       "      <td>28.79</td>\n",
       "      <td>1.06</td>\n",
       "    </tr>\n",
       "    <tr>\n",
       "      <th>min</th>\n",
       "      <td>72.00</td>\n",
       "      <td>608.00</td>\n",
       "      <td>1.00</td>\n",
       "      <td>1.00</td>\n",
       "      <td>1.00</td>\n",
       "      <td>1.00</td>\n",
       "      <td>0.00</td>\n",
       "    </tr>\n",
       "    <tr>\n",
       "      <th>25%</th>\n",
       "      <td>1320123.00</td>\n",
       "      <td>1341094.75</td>\n",
       "      <td>6.00</td>\n",
       "      <td>8.00</td>\n",
       "      <td>24.00</td>\n",
       "      <td>25.00</td>\n",
       "      <td>0.00</td>\n",
       "    </tr>\n",
       "    <tr>\n",
       "      <th>50%</th>\n",
       "      <td>2598281.00</td>\n",
       "      <td>2587102.50</td>\n",
       "      <td>20.00</td>\n",
       "      <td>24.00</td>\n",
       "      <td>46.00</td>\n",
       "      <td>50.00</td>\n",
       "      <td>1.00</td>\n",
       "    </tr>\n",
       "    <tr>\n",
       "      <th>75%</th>\n",
       "      <td>3849172.00</td>\n",
       "      <td>3853076.00</td>\n",
       "      <td>49.00</td>\n",
       "      <td>51.00</td>\n",
       "      <td>71.00</td>\n",
       "      <td>75.00</td>\n",
       "      <td>2.00</td>\n",
       "    </tr>\n",
       "    <tr>\n",
       "      <th>max</th>\n",
       "      <td>5162674.00</td>\n",
       "      <td>5163006.00</td>\n",
       "      <td>99.00</td>\n",
       "      <td>99.00</td>\n",
       "      <td>99.00</td>\n",
       "      <td>99.00</td>\n",
       "      <td>3.00</td>\n",
       "    </tr>\n",
       "  </tbody>\n",
       "</table>\n",
       "</div>"
      ],
      "text/plain": [
       "       target_iid   next_iid  knn_rank  NN_rank  DIN_rank  DIEN_rank    label\n",
       "count    57168.00   57168.00  57168.00 57168.00  57168.00   57168.00 57168.00\n",
       "mean   2583610.90 2583089.62     30.08    32.00     47.66      50.02     1.05\n",
       "std    1475124.52 1469947.44     28.00    27.84     27.97      28.79     1.06\n",
       "min         72.00     608.00      1.00     1.00      1.00       1.00     0.00\n",
       "25%    1320123.00 1341094.75      6.00     8.00     24.00      25.00     0.00\n",
       "50%    2598281.00 2587102.50     20.00    24.00     46.00      50.00     1.00\n",
       "75%    3849172.00 3853076.00     49.00    51.00     71.00      75.00     2.00\n",
       "max    5162674.00 5163006.00     99.00    99.00     99.00      99.00     3.00"
      ]
     },
     "execution_count": 27,
     "metadata": {},
     "output_type": "execute_result"
    }
   ],
   "source": [
    "df_table_testday.describe()"
   ]
  },
  {
   "cell_type": "code",
   "execution_count": 28,
   "metadata": {},
   "outputs": [],
   "source": [
    "df_table_testday = pd.merge(df_table_testday, pd.DataFrame(table_grby.size()), on=['target_iid'], how='left')"
   ]
  },
  {
   "cell_type": "code",
   "execution_count": 29,
   "metadata": {},
   "outputs": [],
   "source": [
    "df_table_testday.rename(columns = {0:'target_occur'}, inplace=True)"
   ]
  },
  {
   "cell_type": "code",
   "execution_count": 30,
   "metadata": {},
   "outputs": [],
   "source": [
    "df_table_testday['target_occur'].fillna(1, inplace=True)"
   ]
  },
  {
   "cell_type": "code",
   "execution_count": 31,
   "metadata": {},
   "outputs": [],
   "source": [
    "df_table_testday = pd.merge(df_table_testday, pd.DataFrame(table_grby_next.size()), on=['next_iid'], how='left')"
   ]
  },
  {
   "cell_type": "code",
   "execution_count": 32,
   "metadata": {},
   "outputs": [],
   "source": [
    "df_table_testday.rename(columns = {0:'next_occur'}, inplace=True)"
   ]
  },
  {
   "cell_type": "code",
   "execution_count": 33,
   "metadata": {},
   "outputs": [],
   "source": [
    "df_table_testday['next_occur'].fillna(1, inplace=True)"
   ]
  },
  {
   "cell_type": "markdown",
   "metadata": {},
   "source": [
    "---"
   ]
  },
  {
   "cell_type": "code",
   "execution_count": 29,
   "metadata": {
    "collapsed": true,
    "jupyter": {
     "outputs_hidden": true
    }
   },
   "outputs": [
    {
     "data": {
      "text/html": [
       "<div>\n",
       "<style scoped>\n",
       "    .dataframe tbody tr th:only-of-type {\n",
       "        vertical-align: middle;\n",
       "    }\n",
       "\n",
       "    .dataframe tbody tr th {\n",
       "        vertical-align: top;\n",
       "    }\n",
       "\n",
       "    .dataframe thead th {\n",
       "        text-align: right;\n",
       "    }\n",
       "</style>\n",
       "<table border=\"1\" class=\"dataframe\">\n",
       "  <thead>\n",
       "    <tr style=\"text-align: right;\">\n",
       "      <th></th>\n",
       "      <th>0</th>\n",
       "    </tr>\n",
       "    <tr>\n",
       "      <th>target_iid</th>\n",
       "      <th></th>\n",
       "    </tr>\n",
       "  </thead>\n",
       "  <tbody>\n",
       "    <tr>\n",
       "      <th>324</th>\n",
       "      <td>1</td>\n",
       "    </tr>\n",
       "    <tr>\n",
       "      <th>764</th>\n",
       "      <td>1</td>\n",
       "    </tr>\n",
       "    <tr>\n",
       "      <th>1006</th>\n",
       "      <td>1</td>\n",
       "    </tr>\n",
       "    <tr>\n",
       "      <th>1197</th>\n",
       "      <td>1</td>\n",
       "    </tr>\n",
       "    <tr>\n",
       "      <th>1260</th>\n",
       "      <td>2</td>\n",
       "    </tr>\n",
       "    <tr>\n",
       "      <th>...</th>\n",
       "      <td>...</td>\n",
       "    </tr>\n",
       "    <tr>\n",
       "      <th>5162394</th>\n",
       "      <td>2</td>\n",
       "    </tr>\n",
       "    <tr>\n",
       "      <th>5162674</th>\n",
       "      <td>1</td>\n",
       "    </tr>\n",
       "    <tr>\n",
       "      <th>5162860</th>\n",
       "      <td>1</td>\n",
       "    </tr>\n",
       "    <tr>\n",
       "      <th>5163001</th>\n",
       "      <td>1</td>\n",
       "    </tr>\n",
       "    <tr>\n",
       "      <th>5163006</th>\n",
       "      <td>1</td>\n",
       "    </tr>\n",
       "  </tbody>\n",
       "</table>\n",
       "<p>18030 rows × 1 columns</p>\n",
       "</div>"
      ],
      "text/plain": [
       "            0\n",
       "target_iid   \n",
       "324         1\n",
       "764         1\n",
       "1006        1\n",
       "1197        1\n",
       "1260        2\n",
       "...        ..\n",
       "5162394     2\n",
       "5162674     1\n",
       "5162860     1\n",
       "5163001     1\n",
       "5163006     1\n",
       "\n",
       "[18030 rows x 1 columns]"
      ]
     },
     "execution_count": 29,
     "metadata": {},
     "output_type": "execute_result"
    }
   ],
   "source": [
    "table_grby = full_table.groupby(['target_iid'])\n",
    "pd.DataFrame(table_grby.size())"
   ]
  },
  {
   "cell_type": "code",
   "execution_count": 19,
   "metadata": {},
   "outputs": [],
   "source": [
    "df_table  = pd.merge(full_table, pd.DataFrame(table_grby.size()), on=['target_iid'], how='left')\n",
    "df_table.rename(columns = {0:'target_occur'}, inplace=True)"
   ]
  },
  {
   "cell_type": "code",
   "execution_count": 20,
   "metadata": {},
   "outputs": [],
   "source": [
    "max_occur_target = max(df_table['target_occur'])"
   ]
  },
  {
   "cell_type": "code",
   "execution_count": 21,
   "metadata": {},
   "outputs": [],
   "source": [
    "df_table['target_log'] = df_table.apply(lambda df: log10(df['target_occur'])/log10(max_occur_target), axis=1)"
   ]
  },
  {
   "cell_type": "code",
   "execution_count": 22,
   "metadata": {
    "collapsed": true,
    "jupyter": {
     "outputs_hidden": true
    }
   },
   "outputs": [
    {
     "data": {
      "text/html": [
       "<div>\n",
       "<style scoped>\n",
       "    .dataframe tbody tr th:only-of-type {\n",
       "        vertical-align: middle;\n",
       "    }\n",
       "\n",
       "    .dataframe tbody tr th {\n",
       "        vertical-align: top;\n",
       "    }\n",
       "\n",
       "    .dataframe thead th {\n",
       "        text-align: right;\n",
       "    }\n",
       "</style>\n",
       "<table border=\"1\" class=\"dataframe\">\n",
       "  <thead>\n",
       "    <tr style=\"text-align: right;\">\n",
       "      <th></th>\n",
       "      <th>uid</th>\n",
       "      <th>hist_iid</th>\n",
       "      <th>hist_cid</th>\n",
       "      <th>target_iid</th>\n",
       "      <th>target_cid</th>\n",
       "      <th>next_iid</th>\n",
       "      <th>next_cid</th>\n",
       "      <th>knn_rank</th>\n",
       "      <th>NN_rank</th>\n",
       "      <th>DIN_rank</th>\n",
       "      <th>DIEN_rank</th>\n",
       "      <th>label</th>\n",
       "      <th>hist_len</th>\n",
       "      <th>train_label</th>\n",
       "      <th>target_occur</th>\n",
       "      <th>target_log</th>\n",
       "    </tr>\n",
       "  </thead>\n",
       "  <tbody>\n",
       "    <tr>\n",
       "      <th>0</th>\n",
       "      <td>7</td>\n",
       "      <td>[980099, 3427154, 2689961, 2292610, 4034225, 5...</td>\n",
       "      <td>[2355072, 4801426, 4756105, 4756105, 3607361, ...</td>\n",
       "      <td>2063176</td>\n",
       "      <td>149192</td>\n",
       "      <td>1793668</td>\n",
       "      <td>2520377</td>\n",
       "      <td>53.00</td>\n",
       "      <td>40</td>\n",
       "      <td>95.00</td>\n",
       "      <td>45</td>\n",
       "      <td>1</td>\n",
       "      <td>16</td>\n",
       "      <td>[0.0, 1.0, 0.0, 0.0]</td>\n",
       "      <td>4</td>\n",
       "      <td>0.27</td>\n",
       "    </tr>\n",
       "    <tr>\n",
       "      <th>1</th>\n",
       "      <td>96</td>\n",
       "      <td>[3005381, 4160584]</td>\n",
       "      <td>[1464116, 3607361]</td>\n",
       "      <td>4160584</td>\n",
       "      <td>3607361</td>\n",
       "      <td>13283</td>\n",
       "      <td>3607361</td>\n",
       "      <td>5.00</td>\n",
       "      <td>7</td>\n",
       "      <td>15.00</td>\n",
       "      <td>94</td>\n",
       "      <td>0</td>\n",
       "      <td>2</td>\n",
       "      <td>[1.0, 0.0, 0.0, 0.0]</td>\n",
       "      <td>1</td>\n",
       "      <td>0.00</td>\n",
       "    </tr>\n",
       "    <tr>\n",
       "      <th>2</th>\n",
       "      <td>152</td>\n",
       "      <td>[842950, 3048082, 3682882]</td>\n",
       "      <td>[4145813, 4181361, 4181361]</td>\n",
       "      <td>3682882</td>\n",
       "      <td>4181361</td>\n",
       "      <td>3739757</td>\n",
       "      <td>4181361</td>\n",
       "      <td>6.00</td>\n",
       "      <td>6</td>\n",
       "      <td>45.00</td>\n",
       "      <td>18</td>\n",
       "      <td>0</td>\n",
       "      <td>3</td>\n",
       "      <td>[1.0, 0.0, 0.0, 0.0]</td>\n",
       "      <td>1</td>\n",
       "      <td>0.00</td>\n",
       "    </tr>\n",
       "    <tr>\n",
       "      <th>3</th>\n",
       "      <td>239</td>\n",
       "      <td>[709710, 4826455, 709710, 1992230, 1842641, 45...</td>\n",
       "      <td>[1787510, 1787510, 1787510, 2465336, 2976589, ...</td>\n",
       "      <td>5030834</td>\n",
       "      <td>1787510</td>\n",
       "      <td>24834</td>\n",
       "      <td>1787510</td>\n",
       "      <td>28.00</td>\n",
       "      <td>16</td>\n",
       "      <td>89.00</td>\n",
       "      <td>11</td>\n",
       "      <td>3</td>\n",
       "      <td>66</td>\n",
       "      <td>[0.0, 0.0, 0.0, 1.0]</td>\n",
       "      <td>15</td>\n",
       "      <td>0.52</td>\n",
       "    </tr>\n",
       "    <tr>\n",
       "      <th>4</th>\n",
       "      <td>339</td>\n",
       "      <td>[3437026, 3523692, 1850821, 1687195, 2487310, ...</td>\n",
       "      <td>[3738615, 2558244, 4756105, 4022701, 3738615, ...</td>\n",
       "      <td>222342</td>\n",
       "      <td>4244487</td>\n",
       "      <td>1692072</td>\n",
       "      <td>4244487</td>\n",
       "      <td>4.00</td>\n",
       "      <td>1</td>\n",
       "      <td>50.00</td>\n",
       "      <td>61</td>\n",
       "      <td>1</td>\n",
       "      <td>17</td>\n",
       "      <td>[0.0, 1.0, 0.0, 0.0]</td>\n",
       "      <td>28</td>\n",
       "      <td>0.64</td>\n",
       "    </tr>\n",
       "    <tr>\n",
       "      <th>...</th>\n",
       "      <td>...</td>\n",
       "      <td>...</td>\n",
       "      <td>...</td>\n",
       "      <td>...</td>\n",
       "      <td>...</td>\n",
       "      <td>...</td>\n",
       "      <td>...</td>\n",
       "      <td>...</td>\n",
       "      <td>...</td>\n",
       "      <td>...</td>\n",
       "      <td>...</td>\n",
       "      <td>...</td>\n",
       "      <td>...</td>\n",
       "      <td>...</td>\n",
       "      <td>...</td>\n",
       "      <td>...</td>\n",
       "    </tr>\n",
       "    <tr>\n",
       "      <th>54163</th>\n",
       "      <td>1017568</td>\n",
       "      <td>[2588261, 3012274, 3251448]</td>\n",
       "      <td>[4462359, 4462359, 4462359]</td>\n",
       "      <td>3251448</td>\n",
       "      <td>4462359</td>\n",
       "      <td>3916424</td>\n",
       "      <td>4462359</td>\n",
       "      <td>6.00</td>\n",
       "      <td>2</td>\n",
       "      <td>37.00</td>\n",
       "      <td>28</td>\n",
       "      <td>1</td>\n",
       "      <td>3</td>\n",
       "      <td>[0.0, 1.0, 0.0, 0.0]</td>\n",
       "      <td>26</td>\n",
       "      <td>0.63</td>\n",
       "    </tr>\n",
       "    <tr>\n",
       "      <th>54164</th>\n",
       "      <td>1017699</td>\n",
       "      <td>[4093995, 4624511, 2501731, 10108, 2663450]</td>\n",
       "      <td>[1464116, 1464116, 4145813, 1464116, 1464116]</td>\n",
       "      <td>2663450</td>\n",
       "      <td>1464116</td>\n",
       "      <td>3941700</td>\n",
       "      <td>1464116</td>\n",
       "      <td>18.00</td>\n",
       "      <td>33</td>\n",
       "      <td>79.00</td>\n",
       "      <td>86</td>\n",
       "      <td>0</td>\n",
       "      <td>5</td>\n",
       "      <td>[1.0, 0.0, 0.0, 0.0]</td>\n",
       "      <td>12</td>\n",
       "      <td>0.48</td>\n",
       "    </tr>\n",
       "    <tr>\n",
       "      <th>54165</th>\n",
       "      <td>1017725</td>\n",
       "      <td>[1586145, 2523726, 4974006, 1177678, 4505760, ...</td>\n",
       "      <td>[3002561, 3002561, 3002561, 3002561, 3002561, ...</td>\n",
       "      <td>2415077</td>\n",
       "      <td>2355072</td>\n",
       "      <td>3198981</td>\n",
       "      <td>2355072</td>\n",
       "      <td>22.00</td>\n",
       "      <td>11</td>\n",
       "      <td>19.00</td>\n",
       "      <td>70</td>\n",
       "      <td>1</td>\n",
       "      <td>42</td>\n",
       "      <td>[0.0, 1.0, 0.0, 0.0]</td>\n",
       "      <td>1</td>\n",
       "      <td>0.00</td>\n",
       "    </tr>\n",
       "    <tr>\n",
       "      <th>54166</th>\n",
       "      <td>1017744</td>\n",
       "      <td>[1498368, 5104260, 2334734, 2926378, 1920864, ...</td>\n",
       "      <td>[846990, 982926, 2520377, 2520377, 2520377, 25...</td>\n",
       "      <td>2760413</td>\n",
       "      <td>2465336</td>\n",
       "      <td>3834207</td>\n",
       "      <td>2735466</td>\n",
       "      <td>8.00</td>\n",
       "      <td>19</td>\n",
       "      <td>24.00</td>\n",
       "      <td>97</td>\n",
       "      <td>0</td>\n",
       "      <td>23</td>\n",
       "      <td>[1.0, 0.0, 0.0, 0.0]</td>\n",
       "      <td>7</td>\n",
       "      <td>0.38</td>\n",
       "    </tr>\n",
       "    <tr>\n",
       "      <th>54167</th>\n",
       "      <td>1017898</td>\n",
       "      <td>[3423443, 3985270, 2671531, 3119053, 1482032, ...</td>\n",
       "      <td>[2096639, 2096639, 2096639, 2096639, 2096639, ...</td>\n",
       "      <td>730324</td>\n",
       "      <td>2096639</td>\n",
       "      <td>2236861</td>\n",
       "      <td>2096639</td>\n",
       "      <td>77.00</td>\n",
       "      <td>24</td>\n",
       "      <td>56.00</td>\n",
       "      <td>34</td>\n",
       "      <td>1</td>\n",
       "      <td>11</td>\n",
       "      <td>[0.0, 1.0, 0.0, 0.0]</td>\n",
       "      <td>110</td>\n",
       "      <td>0.91</td>\n",
       "    </tr>\n",
       "  </tbody>\n",
       "</table>\n",
       "<p>54168 rows × 16 columns</p>\n",
       "</div>"
      ],
      "text/plain": [
       "           uid                                           hist_iid  \\\n",
       "0            7  [980099, 3427154, 2689961, 2292610, 4034225, 5...   \n",
       "1           96                                 [3005381, 4160584]   \n",
       "2          152                         [842950, 3048082, 3682882]   \n",
       "3          239  [709710, 4826455, 709710, 1992230, 1842641, 45...   \n",
       "4          339  [3437026, 3523692, 1850821, 1687195, 2487310, ...   \n",
       "...        ...                                                ...   \n",
       "54163  1017568                        [2588261, 3012274, 3251448]   \n",
       "54164  1017699        [4093995, 4624511, 2501731, 10108, 2663450]   \n",
       "54165  1017725  [1586145, 2523726, 4974006, 1177678, 4505760, ...   \n",
       "54166  1017744  [1498368, 5104260, 2334734, 2926378, 1920864, ...   \n",
       "54167  1017898  [3423443, 3985270, 2671531, 3119053, 1482032, ...   \n",
       "\n",
       "                                                hist_cid  target_iid  \\\n",
       "0      [2355072, 4801426, 4756105, 4756105, 3607361, ...     2063176   \n",
       "1                                     [1464116, 3607361]     4160584   \n",
       "2                            [4145813, 4181361, 4181361]     3682882   \n",
       "3      [1787510, 1787510, 1787510, 2465336, 2976589, ...     5030834   \n",
       "4      [3738615, 2558244, 4756105, 4022701, 3738615, ...      222342   \n",
       "...                                                  ...         ...   \n",
       "54163                        [4462359, 4462359, 4462359]     3251448   \n",
       "54164      [1464116, 1464116, 4145813, 1464116, 1464116]     2663450   \n",
       "54165  [3002561, 3002561, 3002561, 3002561, 3002561, ...     2415077   \n",
       "54166  [846990, 982926, 2520377, 2520377, 2520377, 25...     2760413   \n",
       "54167  [2096639, 2096639, 2096639, 2096639, 2096639, ...      730324   \n",
       "\n",
       "       target_cid  next_iid  next_cid  knn_rank  NN_rank  DIN_rank  DIEN_rank  \\\n",
       "0          149192   1793668   2520377     53.00       40     95.00         45   \n",
       "1         3607361     13283   3607361      5.00        7     15.00         94   \n",
       "2         4181361   3739757   4181361      6.00        6     45.00         18   \n",
       "3         1787510     24834   1787510     28.00       16     89.00         11   \n",
       "4         4244487   1692072   4244487      4.00        1     50.00         61   \n",
       "...           ...       ...       ...       ...      ...       ...        ...   \n",
       "54163     4462359   3916424   4462359      6.00        2     37.00         28   \n",
       "54164     1464116   3941700   1464116     18.00       33     79.00         86   \n",
       "54165     2355072   3198981   2355072     22.00       11     19.00         70   \n",
       "54166     2465336   3834207   2735466      8.00       19     24.00         97   \n",
       "54167     2096639   2236861   2096639     77.00       24     56.00         34   \n",
       "\n",
       "       label  hist_len           train_label  target_occur  target_log  \n",
       "0          1        16  [0.0, 1.0, 0.0, 0.0]             4        0.27  \n",
       "1          0         2  [1.0, 0.0, 0.0, 0.0]             1        0.00  \n",
       "2          0         3  [1.0, 0.0, 0.0, 0.0]             1        0.00  \n",
       "3          3        66  [0.0, 0.0, 0.0, 1.0]            15        0.52  \n",
       "4          1        17  [0.0, 1.0, 0.0, 0.0]            28        0.64  \n",
       "...      ...       ...                   ...           ...         ...  \n",
       "54163      1         3  [0.0, 1.0, 0.0, 0.0]            26        0.63  \n",
       "54164      0         5  [1.0, 0.0, 0.0, 0.0]            12        0.48  \n",
       "54165      1        42  [0.0, 1.0, 0.0, 0.0]             1        0.00  \n",
       "54166      0        23  [1.0, 0.0, 0.0, 0.0]             7        0.38  \n",
       "54167      1        11  [0.0, 1.0, 0.0, 0.0]           110        0.91  \n",
       "\n",
       "[54168 rows x 16 columns]"
      ]
     },
     "execution_count": 22,
     "metadata": {},
     "output_type": "execute_result"
    }
   ],
   "source": [
    "df_table"
   ]
  },
  {
   "cell_type": "code",
   "execution_count": 23,
   "metadata": {
    "collapsed": true,
    "jupyter": {
     "outputs_hidden": true
    }
   },
   "outputs": [
    {
     "data": {
      "text/html": [
       "<div>\n",
       "<style scoped>\n",
       "    .dataframe tbody tr th:only-of-type {\n",
       "        vertical-align: middle;\n",
       "    }\n",
       "\n",
       "    .dataframe tbody tr th {\n",
       "        vertical-align: top;\n",
       "    }\n",
       "\n",
       "    .dataframe thead th {\n",
       "        text-align: right;\n",
       "    }\n",
       "</style>\n",
       "<table border=\"1\" class=\"dataframe\">\n",
       "  <thead>\n",
       "    <tr style=\"text-align: right;\">\n",
       "      <th></th>\n",
       "      <th>0</th>\n",
       "    </tr>\n",
       "    <tr>\n",
       "      <th>next_iid</th>\n",
       "      <th></th>\n",
       "    </tr>\n",
       "  </thead>\n",
       "  <tbody>\n",
       "    <tr>\n",
       "      <th>81</th>\n",
       "      <td>1</td>\n",
       "    </tr>\n",
       "    <tr>\n",
       "      <th>142</th>\n",
       "      <td>1</td>\n",
       "    </tr>\n",
       "    <tr>\n",
       "      <th>764</th>\n",
       "      <td>1</td>\n",
       "    </tr>\n",
       "    <tr>\n",
       "      <th>1006</th>\n",
       "      <td>3</td>\n",
       "    </tr>\n",
       "    <tr>\n",
       "      <th>1197</th>\n",
       "      <td>6</td>\n",
       "    </tr>\n",
       "    <tr>\n",
       "      <th>...</th>\n",
       "      <td>...</td>\n",
       "    </tr>\n",
       "    <tr>\n",
       "      <th>5161600</th>\n",
       "      <td>1</td>\n",
       "    </tr>\n",
       "    <tr>\n",
       "      <th>5161641</th>\n",
       "      <td>1</td>\n",
       "    </tr>\n",
       "    <tr>\n",
       "      <th>5161668</th>\n",
       "      <td>1</td>\n",
       "    </tr>\n",
       "    <tr>\n",
       "      <th>5162531</th>\n",
       "      <td>1</td>\n",
       "    </tr>\n",
       "    <tr>\n",
       "      <th>5162806</th>\n",
       "      <td>2</td>\n",
       "    </tr>\n",
       "  </tbody>\n",
       "</table>\n",
       "<p>16485 rows × 1 columns</p>\n",
       "</div>"
      ],
      "text/plain": [
       "          0\n",
       "next_iid   \n",
       "81        1\n",
       "142       1\n",
       "764       1\n",
       "1006      3\n",
       "1197      6\n",
       "...      ..\n",
       "5161600   1\n",
       "5161641   1\n",
       "5161668   1\n",
       "5162531   1\n",
       "5162806   2\n",
       "\n",
       "[16485 rows x 1 columns]"
      ]
     },
     "execution_count": 23,
     "metadata": {},
     "output_type": "execute_result"
    }
   ],
   "source": [
    "table_grby_next = full_table.groupby(['next_iid'])\n",
    "pd.DataFrame(table_grby_next.size())"
   ]
  },
  {
   "cell_type": "code",
   "execution_count": 24,
   "metadata": {},
   "outputs": [],
   "source": [
    "df_table  = pd.merge(df_table, pd.DataFrame(table_grby_next.size()), on=['next_iid'], how='left')\n",
    "df_table.rename(columns = {0:'next_occur'}, inplace=True)"
   ]
  },
  {
   "cell_type": "code",
   "execution_count": 25,
   "metadata": {},
   "outputs": [],
   "source": [
    "max_occur_next = max(df_table['next_occur'])"
   ]
  },
  {
   "cell_type": "code",
   "execution_count": 26,
   "metadata": {},
   "outputs": [],
   "source": [
    "df_table['next_log'] = df_table.apply(lambda df: log10(df['next_occur'])/log10(max_occur_next), axis=1)"
   ]
  },
  {
   "cell_type": "markdown",
   "metadata": {},
   "source": [
    "---"
   ]
  },
  {
   "cell_type": "code",
   "execution_count": 34,
   "metadata": {},
   "outputs": [],
   "source": [
    "pred_dict = {}\n",
    "for part in range(1, 5):\n",
    "    with open('pred_dict/pred_dict_' + str(part) + '.pkl', 'rb') as file:\n",
    "        pred_dict.update(pickle.load(file))"
   ]
  },
  {
   "cell_type": "code",
   "execution_count": 35,
   "metadata": {},
   "outputs": [
    {
     "data": {
      "text/plain": [
       "1550512"
      ]
     },
     "execution_count": 35,
     "metadata": {},
     "output_type": "execute_result"
    }
   ],
   "source": [
    "len(pred_dict)"
   ]
  },
  {
   "cell_type": "code",
   "execution_count": 36,
   "metadata": {},
   "outputs": [],
   "source": [
    "with open('./freq_dict.pkl', 'rb') as file:\n",
    "    target_log_dict, next_log_dict = pickle.load(file)"
   ]
  },
  {
   "cell_type": "code",
   "execution_count": 37,
   "metadata": {},
   "outputs": [],
   "source": [
    "model_w2v = Word2Vec.load(\"../Taobao_v3/iid_1days.model\")"
   ]
  },
  {
   "cell_type": "code",
   "execution_count": 40,
   "metadata": {},
   "outputs": [],
   "source": [
    "from keras import models\n",
    "model = models.load_model('./saved_model/Ali_switch_0524_F.h5')"
   ]
  },
  {
   "cell_type": "code",
   "execution_count": 41,
   "metadata": {},
   "outputs": [],
   "source": [
    "# def pred(df):\n",
    "#     if str(df['target_iid']) not in model_w2v.wv:\n",
    "#         return 0\n",
    "#     else:\n",
    "#         return np.argmax(model.predict(np.append(model_w2v.wv[str(df['target_iid'])], df['occur_log']).reshape(1, -1))[0])\n",
    "def pred(df):\n",
    "    if (df['target_iid'] not in target_log_dict) or (df['next_iid'] not in next_log_dict):\n",
    "        if str(df['target_iid']) not in model_w2v.wv:\n",
    "            return 0\n",
    "        else:\n",
    "            return np.argmax(model.predict(np.append(model_w2v.wv[str(df['target_iid'])], df['target_log']).reshape(1, -1))[0])        \n",
    "    if df['target_iid'] not in pred_dict:\n",
    "        exit(df['target_iid'] + 'not in pred_dict')\n",
    "    else:\n",
    "        return pred_dict[df['target_iid']]"
   ]
  },
  {
   "cell_type": "code",
   "execution_count": 42,
   "metadata": {},
   "outputs": [],
   "source": [
    "def label_switch(df):\n",
    "    label = df['pred']\n",
    "    rank = None\n",
    "    if label == 0:\n",
    "        rank = df['knn_rank']\n",
    "    elif label == 1:\n",
    "        rank = df['NN_rank']\n",
    "    elif label == 2:\n",
    "        rank = df['DIN_rank']\n",
    "    elif label == 3:\n",
    "        rank = df['DIEN_rank']\n",
    "    return rank"
   ]
  },
  {
   "cell_type": "code",
   "execution_count": 43,
   "metadata": {},
   "outputs": [],
   "source": [
    "max_occur_target = max(df_table_testday['target_occur'])"
   ]
  },
  {
   "cell_type": "code",
   "execution_count": 44,
   "metadata": {},
   "outputs": [],
   "source": [
    "max_occur_next = max(df_table_testday['next_occur'])"
   ]
  },
  {
   "cell_type": "code",
   "execution_count": 45,
   "metadata": {},
   "outputs": [],
   "source": [
    "df_table_testday['target_log'] = df_table_testday.apply(lambda df: log10(df['target_occur'])/log10(max_occur_target), axis=1)"
   ]
  },
  {
   "cell_type": "code",
   "execution_count": 46,
   "metadata": {},
   "outputs": [],
   "source": [
    "df_table_testday['next_log'] = df_table_testday.apply(lambda df: log10(df['next_occur'])/log10(max_occur_next), axis=1)"
   ]
  },
  {
   "cell_type": "code",
   "execution_count": 47,
   "metadata": {},
   "outputs": [],
   "source": [
    "df_table_testday['pred'] = df_table_testday.apply(pred, axis=1)"
   ]
  },
  {
   "cell_type": "code",
   "execution_count": 48,
   "metadata": {},
   "outputs": [],
   "source": [
    "df_table_testday['pred_rank'] = df_table_testday.apply(label_switch, axis=1)"
   ]
  },
  {
   "cell_type": "code",
   "execution_count": 49,
   "metadata": {},
   "outputs": [
    {
     "data": {
      "text/html": [
       "<div>\n",
       "<style scoped>\n",
       "    .dataframe tbody tr th:only-of-type {\n",
       "        vertical-align: middle;\n",
       "    }\n",
       "\n",
       "    .dataframe tbody tr th {\n",
       "        vertical-align: top;\n",
       "    }\n",
       "\n",
       "    .dataframe thead th {\n",
       "        text-align: right;\n",
       "    }\n",
       "</style>\n",
       "<table border=\"1\" class=\"dataframe\">\n",
       "  <thead>\n",
       "    <tr style=\"text-align: right;\">\n",
       "      <th></th>\n",
       "      <th>target_iid</th>\n",
       "      <th>next_iid</th>\n",
       "      <th>knn_rank</th>\n",
       "      <th>NN_rank</th>\n",
       "      <th>DIN_rank</th>\n",
       "      <th>DIEN_rank</th>\n",
       "      <th>label</th>\n",
       "      <th>target_occur</th>\n",
       "      <th>next_occur</th>\n",
       "      <th>target_log</th>\n",
       "      <th>next_log</th>\n",
       "      <th>pred</th>\n",
       "      <th>pred_rank</th>\n",
       "    </tr>\n",
       "  </thead>\n",
       "  <tbody>\n",
       "    <tr>\n",
       "      <th>count</th>\n",
       "      <td>57168.00</td>\n",
       "      <td>57168.00</td>\n",
       "      <td>57168.00</td>\n",
       "      <td>57168.00</td>\n",
       "      <td>57168.00</td>\n",
       "      <td>57168.00</td>\n",
       "      <td>57168.00</td>\n",
       "      <td>57168.00</td>\n",
       "      <td>57168.00</td>\n",
       "      <td>57168.00</td>\n",
       "      <td>57168.00</td>\n",
       "      <td>57168.00</td>\n",
       "      <td>57168.00</td>\n",
       "    </tr>\n",
       "    <tr>\n",
       "      <th>mean</th>\n",
       "      <td>2583610.90</td>\n",
       "      <td>2583089.62</td>\n",
       "      <td>30.08</td>\n",
       "      <td>32.00</td>\n",
       "      <td>47.66</td>\n",
       "      <td>50.02</td>\n",
       "      <td>1.05</td>\n",
       "      <td>14.39</td>\n",
       "      <td>13.31</td>\n",
       "      <td>0.32</td>\n",
       "      <td>0.31</td>\n",
       "      <td>0.57</td>\n",
       "      <td>34.81</td>\n",
       "    </tr>\n",
       "    <tr>\n",
       "      <th>std</th>\n",
       "      <td>1475124.52</td>\n",
       "      <td>1469947.44</td>\n",
       "      <td>28.00</td>\n",
       "      <td>27.84</td>\n",
       "      <td>27.97</td>\n",
       "      <td>28.79</td>\n",
       "      <td>1.06</td>\n",
       "      <td>25.61</td>\n",
       "      <td>25.03</td>\n",
       "      <td>0.27</td>\n",
       "      <td>0.25</td>\n",
       "      <td>0.87</td>\n",
       "      <td>29.21</td>\n",
       "    </tr>\n",
       "    <tr>\n",
       "      <th>min</th>\n",
       "      <td>72.00</td>\n",
       "      <td>608.00</td>\n",
       "      <td>1.00</td>\n",
       "      <td>1.00</td>\n",
       "      <td>1.00</td>\n",
       "      <td>1.00</td>\n",
       "      <td>0.00</td>\n",
       "      <td>1.00</td>\n",
       "      <td>1.00</td>\n",
       "      <td>0.00</td>\n",
       "      <td>0.00</td>\n",
       "      <td>0.00</td>\n",
       "      <td>1.00</td>\n",
       "    </tr>\n",
       "    <tr>\n",
       "      <th>25%</th>\n",
       "      <td>1320123.00</td>\n",
       "      <td>1341094.75</td>\n",
       "      <td>6.00</td>\n",
       "      <td>8.00</td>\n",
       "      <td>24.00</td>\n",
       "      <td>25.00</td>\n",
       "      <td>0.00</td>\n",
       "      <td>1.00</td>\n",
       "      <td>1.00</td>\n",
       "      <td>0.00</td>\n",
       "      <td>0.00</td>\n",
       "      <td>0.00</td>\n",
       "      <td>9.00</td>\n",
       "    </tr>\n",
       "    <tr>\n",
       "      <th>50%</th>\n",
       "      <td>2598281.00</td>\n",
       "      <td>2587102.50</td>\n",
       "      <td>20.00</td>\n",
       "      <td>24.00</td>\n",
       "      <td>46.00</td>\n",
       "      <td>50.00</td>\n",
       "      <td>1.00</td>\n",
       "      <td>5.00</td>\n",
       "      <td>5.00</td>\n",
       "      <td>0.31</td>\n",
       "      <td>0.30</td>\n",
       "      <td>0.00</td>\n",
       "      <td>27.00</td>\n",
       "    </tr>\n",
       "    <tr>\n",
       "      <th>75%</th>\n",
       "      <td>3849172.00</td>\n",
       "      <td>3853076.00</td>\n",
       "      <td>49.00</td>\n",
       "      <td>51.00</td>\n",
       "      <td>71.00</td>\n",
       "      <td>75.00</td>\n",
       "      <td>2.00</td>\n",
       "      <td>16.00</td>\n",
       "      <td>13.00</td>\n",
       "      <td>0.53</td>\n",
       "      <td>0.48</td>\n",
       "      <td>1.00</td>\n",
       "      <td>57.00</td>\n",
       "    </tr>\n",
       "    <tr>\n",
       "      <th>max</th>\n",
       "      <td>5162674.00</td>\n",
       "      <td>5163006.00</td>\n",
       "      <td>99.00</td>\n",
       "      <td>99.00</td>\n",
       "      <td>99.00</td>\n",
       "      <td>99.00</td>\n",
       "      <td>3.00</td>\n",
       "      <td>179.00</td>\n",
       "      <td>208.00</td>\n",
       "      <td>1.00</td>\n",
       "      <td>1.00</td>\n",
       "      <td>3.00</td>\n",
       "      <td>99.00</td>\n",
       "    </tr>\n",
       "  </tbody>\n",
       "</table>\n",
       "</div>"
      ],
      "text/plain": [
       "       target_iid   next_iid  knn_rank  NN_rank  DIN_rank  DIEN_rank    label  \\\n",
       "count    57168.00   57168.00  57168.00 57168.00  57168.00   57168.00 57168.00   \n",
       "mean   2583610.90 2583089.62     30.08    32.00     47.66      50.02     1.05   \n",
       "std    1475124.52 1469947.44     28.00    27.84     27.97      28.79     1.06   \n",
       "min         72.00     608.00      1.00     1.00      1.00       1.00     0.00   \n",
       "25%    1320123.00 1341094.75      6.00     8.00     24.00      25.00     0.00   \n",
       "50%    2598281.00 2587102.50     20.00    24.00     46.00      50.00     1.00   \n",
       "75%    3849172.00 3853076.00     49.00    51.00     71.00      75.00     2.00   \n",
       "max    5162674.00 5163006.00     99.00    99.00     99.00      99.00     3.00   \n",
       "\n",
       "       target_occur  next_occur  target_log  next_log     pred  pred_rank  \n",
       "count      57168.00    57168.00    57168.00  57168.00 57168.00   57168.00  \n",
       "mean          14.39       13.31        0.32      0.31     0.57      34.81  \n",
       "std           25.61       25.03        0.27      0.25     0.87      29.21  \n",
       "min            1.00        1.00        0.00      0.00     0.00       1.00  \n",
       "25%            1.00        1.00        0.00      0.00     0.00       9.00  \n",
       "50%            5.00        5.00        0.31      0.30     0.00      27.00  \n",
       "75%           16.00       13.00        0.53      0.48     1.00      57.00  \n",
       "max          179.00      208.00        1.00      1.00     3.00      99.00  "
      ]
     },
     "execution_count": 49,
     "metadata": {},
     "output_type": "execute_result"
    }
   ],
   "source": [
    "df_table_testday.describe()"
   ]
  },
  {
   "cell_type": "code",
   "execution_count": 50,
   "metadata": {},
   "outputs": [
    {
     "name": "stdout",
     "output_type": "stream",
     "text": [
      "              precision    recall  f1-score   support\n",
      "\n",
      "           0       0.41      0.68      0.51     22539\n",
      "           1       0.28      0.13      0.17     17566\n",
      "           2       0.13      0.16      0.14      8632\n",
      "           3       0.12      0.02      0.04      8431\n",
      "\n",
      "    accuracy                           0.33     57168\n",
      "   macro avg       0.24      0.25      0.22     57168\n",
      "weighted avg       0.29      0.33      0.28     57168\n",
      "\n"
     ]
    }
   ],
   "source": [
    "from sklearn.metrics import classification_report,confusion_matrix\n",
    "print(classification_report(df_table_testday['label'].tolist(),df_table_testday['pred'].tolist()))"
   ]
  },
  {
   "cell_type": "code",
   "execution_count": 51,
   "metadata": {},
   "outputs": [
    {
     "data": {
      "text/html": [
       "<div>\n",
       "<style scoped>\n",
       "    .dataframe tbody tr th:only-of-type {\n",
       "        vertical-align: middle;\n",
       "    }\n",
       "\n",
       "    .dataframe tbody tr th {\n",
       "        vertical-align: top;\n",
       "    }\n",
       "\n",
       "    .dataframe thead th {\n",
       "        text-align: right;\n",
       "    }\n",
       "</style>\n",
       "<table border=\"1\" class=\"dataframe\">\n",
       "  <thead>\n",
       "    <tr style=\"text-align: right;\">\n",
       "      <th></th>\n",
       "      <th>target_iid</th>\n",
       "      <th>next_iid</th>\n",
       "      <th>knn_rank</th>\n",
       "      <th>NN_rank</th>\n",
       "      <th>DIN_rank</th>\n",
       "      <th>DIEN_rank</th>\n",
       "      <th>label</th>\n",
       "      <th>train_label</th>\n",
       "      <th>target_occur</th>\n",
       "      <th>next_occur</th>\n",
       "      <th>target_log</th>\n",
       "      <th>next_log</th>\n",
       "      <th>pred</th>\n",
       "      <th>pred_rank</th>\n",
       "    </tr>\n",
       "  </thead>\n",
       "  <tbody>\n",
       "    <tr>\n",
       "      <th>0</th>\n",
       "      <td>1994146</td>\n",
       "      <td>3715112</td>\n",
       "      <td>2.00</td>\n",
       "      <td>1</td>\n",
       "      <td>5.00</td>\n",
       "      <td>46</td>\n",
       "      <td>1</td>\n",
       "      <td>[0.0, 1.0, 0.0, 0.0]</td>\n",
       "      <td>1.00</td>\n",
       "      <td>103.00</td>\n",
       "      <td>0.00</td>\n",
       "      <td>0.87</td>\n",
       "      <td>2</td>\n",
       "      <td>5.00</td>\n",
       "    </tr>\n",
       "    <tr>\n",
       "      <th>1</th>\n",
       "      <td>4749737</td>\n",
       "      <td>3119053</td>\n",
       "      <td>73.00</td>\n",
       "      <td>36</td>\n",
       "      <td>54.00</td>\n",
       "      <td>11</td>\n",
       "      <td>3</td>\n",
       "      <td>[0.0, 0.0, 0.0, 1.0]</td>\n",
       "      <td>12.00</td>\n",
       "      <td>119.00</td>\n",
       "      <td>0.48</td>\n",
       "      <td>0.90</td>\n",
       "      <td>1</td>\n",
       "      <td>36.00</td>\n",
       "    </tr>\n",
       "    <tr>\n",
       "      <th>2</th>\n",
       "      <td>4788857</td>\n",
       "      <td>5133563</td>\n",
       "      <td>20.00</td>\n",
       "      <td>96</td>\n",
       "      <td>64.00</td>\n",
       "      <td>31</td>\n",
       "      <td>0</td>\n",
       "      <td>[1.0, 0.0, 0.0, 0.0]</td>\n",
       "      <td>1.00</td>\n",
       "      <td>8.00</td>\n",
       "      <td>0.00</td>\n",
       "      <td>0.39</td>\n",
       "      <td>0</td>\n",
       "      <td>20.00</td>\n",
       "    </tr>\n",
       "    <tr>\n",
       "      <th>3</th>\n",
       "      <td>524337</td>\n",
       "      <td>4320227</td>\n",
       "      <td>94.00</td>\n",
       "      <td>3</td>\n",
       "      <td>48.00</td>\n",
       "      <td>75</td>\n",
       "      <td>1</td>\n",
       "      <td>[0.0, 1.0, 0.0, 0.0]</td>\n",
       "      <td>1.00</td>\n",
       "      <td>1.00</td>\n",
       "      <td>0.00</td>\n",
       "      <td>0.00</td>\n",
       "      <td>0</td>\n",
       "      <td>94.00</td>\n",
       "    </tr>\n",
       "    <tr>\n",
       "      <th>4</th>\n",
       "      <td>582970</td>\n",
       "      <td>3031863</td>\n",
       "      <td>1.00</td>\n",
       "      <td>4</td>\n",
       "      <td>46.00</td>\n",
       "      <td>16</td>\n",
       "      <td>0</td>\n",
       "      <td>[1.0, 0.0, 0.0, 0.0]</td>\n",
       "      <td>21.00</td>\n",
       "      <td>19.00</td>\n",
       "      <td>0.59</td>\n",
       "      <td>0.55</td>\n",
       "      <td>0</td>\n",
       "      <td>1.00</td>\n",
       "    </tr>\n",
       "    <tr>\n",
       "      <th>...</th>\n",
       "      <td>...</td>\n",
       "      <td>...</td>\n",
       "      <td>...</td>\n",
       "      <td>...</td>\n",
       "      <td>...</td>\n",
       "      <td>...</td>\n",
       "      <td>...</td>\n",
       "      <td>...</td>\n",
       "      <td>...</td>\n",
       "      <td>...</td>\n",
       "      <td>...</td>\n",
       "      <td>...</td>\n",
       "      <td>...</td>\n",
       "      <td>...</td>\n",
       "    </tr>\n",
       "    <tr>\n",
       "      <th>57163</th>\n",
       "      <td>3251377</td>\n",
       "      <td>2944225</td>\n",
       "      <td>38.00</td>\n",
       "      <td>28</td>\n",
       "      <td>3.00</td>\n",
       "      <td>27</td>\n",
       "      <td>2</td>\n",
       "      <td>[0.0, 0.0, 1.0, 0.0]</td>\n",
       "      <td>27.00</td>\n",
       "      <td>5.00</td>\n",
       "      <td>0.64</td>\n",
       "      <td>0.30</td>\n",
       "      <td>0</td>\n",
       "      <td>38.00</td>\n",
       "    </tr>\n",
       "    <tr>\n",
       "      <th>57164</th>\n",
       "      <td>2584880</td>\n",
       "      <td>1980098</td>\n",
       "      <td>1.00</td>\n",
       "      <td>17</td>\n",
       "      <td>64.00</td>\n",
       "      <td>11</td>\n",
       "      <td>0</td>\n",
       "      <td>[1.0, 0.0, 0.0, 0.0]</td>\n",
       "      <td>4.00</td>\n",
       "      <td>3.00</td>\n",
       "      <td>0.27</td>\n",
       "      <td>0.21</td>\n",
       "      <td>0</td>\n",
       "      <td>1.00</td>\n",
       "    </tr>\n",
       "    <tr>\n",
       "      <th>57165</th>\n",
       "      <td>4852928</td>\n",
       "      <td>4632023</td>\n",
       "      <td>37.00</td>\n",
       "      <td>6</td>\n",
       "      <td>86.00</td>\n",
       "      <td>74</td>\n",
       "      <td>1</td>\n",
       "      <td>[0.0, 1.0, 0.0, 0.0]</td>\n",
       "      <td>5.00</td>\n",
       "      <td>30.00</td>\n",
       "      <td>0.31</td>\n",
       "      <td>0.64</td>\n",
       "      <td>2</td>\n",
       "      <td>86.00</td>\n",
       "    </tr>\n",
       "    <tr>\n",
       "      <th>57166</th>\n",
       "      <td>3303427</td>\n",
       "      <td>4847230</td>\n",
       "      <td>21.00</td>\n",
       "      <td>23</td>\n",
       "      <td>64.00</td>\n",
       "      <td>34</td>\n",
       "      <td>0</td>\n",
       "      <td>[1.0, 0.0, 0.0, 0.0]</td>\n",
       "      <td>17.00</td>\n",
       "      <td>2.00</td>\n",
       "      <td>0.55</td>\n",
       "      <td>0.13</td>\n",
       "      <td>2</td>\n",
       "      <td>64.00</td>\n",
       "    </tr>\n",
       "    <tr>\n",
       "      <th>57167</th>\n",
       "      <td>3984250</td>\n",
       "      <td>3754211</td>\n",
       "      <td>1.00</td>\n",
       "      <td>4</td>\n",
       "      <td>48.00</td>\n",
       "      <td>1</td>\n",
       "      <td>0</td>\n",
       "      <td>[1.0, 0.0, 0.0, 0.0]</td>\n",
       "      <td>3.00</td>\n",
       "      <td>9.00</td>\n",
       "      <td>0.21</td>\n",
       "      <td>0.41</td>\n",
       "      <td>1</td>\n",
       "      <td>4.00</td>\n",
       "    </tr>\n",
       "  </tbody>\n",
       "</table>\n",
       "<p>57168 rows × 14 columns</p>\n",
       "</div>"
      ],
      "text/plain": [
       "       target_iid  next_iid  knn_rank  NN_rank  DIN_rank  DIEN_rank  label  \\\n",
       "0         1994146   3715112      2.00        1      5.00         46      1   \n",
       "1         4749737   3119053     73.00       36     54.00         11      3   \n",
       "2         4788857   5133563     20.00       96     64.00         31      0   \n",
       "3          524337   4320227     94.00        3     48.00         75      1   \n",
       "4          582970   3031863      1.00        4     46.00         16      0   \n",
       "...           ...       ...       ...      ...       ...        ...    ...   \n",
       "57163     3251377   2944225     38.00       28      3.00         27      2   \n",
       "57164     2584880   1980098      1.00       17     64.00         11      0   \n",
       "57165     4852928   4632023     37.00        6     86.00         74      1   \n",
       "57166     3303427   4847230     21.00       23     64.00         34      0   \n",
       "57167     3984250   3754211      1.00        4     48.00          1      0   \n",
       "\n",
       "                train_label  target_occur  next_occur  target_log  next_log  \\\n",
       "0      [0.0, 1.0, 0.0, 0.0]          1.00      103.00        0.00      0.87   \n",
       "1      [0.0, 0.0, 0.0, 1.0]         12.00      119.00        0.48      0.90   \n",
       "2      [1.0, 0.0, 0.0, 0.0]          1.00        8.00        0.00      0.39   \n",
       "3      [0.0, 1.0, 0.0, 0.0]          1.00        1.00        0.00      0.00   \n",
       "4      [1.0, 0.0, 0.0, 0.0]         21.00       19.00        0.59      0.55   \n",
       "...                     ...           ...         ...         ...       ...   \n",
       "57163  [0.0, 0.0, 1.0, 0.0]         27.00        5.00        0.64      0.30   \n",
       "57164  [1.0, 0.0, 0.0, 0.0]          4.00        3.00        0.27      0.21   \n",
       "57165  [0.0, 1.0, 0.0, 0.0]          5.00       30.00        0.31      0.64   \n",
       "57166  [1.0, 0.0, 0.0, 0.0]         17.00        2.00        0.55      0.13   \n",
       "57167  [1.0, 0.0, 0.0, 0.0]          3.00        9.00        0.21      0.41   \n",
       "\n",
       "       pred  pred_rank  \n",
       "0         2       5.00  \n",
       "1         1      36.00  \n",
       "2         0      20.00  \n",
       "3         0      94.00  \n",
       "4         0       1.00  \n",
       "...     ...        ...  \n",
       "57163     0      38.00  \n",
       "57164     0       1.00  \n",
       "57165     2      86.00  \n",
       "57166     2      64.00  \n",
       "57167     1       4.00  \n",
       "\n",
       "[57168 rows x 14 columns]"
      ]
     },
     "execution_count": 51,
     "metadata": {},
     "output_type": "execute_result"
    }
   ],
   "source": [
    "df_table_testday"
   ]
  },
  {
   "cell_type": "code",
   "execution_count": 462,
   "metadata": {},
   "outputs": [
    {
     "data": {
      "text/plain": [
       "7706"
      ]
     },
     "execution_count": 462,
     "metadata": {},
     "output_type": "execute_result"
    }
   ],
   "source": [
    "y_train.tolist().count([0, 0, 0, 1])"
   ]
  },
  {
   "cell_type": "code",
   "execution_count": null,
   "metadata": {},
   "outputs": [],
   "source": []
  }
 ],
 "metadata": {
  "kernelspec": {
   "display_name": "Python 3",
   "language": "python",
   "name": "python3"
  },
  "language_info": {
   "codemirror_mode": {
    "name": "ipython",
    "version": 3
   },
   "file_extension": ".py",
   "mimetype": "text/x-python",
   "name": "python",
   "nbconvert_exporter": "python",
   "pygments_lexer": "ipython3",
   "version": "3.7.5"
  }
 },
 "nbformat": 4,
 "nbformat_minor": 4
}
